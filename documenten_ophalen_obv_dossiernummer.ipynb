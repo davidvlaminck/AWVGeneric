{
  "nbformat": 4,
  "nbformat_minor": 0,
  "metadata": {
    "colab": {
      "provenance": [],
      "authorship_tag": "ABX9TyMgmwbaLThkgtCz88xIG++N",
      "include_colab_link": true
    },
    "kernelspec": {
      "name": "python3",
      "display_name": "Python 3"
    },
    "language_info": {
      "name": "python"
    }
  },
  "cells": [
    {
      "cell_type": "markdown",
      "metadata": {
        "id": "view-in-github",
        "colab_type": "text"
      },
      "source": [
        "<a href=\"https://colab.research.google.com/github/davidvlaminck/AWVGeneric/blob/1-get-documents-linked-to-order/documenten_ophalen_obv_dossiernummer.ipynb\" target=\"_parent\"><img src=\"https://colab.research.google.com/assets/colab-badge.svg\" alt=\"Open In Colab\"/></a>"
      ]
    },
    {
      "cell_type": "markdown",
      "source": [
        "# Documenten ophalen op basis van dossiernummer\n",
        "\n",
        "Deze notebook geeft u de mogelijkheid om bestanden op te halen via de em-infra API.\n",
        "\n",
        "Als invoer dient u een **dossiernunmmer** en het **document type** op te geven.\n",
        "\n",
        "U krijgt een .zip-folder terug met de documenten en een Excel-overzicht."
      ],
      "metadata": {
        "id": "HIQwq2NrMiG7"
      }
    },
    {
      "cell_type": "markdown",
      "source": [
        "Pas eerst onderstaande tekst aan, en lanceer achtereenvervolgens de code via de *startknop* aan de linkerzijde."
      ],
      "metadata": {
        "id": "gHO7DjUsNcXi"
      }
    },
    {
      "cell_type": "code",
      "source": [
        "from API.EMInfraDomain import DocumentCategorieEnum\n",
        "print(f'De mogelijke document types zijn: {DocumentCategorieEnum}')"
      ],
      "metadata": {
        "colab": {
          "base_uri": "https://localhost:8080/",
          "height": 331
        },
        "id": "0ApbJ4S3ONFA",
        "outputId": "81c0c70f-ab28-4f5d-c140-a8964e748946"
      },
      "execution_count": 1,
      "outputs": [
        {
          "output_type": "error",
          "ename": "ModuleNotFoundError",
          "evalue": "No module named 'API'",
          "traceback": [
            "\u001b[0;31m---------------------------------------------------------------------------\u001b[0m",
            "\u001b[0;31mModuleNotFoundError\u001b[0m                       Traceback (most recent call last)",
            "\u001b[0;32m<ipython-input-1-f621a82d9ebb>\u001b[0m in \u001b[0;36m<cell line: 1>\u001b[0;34m()\u001b[0m\n\u001b[0;32m----> 1\u001b[0;31m \u001b[0;32mfrom\u001b[0m \u001b[0mAPI\u001b[0m\u001b[0;34m.\u001b[0m\u001b[0mEMInfraDomain\u001b[0m \u001b[0;32mimport\u001b[0m \u001b[0mDocumentCategorieEnum\u001b[0m\u001b[0;34m\u001b[0m\u001b[0;34m\u001b[0m\u001b[0m\n\u001b[0m\u001b[1;32m      2\u001b[0m \u001b[0mprint\u001b[0m\u001b[0;34m(\u001b[0m\u001b[0;34mf'De mogelijke document types zijn: {DocumentCategorieEnum}'\u001b[0m\u001b[0;34m)\u001b[0m\u001b[0;34m\u001b[0m\u001b[0;34m\u001b[0m\u001b[0m\n",
            "\u001b[0;31mModuleNotFoundError\u001b[0m: No module named 'API'",
            "",
            "\u001b[0;31m---------------------------------------------------------------------------\u001b[0;32m\nNOTE: If your import is failing due to a missing package, you can\nmanually install dependencies using either !pip or !apt.\n\nTo view examples of installing some common dependencies, click the\n\"Open Examples\" button below.\n\u001b[0;31m---------------------------------------------------------------------------\u001b[0m\n"
          ],
          "errorDetails": {
            "actions": [
              {
                "action": "open_url",
                "actionText": "Open Examples",
                "url": "/notebooks/snippets/importing_libraries.ipynb"
              }
            ]
          }
        }
      ]
    },
    {
      "cell_type": "code",
      "execution_count": null,
      "metadata": {
        "id": "kCueyTjcKTtJ"
      },
      "outputs": [],
      "source": [
        "from API.EMInfraDomain import DocumentCategorieEnum\n",
        "\n",
        "dossiernummer = 'VWT/DVM/2023/3'\n",
        "document_type = DocumentCategorieEnum."
      ]
    },
    {
      "cell_type": "code",
      "source": [
        "import shutil\n",
        "import tempfile\n",
        "from itertools import islice\n",
        "\n",
        "import pandas as pd\n",
        "import re\n",
        "\n",
        "from API.EMInfraClient import EMInfraClient\n",
        "from API.EMInfraDomain import DocumentCategorieEnum, QueryDTO, PagingModeEnum, SelectionDTO, ExpressionDTO, TermDTO, \\\n",
        "    OperatorEnum, ExpansionsDTO, construct_naampad\n",
        "from pathlib import Path\n",
        "from API.Enums import AuthType, Environment\n",
        "from Generic.ExcelEditor import ExcelEditor\n",
        "\n",
        "if __name__ == '__main__':\n",
        "    settings_path = Path('C:/Users/DriesVerdoodtNordend/OneDrive - Nordend/projects/AWV/resources/settings_SyncOTLDataToLegacy.json')\n",
        "    eminfra_client = EMInfraClient(env=Environment.PRD, auth_type=AuthType.JWT, settings_path=settings_path)\n",
        "\n",
        "    edelta_dossiernummer = 'VWT/DVM/2023/3'\n",
        "    categorie = DocumentCategorieEnum.KEURINGSVERSLAG\n",
        "    print(f'Ophalen van alle documenten van het type {categorie}, voor dossiernummer {edelta_dossiernummer}.')\n",
        "\n",
        "    # Get assets (incl. parents) based on bestek_ref_uuid\n",
        "    bestek_ref = eminfra_client.get_bestekref_by_eDelta_dossiernummer(edelta_dossiernummer)\n",
        "    bestek_ref_uuid = bestek_ref[0].uuid\n",
        "    query_dto_search_assets = QueryDTO(size=5, from_=0, pagingMode=PagingModeEnum.OFFSET,\n",
        "                         selection=SelectionDTO(\n",
        "                             expressions=[ExpressionDTO(\n",
        "                                 terms=[TermDTO(property='actiefBestek',\n",
        "                                                operator=OperatorEnum.EQ,\n",
        "                                                value=f'{bestek_ref_uuid}')])]\n",
        "                         )\n",
        "                         , expansions=ExpansionsDTO(fields=[\"parent\"])\n",
        "                         )\n",
        "    # Include a maximum number of assets during development\n",
        "    # max_assets = 5\n",
        "    # asset_bucket = list(islice(eminfra_client.search_assets(query_dto_search_assets), max_assets))\n",
        "    asset_bucket = list(eminfra_client.search_assets(query_dto_search_assets))\n",
        "\n",
        "    # Store assets in a pandas dataframe\n",
        "    df_assets = pd.DataFrame(columns=[\"uuid\", \"assettype\", \"naam\", \"naampad\", \"actief\", \"toestand\", \"gemeente\", \"provincie\", \"document_categorie\", \"document_naam\", \"document_uuid\"])\n",
        "    for i, asset in enumerate(asset_bucket):\n",
        "        df_assets.loc[i, \"uuid\"] = asset.uuid\n",
        "        df_assets.loc[i, \"assettype\"] = asset.type.afkorting\n",
        "        df_assets.loc[i, \"naam\"] = asset.naam\n",
        "        df_assets.loc[i, \"naampad\"] = construct_naampad(asset)\n",
        "        df_assets.loc[i, \"actief\"] = asset.actief\n",
        "        df_assets.loc[i, \"toestand\"] = asset.toestand.value\n",
        "        locatiekenmerk = eminfra_client.get_kenmerk_locatie_by_asset_uuid(asset.uuid)\n",
        "        if locatiekenmerk.locatie: # Skip when locatiekenmerk is None\n",
        "            locatie_adres = locatiekenmerk.locatie.get('adres')\n",
        "            if locatie_adres:\n",
        "                df_assets.loc[i, \"gemeente\"] = locatie_adres.get('gemeente')\n",
        "                df_assets.loc[i, \"provincie\"] = locatie_adres.get('provincie')\n",
        "\n",
        "    # build query to download documents\n",
        "    query_dto_search_documents = QueryDTO(size=5, from_=0, pagingMode=PagingModeEnum.OFFSET,\n",
        "                         selection=SelectionDTO(\n",
        "                             expressions=[ExpressionDTO(\n",
        "                                 terms=[TermDTO(property='categorie',\n",
        "                                                operator=OperatorEnum.EQ,\n",
        "                                                value=categorie)])]))\n",
        "\n",
        "    # Create temp folder, download all .pdf-files, write overview and zip all results to an output folder (Downloads).\n",
        "    downloads_path = Path.home() / \"Downloads\"\n",
        "    with tempfile.TemporaryDirectory() as temp_dir:\n",
        "        temp_path = Path(temp_dir)\n",
        "\n",
        "        print(\"Downloading documents...\")\n",
        "        len_asset_bucket = len(asset_bucket)\n",
        "        for i, asset in enumerate(asset_bucket):\n",
        "            # Check if progress reaches a new tenth percentage\n",
        "            if len_asset_bucket == 0:\n",
        "                print(\"No elements to process.\")\n",
        "            else:\n",
        "                step = max(1, len_asset_bucket // 10)  # Ensure step is at least 1\n",
        "                # Check if progress reaches a new tenth percentage\n",
        "                if i % step == 0 or i == len_asset_bucket:\n",
        "                    percentage = (i * 100) // len_asset_bucket\n",
        "                    print(f\"Processed {percentage}%\")\n",
        "\n",
        "            documents = eminfra_client.search_documents_by_asset_uuid(asset_uuid=asset.uuid, query_dto=query_dto_search_documents)\n",
        "            for document in documents:\n",
        "                # Append document info to the pandas dataframe\n",
        "                df_assets.loc[df_assets[\"uuid\"] == asset.uuid, \"document_categorie\"] = document.categorie.value\n",
        "                df_assets.loc[df_assets[\"uuid\"] == asset.uuid, \"document_naam\"] = document.naam\n",
        "                df_assets.loc[df_assets[\"uuid\"] == asset.uuid, \"document_uuid\"] = document.uuid\n",
        "\n",
        "                # Write document to temp_dir\n",
        "                eminfra_client.download_document(document=document, directory=temp_path)\n",
        "\n",
        "        # Write overview to temp_dir\n",
        "        edelta_dossiernummer_str = re.sub('[^0-9a-zA-Z]+', '_', edelta_dossiernummer) # replace all non-alphanumeric characters with an underscore\n",
        "        output_file_path_excel = temp_path / f'{edelta_dossiernummer_str}_overzicht_{categorie.value}.xlsx'\n",
        "        df_assets.to_excel(excel_writer=output_file_path_excel\n",
        "                           , sheet_name=edelta_dossiernummer_str\n",
        "                           , index=False\n",
        "                           , engine=\"openpyxl\")\n",
        "\n",
        "        excelEditor = ExcelEditor(output_file_path_excel)\n",
        "        excelEditor.convert_uuid_to_formula(sheet=edelta_dossiernummer_str, link_type='eminfra', env=Environment.PRD)\n",
        "\n",
        "        # Zip the output and remove the temp folder\n",
        "        zip_path = downloads_path / 'output'  # The output path of the zip file (without extension)\n",
        "        shutil.make_archive(str(zip_path), 'zip', root_dir=str(temp_dir))\n",
        "        print(f\"Folder {temp_dir} has been zipped to {zip_path}.zip.\")"
      ],
      "metadata": {
        "id": "IHkFm0ztK0-C"
      },
      "execution_count": null,
      "outputs": []
    }
  ]
}
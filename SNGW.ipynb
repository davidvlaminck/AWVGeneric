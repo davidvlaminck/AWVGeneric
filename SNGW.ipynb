{
  "nbformat": 4,
  "nbformat_minor": 0,
  "metadata": {
    "colab": {
      "provenance": [],
      "include_colab_link": true
    },
    "kernelspec": {
      "name": "python3",
      "display_name": "Python 3"
    },
    "language_info": {
      "name": "python"
    }
  },
  "cells": [
    {
      "cell_type": "markdown",
      "metadata": {
        "id": "view-in-github",
        "colab_type": "text"
      },
      "source": [
        "<a href=\"https://colab.research.google.com/github/davidvlaminck/AWVGeneric/blob/master/SNGW.ipynb\" target=\"_parent\"><img src=\"https://colab.research.google.com/assets/colab-badge.svg\" alt=\"Open In Colab\"/></a>"
      ]
    },
    {
      "cell_type": "markdown",
      "source": [
        "Pas eerst onderstaande parameters aan en voer het script uit. Elke keer je de parameters aanpast, moet je ook het script uitvoeren."
      ],
      "metadata": {
        "id": "n4tPUGU6EbTJ"
      }
    },
    {
      "cell_type": "code",
      "source": [
        "type_uris = ['https://wegenenverkeer.data.vlaanderen.be/ns/onderdeel#Asfaltmat']\n",
        "\n",
        "awv_acm_cookie = '55eb0c4eef5d41debd0d639c4db7e37c'"
      ],
      "metadata": {
        "id": "FHBxj-wbEZ49"
      },
      "execution_count": 9,
      "outputs": []
    },
    {
      "cell_type": "markdown",
      "source": [
        "Voer onderstaande script uit om de GitHub repo te clonen."
      ],
      "metadata": {
        "id": "xN9_2xTBNLBw"
      }
    },
    {
      "cell_type": "code",
      "source": [
        "! git clone https://github.com/davidvlaminck/AWVGeneric"
      ],
      "metadata": {
        "colab": {
          "base_uri": "https://localhost:8080/"
        },
        "id": "PB2Vu27UNJv_",
        "outputId": "ca9ca63c-e852-448a-8ca3-841a414e3af5"
      },
      "execution_count": 1,
      "outputs": [
        {
          "output_type": "stream",
          "name": "stdout",
          "text": [
            "Cloning into 'AWVGeneric'...\n",
            "remote: Enumerating objects: 16, done.\u001b[K\n",
            "remote: Counting objects: 100% (16/16), done.\u001b[K\n",
            "remote: Compressing objects: 100% (14/14), done.\u001b[K\n",
            "remote: Total 16 (delta 3), reused 15 (delta 2), pack-reused 0 (from 0)\u001b[K\n",
            "Receiving objects: 100% (16/16), 7.61 KiB | 1.52 MiB/s, done.\n",
            "Resolving deltas: 100% (3/3), done.\n"
          ]
        }
      ]
    },
    {
      "cell_type": "markdown",
      "source": [
        "Voer onderstaande script uit om de SN Gateway te query'en"
      ],
      "metadata": {
        "id": "bggbyMPdNntl"
      }
    },
    {
      "cell_type": "code",
      "execution_count": 11,
      "metadata": {
        "colab": {
          "base_uri": "https://localhost:8080/"
        },
        "id": "-9BFRt5tDflg",
        "outputId": "b4db1ea5-0bd4-43e4-a342-4f9715c1d860"
      },
      "outputs": [
        {
          "output_type": "stream",
          "name": "stdout",
          "text": [
            "+----+---------+---------+---------+-----+---------+\n",
            "| id | version | created | updated | uri | enabled |\n",
            "+----+---------+---------+---------+-----+---------+\n",
            "+----+---------+---------+---------+-----+---------+\n"
          ]
        }
      ],
      "source": [
        "import sys\n",
        "sys.path.insert(0, '/content/AWVGeneric') # adds the Python files from the GitHub repo\n",
        "\n",
        "from pathlib import Path\n",
        "from prettytable import PrettyTable\n",
        "\n",
        "from API.RequesterFactory import RequesterFactory\n",
        "from API.SNGatewayClient import SNGatewayClient\n",
        "from API.Enums import AuthType, Environment\n",
        "\n",
        "\n",
        "requester = RequesterFactory.create_requester(cookie=awv_acm_cookie, auth_type=AuthType.COOKIE, env=Environment.PRD)\n",
        "sn_client = SNGatewayClient(requester=requester)\n",
        "\n",
        "# for uri in type_uris:\n",
        "#     sn_client.add_new_asset_filter(uri=uri, enabled=True)\n",
        "\n",
        "json_data = sn_client.get_all_asset_filters()\n",
        "headers = ['id', 'version', 'created', 'updated', 'uri', 'enabled']\n",
        "rows = [[row.get(h, '') for h in headers] for row in sorted(json_data, key=lambda x: x['updated'], reverse=True)]\n",
        "\n",
        "table = PrettyTable(headers)\n",
        "table.add_rows(rows)\n",
        "print(table)"
      ]
    }
  ]
}

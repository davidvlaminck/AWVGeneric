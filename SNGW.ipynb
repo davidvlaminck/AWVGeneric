{
  "nbformat": 4,
  "nbformat_minor": 0,
  "metadata": {
    "colab": {
      "provenance": [],
      "include_colab_link": true
    },
    "kernelspec": {
      "name": "python3",
      "display_name": "Python 3"
    },
    "language_info": {
      "name": "python"
    }
  },
  "cells": [
    {
      "cell_type": "markdown",
      "metadata": {
        "id": "view-in-github",
        "colab_type": "text"
      },
      "source": [
        "<a href=\"https://colab.research.google.com/github/davidvlaminck/AWVGeneric/blob/master/SNGW.ipynb\" target=\"_parent\"><img src=\"https://colab.research.google.com/assets/colab-badge.svg\" alt=\"Open In Colab\"/></a>"
      ]
    },
    {
      "cell_type": "markdown",
      "source": [
        "Pas eerst onderstaande parameters aan en voer het script uit. Elke keer je de parameters aanpast, moet je ook het script uitvoeren."
      ],
      "metadata": {
        "id": "n4tPUGU6EbTJ"
      }
    },
    {
      "cell_type": "code",
      "source": [
        "type_uris = ['https://wegenenverkeer.data.vlaanderen.be/ns/onderdeel#Asfaltmat']\n",
        "\n",
        "awv_acm_cookie = '55eb0c4eef5d41debd0d639c4db7e37c'"
      ],
      "metadata": {
        "id": "FHBxj-wbEZ49"
      },
      "execution_count": null,
      "outputs": []
    },
    {
      "cell_type": "markdown",
      "source": [
        "Voer onderstaande script uit om de GitHub repo te clonen."
      ],
      "metadata": {
        "id": "xN9_2xTBNLBw"
      }
    },
    {
      "cell_type": "code",
      "source": [
        "import os, shutil\n",
        "if os.path.exists('AWVGeneric'):\n",
        "  shutil.rmtree('AWVGeneric')\n",
        "! git clone https://github.com/davidvlaminck/AWVGeneric"
      ],
      "metadata": {
        "colab": {
          "base_uri": "https://localhost:8080/"
        },
        "id": "PB2Vu27UNJv_",
        "outputId": "8b735c48-b9e2-45cb-da16-a0989d41c818"
      },
      "execution_count": null,
      "outputs": [
        {
          "output_type": "stream",
          "name": "stdout",
          "text": [
            "Cloning into 'AWVGeneric'...\n",
            "remote: Enumerating objects: 140, done.\u001b[K\n",
            "remote: Counting objects: 100% (140/140), done.\u001b[K\n",
            "remote: Compressing objects: 100% (89/89), done.\u001b[K\n",
            "remote: Total 140 (delta 80), reused 102 (delta 44), pack-reused 0 (from 0)\u001b[K\n",
            "Receiving objects: 100% (140/140), 32.97 KiB | 544.00 KiB/s, done.\n",
            "Resolving deltas: 100% (80/80), done.\n"
          ]
        }
      ]
    },
    {
      "cell_type": "markdown",
      "source": [
        "Voer onderstaande script uit om de SN Gateway te query'en. In de for-loop, die standaard uitgecomment staat, kan je \"enable_asset_filter\" ook vervangen door \"disable_asset_filter\""
      ],
      "metadata": {
        "id": "bggbyMPdNntl"
      }
    },
    {
      "cell_type": "code",
      "execution_count": null,
      "metadata": {
        "colab": {
          "base_uri": "https://localhost:8080/"
        },
        "id": "-9BFRt5tDflg",
        "outputId": "b4db1ea5-0bd4-43e4-a342-4f9715c1d860"
      },
      "outputs": [
        {
          "output_type": "stream",
          "name": "stdout",
          "text": [
            "+----+---------+---------+---------+-----+---------+\n",
            "| id | version | created | updated | uri | enabled |\n",
            "+----+---------+---------+---------+-----+---------+\n",
            "+----+---------+---------+---------+-----+---------+\n"
          ]
        }
      ],
      "source": [
        "import sys\n",
        "sys.path.insert(0, '/content/AWVGeneric')  # adds the Python files from the GitHub repo\n",
        "\n",
        "from pathlib import Path\n",
        "from prettytable import PrettyTable\n",
        "\n",
        "from API.SNGatewayClient import SNGatewayClient\n",
        "from API.Enums import AuthType, Environment\n",
        "\n",
        "\n",
        "sn_client = SNGatewayClient(cookie=awv_acm_cookie, auth_type=AuthType.COOKIE, env=Environment.PRD)  # change environment here\n",
        "\n",
        "# for uri in type_uris:\n",
        "#     sn_client.enable_asset_filter(uri=uri)\n",
        "\n",
        "json_data = sn_client.get_all_asset_filters()\n",
        "headers = ['id', 'version', 'created', 'updated', 'uri', 'enabled']\n",
        "rows = [[row.get(h, '') for h in headers] for row in sorted(json_data, key=lambda x: x['updated'], reverse=True)]\n",
        "\n",
        "table = PrettyTable(headers)\n",
        "table.add_rows(rows)\n",
        "print(table)"
      ]
    }
  ]
}
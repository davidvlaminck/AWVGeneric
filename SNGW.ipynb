{
  "nbformat": 4,
  "nbformat_minor": 0,
  "metadata": {
    "colab": {
      "provenance": [],
      "include_colab_link": true
    },
    "kernelspec": {
      "name": "python3",
      "display_name": "Python 3"
    },
    "language_info": {
      "name": "python"
    }
  },
  "cells": [
    {
      "cell_type": "markdown",
      "metadata": {
        "id": "view-in-github",
        "colab_type": "text"
      },
      "source": [
        "<a href=\"https://colab.research.google.com/github/davidvlaminck/AWVGeneric/blob/master/SNGW.ipynb\" target=\"_parent\"><img src=\"https://colab.research.google.com/assets/colab-badge.svg\" alt=\"Open In Colab\"/></a>"
      ]
    },
    {
      "cell_type": "markdown",
      "source": [
        "Pas eerst onderstaande parameters aan en voer het script uit. Elke keer je de parameters aanpast, moet je ook het script uitvoeren."
      ],
      "metadata": {
        "id": "n4tPUGU6EbTJ"
      }
    },
    {
      "cell_type": "code",
      "source": [
        "type_uris = ['https://wegenenverkeer.data.vlaanderen.be/ns/onderdeel#Asfaltmat']\n",
        "\n",
        "awv_acm_cookie = '4f778a11e3574ea4a7fc38bc6acaf5d3'"
      ],
      "metadata": {
        "id": "FHBxj-wbEZ49"
      },
      "execution_count": 1,
      "outputs": []
    },
    {
      "cell_type": "markdown",
      "source": [
        "Voer onderstaande script uit om de GitHub repo te clonen."
      ],
      "metadata": {
        "id": "xN9_2xTBNLBw"
      }
    },
    {
      "cell_type": "code",
      "source": [
        "import os, shutil\n",
        "if os.path.exists('AWVGeneric'):\n",
        "  shutil.rmtree('AWVGeneric')\n",
        "! git clone https://github.com/davidvlaminck/AWVGeneric"
      ],
      "metadata": {
        "colab": {
          "base_uri": "https://localhost:8080/"
        },
        "id": "PB2Vu27UNJv_",
        "outputId": "5aecbf85-4ca8-4754-ef2a-7957a756443b"
      },
      "execution_count": 2,
      "outputs": [
        {
          "output_type": "stream",
          "name": "stdout",
          "text": [
            "Cloning into 'AWVGeneric'...\n",
            "remote: Enumerating objects: 791, done.\u001b[K\n",
            "remote: Counting objects: 100% (258/258), done.\u001b[K\n",
            "remote: Compressing objects: 100% (111/111), done.\u001b[K\n",
            "remote: Total 791 (delta 189), reused 187 (delta 142), pack-reused 533 (from 1)\u001b[K\n",
            "Receiving objects: 100% (791/791), 938.83 KiB | 6.39 MiB/s, done.\n",
            "Resolving deltas: 100% (474/474), done.\n"
          ]
        }
      ]
    },
    {
      "cell_type": "markdown",
      "source": [
        "Voer onderstaande script uit om de SN Gateway te query'en. In de for-loop, die standaard uitgecomment staat, kan je \"enable_asset_filter\" ook vervangen door \"disable_asset_filter\""
      ],
      "metadata": {
        "id": "bggbyMPdNntl"
      }
    },
    {
      "cell_type": "code",
      "execution_count": 6,
      "metadata": {
        "colab": {
          "base_uri": "https://localhost:8080/"
        },
        "id": "-9BFRt5tDflg",
        "outputId": "e81e19d9-5741-4b13-9d04-5fd262196a5f"
      },
      "outputs": [
        {
          "output_type": "stream",
          "name": "stdout",
          "text": [
            "+--------------------------------------+---------+----------------------------+----------------------------+-------------------------------------------------------------------------------------+---------+\n",
            "|                  id                  | version |          created           |          updated           |                                         uri                                         | enabled |\n",
            "+--------------------------------------+---------+----------------------------+----------------------------+-------------------------------------------------------------------------------------+---------+\n",
            "| ae03d499-f1a7-480e-9dda-69eb71c634af |    1    | 2025-02-18T11:43:04.614425 | 2025-02-18T12:05:45.794255 |        https://wegenenverkeer.data.vlaanderen.be/ns/onderdeel/#FietstelDisplay      |  False  |\n",
            "| 850a9b64-f75a-46b0-9f4e-d4fd26264f1b |    1    | 2025-02-18T11:44:30.540499 | 2025-02-18T12:05:02.277248 |     https://wegenenverkeer.data.vlaanderen.be/ns/installatie/#Fietstelinstallatie   |  False  |\n",
            "| fddd2905-56c2-4ec0-ba34-91f9b6b7cc41 |    1    | 2025-02-18T09:43:41.079603 | 2025-02-18T12:02:50.21725  |         https://wegenenverkeer.data.vlaanderen.be/ns/onderdeel/#Elektromotor        |  False  |\n",
            "| ad1623c6-523f-429b-b677-e755cf8b12e7 |    0    | 2025-02-18T12:01:27.321647 | 2025-02-18T12:01:27.321647 |       https://wegenenverkeer.data.vlaanderen.be/ns/onderdeel/#FietstelDisplay       |   True  |\n",
            "| c1cdcd65-9a91-4496-8af8-a6ce27f45c2b |    0    | 2025-02-18T12:00:42.859465 | 2025-02-18T12:00:42.859465 |    https://wegenenverkeer.data.vlaanderen.be/ns/installatie/#Fietstelinstallatie    |   True  |\n",
            "| 93f5f470-bac6-4f2c-9802-896712d7a135 |    0    | 2025-02-18T11:24:35.999384 | 2025-02-18T11:24:35.999384 |         https://wegenenverkeer.data.vlaanderen.be/ns/onderdeel/#Elektromotor        |  False  |\n",
            "| 4a2626a4-5ee1-40a5-b9aa-f2cc332ef44f |    0    | 2025-02-18T09:43:05.044768 | 2025-02-18T09:43:05.044768 |             https://wegenenverkeer.data.vlaanderen.be/ns/onderdeel/#Silo            |   True  |\n",
            "| f589dfd5-0925-42df-9179-17ccddd21fc1 |    0    | 2025-02-18T09:42:14.898656 | 2025-02-18T09:42:14.898656 |             https://wegenenverkeer.data.vlaanderen.be/ns/onderdeel/#Tank            |   True  |\n",
            "| 4722e4d5-3a59-4bdd-b793-c3e1ebf2f340 |    0    | 2025-02-18T09:41:19.67576  | 2025-02-18T09:41:19.67576  |     https://wegenenverkeer.data.vlaanderen.be/ns/installatie/#Zoutbijlaadplaats     |   True  |\n",
            "| 6d6ea528-639c-445c-832a-40cc074c0432 |    1    | 2025-02-11T10:18:32.797728 | 2025-02-11T10:56:07.793627 | https://wegenenverkeer.data.vlaanderen.be/ns/installatie#RadioHeruitzendinstallatie |  False  |\n",
            "+--------------------------------------+---------+----------------------------+----------------------------+-------------------------------------------------------------------------------------+---------+\n"
          ]
        }
      ],
      "source": [
        "import sys\n",
        "sys.path.insert(0, '/content/AWVGeneric')  # adds the Python files from the GitHub repo\n",
        "\n",
        "from pathlib import Path\n",
        "from prettytable import PrettyTable\n",
        "\n",
        "from API.SNGatewayClient import SNGatewayClient\n",
        "from API.Enums import AuthType, Environment\n",
        "\n",
        "\n",
        "sn_client = SNGatewayClient(cookie=awv_acm_cookie, auth_type=AuthType.COOKIE, env=Environment.PRD)  # change environment here\n",
        "\n",
        "# for uri in [u.strip() for u in type_uris]:\n",
        "#     sn_client.enable_asset_filter(uri=uri)\n",
        "\n",
        "json_data = sn_client.get_all_asset_filters()\n",
        "headers = ['id', 'version', 'created', 'updated', 'uri', 'enabled']\n",
        "rows = [[row.get(h, '') for h in headers] for row in sorted(json_data, key=lambda x: x['updated'], reverse=True)]\n",
        "\n",
        "table = PrettyTable(headers)\n",
        "table.add_rows(rows)\n",
        "print(table)"
      ]
    }
  ]
}
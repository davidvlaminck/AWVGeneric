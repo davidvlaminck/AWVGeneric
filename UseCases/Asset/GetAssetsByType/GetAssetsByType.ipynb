{
  "nbformat": 4,
  "nbformat_minor": 0,
  "metadata": {
    "colab": {
      "provenance": [],
      "include_colab_link": true
    },
    "kernelspec": {
      "name": "python3",
      "display_name": "Python 3"
    },
    "language_info": {
      "name": "python"
    }
  },
  "cells": [
    {
      "cell_type": "markdown",
      "metadata": {
        "id": "view-in-github",
        "colab_type": "text"
      },
      "source": [
        "<a href=\"https://colab.research.google.com/github/davidvlaminck/AWVGeneric/blob/master/UseCases/GetAssetsByType/GetAssetsByType.ipynb\" target=\"_parent\"><img src=\"https://colab.research.google.com/assets/colab-badge.svg\" alt=\"Open In Colab\"/></a>"
      ]
    },
    {
      "cell_type": "markdown",
      "source": [
        "Pas eerst onderstaande parameter aan en voer het script uit. Een cookie vervalt binnen de 24 uur. Je kan [hier](https://sites.google.com/mow.vlaanderen.be/em-infra/afspraken-conventies/awv-cookie-ophalen) lezen hoe je de AWV ACM cookie kan ophalen."
      ],
      "metadata": {
        "id": "n4tPUGU6EbTJ"
      }
    },
    {
      "cell_type": "code",
      "source": [
        "awv_acm_cookie = '9888afc27f3046d791bf23b6d0572198'"
      ],
      "metadata": {
        "id": "FHBxj-wbEZ49"
      },
      "execution_count": null,
      "outputs": []
    },
    {
      "cell_type": "markdown",
      "source": [
        "Voer onderstaande script uit om de GitHub repo te clonen."
      ],
      "metadata": {
        "id": "xN9_2xTBNLBw"
      }
    },
    {
      "cell_type": "code",
      "source": [
        "import os, shutil\n",
        "if os.path.exists('AWVGeneric'):\n",
        "  shutil.rmtree('AWVGeneric')\n",
        "! git clone https://github.com/davidvlaminck/AWVGeneric"
      ],
      "metadata": {
        "colab": {
          "base_uri": "https://localhost:8080/"
        },
        "id": "PB2Vu27UNJv_",
        "outputId": "e1e22257-f1b4-4475-85cd-dba9d31123c1"
      },
      "execution_count": null,
      "outputs": [
        {
          "output_type": "stream",
          "name": "stdout",
          "text": [
            "Cloning into 'AWVGeneric'...\n",
            "remote: Enumerating objects: 467, done.\u001b[K\n",
            "remote: Counting objects: 100% (224/224), done.\u001b[K\n",
            "remote: Compressing objects: 100% (115/115), done.\u001b[K\n",
            "remote: Total 467 (delta 147), reused 159 (delta 99), pack-reused 243 (from 1)\u001b[K\n",
            "Receiving objects: 100% (467/467), 882.63 KiB | 3.92 MiB/s, done.\n",
            "Resolving deltas: 100% (275/275), done.\n"
          ]
        }
      ]
    },
    {
      "cell_type": "markdown",
      "source": [
        "Voer onderstaande script uit om alle assets van een bepaald type te downloaden. Je kan de typeUri parameter aanpassen, zie https://apps.mow.vlaanderen.be/eminfra/admin/installatietypes"
      ],
      "metadata": {
        "id": "bggbyMPdNntl"
      }
    },
    {
      "cell_type": "code",
      "execution_count": null,
      "metadata": {
        "colab": {
          "base_uri": "https://localhost:8080/"
        },
        "id": "-9BFRt5tDflg",
        "outputId": "70b57175-f77c-430c-f189-c497a3bb71e1"
      },
      "outputs": [
        {
          "output_type": "stream",
          "name": "stdout",
          "text": [
            "Downloading...\n",
            "Done.\n"
          ]
        }
      ],
      "source": [
        "import sys\n",
        "sys.path.insert(0, '/content/AWVGeneric')  # adds the Python files from the GitHub repo\n",
        "\n",
        "import json\n",
        "from pathlib import Path\n",
        "\n",
        "from API.EMInfraClient import EMInfraClient\n",
        "from API.Enums import Environment, AuthType\n",
        "\n",
        "\n",
        "if __name__ == '__main__':\n",
        "    eminfra_client = EMInfraClient(env=Environment.PRD, auth_type=AuthType.COOKIE, cookie=awv_acm_cookie)\n",
        "    generator_assets = eminfra_client.get_objects_from_oslo_search_endpoint(url_part='assets', filter_string={\n",
        "        \"typeUri\": 'https://lgc.data.wegenenverkeer.be/ns/installatie#SeinbrugDVM',\n",
        "        # uri uit https://apps.mow.vlaanderen.be/eminfra/admin/installatietypes/6f66dad8-8290-4d07-8e8b-6add6c7fe723\n",
        "        'actief': True})\n",
        "\n",
        "    print('Downloading...')\n",
        "    all_assets = list(generator_assets)\n",
        "    with open(Path('seinbruggen.json'), 'w') as json_file:\n",
        "        json.dump(all_assets, json_file, indent=4)\n",
        "    print('Done.')"
      ]
    }
  ]
}
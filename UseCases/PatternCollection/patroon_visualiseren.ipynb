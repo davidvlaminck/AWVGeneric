{
  "nbformat": 4,
  "nbformat_minor": 0,
  "metadata": {
    "colab": {
      "provenance": [],
      "include_colab_link": true
    },
    "kernelspec": {
      "name": "python3",
      "display_name": "Python 3"
    },
    "language_info": {
      "name": "python"
    }
  },
  "cells": [
    {
      "cell_type": "markdown",
      "metadata": {
        "id": "view-in-github",
        "colab_type": "text"
      },
      "source": [
        "<a href=\"https://colab.research.google.com/github/davidvlaminck/AWVGeneric/blob/master/UseCases/PatternCollection/patroon_visualiseren.ipynb\" target=\"_parent\"><img src=\"https://colab.research.google.com/assets/colab-badge.svg\" alt=\"Open In Colab\"/></a>"
      ]
    },
    {
      "cell_type": "markdown",
      "source": [
        "# Asset visualiseren o.b.v. een vast patroon\n",
        "\n",
        "Achterliggend wordt gebruik gemaakt van de [EM-Infra API](https://apps.mow.vlaanderen.be/eminfra/core/swagger-ui/).\n",
        "\n",
        "Lanceer via de play-knop ![image.png](data:image/png;base64,iVBORw0KGgoAAAANSUhEUgAAACEAAAAgCAYAAACcuBHKAAAAAXNSR0IArs4c6QAAAARnQU1BAACxjwv8YQUAAAAJcEhZcwAADsMAAA7DAcdvqGQAAAHySURBVFhH7ZbNSwJRFMVPQiqOYSiCiIW2cCGILly5EAyx+osrceVCEAwU0YWLdCEiiJbkd2B5hysiM/Pm9WmBP5D3vMM7HmaO987RbDZ7w56x8LpXDiY2HExs+P8mFouF+vkqH+4TrVYL3W4Xg8EAq9VKrVksFng8Hvj9foRCIbX2EaRN9Ho91Go1TCYTruijKAqi0Sh8Ph9XzDE00e/3cXt/h9flK0ajEU5dLrjdbr4qZjweY/j8BMWh4Nh6jJura3i9Xr6qRZiJE+cJLtNpXKxvsawBwul04jxwpp4lDTNMg1mv13m3hZ69jCm9s3oITQyHQ8MMpFIpxONx2O12rmihs6RhhtAEZUFEMBhENptFOBzmihYzDUJoYjqd8s4Y+ntGIhFkMhkEAgGubpHS4FXDcrnEG/cBGSiMiUQCyWRyJy+kQVoiTIP5GxiasFqtOFrfalmoN5TLZRSLxZ0wkgZpiRD+isPh4J0x1LobjQby+Tw6nQ5Xt8hoCE241l1SRLvdRi6XQ7PZ5IoWMw1CaIICRrNAj0KhgEqlgvl8zhUtdFamqQlNvIxf8LiemqVSaec50xQVNSE1Hw9l9SxpmCE1RWl8V6tV/iZHLBaTHut/e5QbsdeXGj02r3Y2m01dP8uXTHwX8i3xBzmY2PAHTADvcY7fS1N4thIAAAAASUVORK5CYII=)\n",
        "aan de linkerzijde achtereenvolgens ieder blokje code.\n",
        "\n",
        "Activeer de blokjes één voor één en voer de instructies uit in volgorde."
      ],
      "metadata": {
        "id": "HIQwq2NrMiG7"
      }
    },
    {
      "cell_type": "markdown",
      "source": [
        "Voer onderstaand code uit. Dit haalt code op en installeert packages."
      ],
      "metadata": {
        "id": "baEClYP0BaCH"
      }
    },
    {
      "cell_type": "code",
      "source": [
        "import os, shutil\n",
        "import sys\n",
        "if os.path.exists('AWVGeneric'):\n",
        "  shutil.rmtree('AWVGeneric')\n",
        "!git clone https://github.com/davidvlaminck/AWVGeneric.git\n",
        "sys.path.insert(0, '/content/AWVGeneric')  # adds the Python files from the GitHub repo to the sys-path.\n",
        "\n",
        "!pip install pyvis\n",
        "!pip install more_itertools"
      ],
      "metadata": {
        "id": "HeTbJbGkRh4A",
        "collapsed": true
      },
      "execution_count": null,
      "outputs": []
    },
    {
      "cell_type": "markdown",
      "source": [
        "## Parameters instellen\n",
        "Haal een cookie op volgens [deze instructies](https://sites.google.com/mow.vlaanderen.be/em-infra/afspraken-conventies/awv-cookie-ophalen).\n",
        "Vul deze hieronder in, en pas eventueel de filters aan.\n",
        "Druk daarna op de play-knop"
      ],
      "metadata": {
        "id": "0ptNEH8kkpwj"
      }
    },
    {
      "cell_type": "code",
      "source": [
        "    cookie = '67f8bbadaade4e8487232ec815946e68'\n",
        "    filter_dict = {\n",
        "        'typeUri': 'https://wegenenverkeer.data.vlaanderen.be/ns/installatie#MIVModule',\n",
        "        'naam' : 'MIV230'\n",
        "    }"
      ],
      "metadata": {
        "id": "b9scpKTo6wNG"
      },
      "execution_count": 2,
      "outputs": []
    },
    {
      "cell_type": "markdown",
      "source": [
        "## Visualisatie genereren\n",
        "Voer de code hieronder uit om\n",
        "- de assets op te halen via de API, volgens het gecodeerde patroon\n",
        "- een html visualisatie te genereren\n",
        "\n",
        "Je kan de visualisatie in dit venster zien, of je kan de html downloaden, die links bij Bestanden staat."
      ],
      "metadata": {
        "id": "Pef2CnTI913C"
      }
    },
    {
      "cell_type": "code",
      "source": [
        "from API.Enums import AuthType, Environment\n",
        "from AWVGeneric.UseCases.PatternCollection.Domain.PatternVisualiser import PatternVisualiser\n",
        "from AWVGeneric.UseCases.PatternCollection.Domain.PyVisWrapper import PyVisWrapper\n",
        "from IPython.display import HTML\n",
        "\n",
        "syncer = PatternVisualiser(cookie=cookie, auth_type=AuthType.COOKIE, env=Environment.PRD)\n",
        "pattern = [('uuids', 'of', 'a'),\n",
        "           ('a', 'type_of', ['installatie#MIVModule']),\n",
        "           ('a', '-[r1]-', 'b'),\n",
        "           ('a', '-[r2]-', 'c'),\n",
        "           ('a', '-[r2]-', 'e'),\n",
        "           ('c', '-[r1]-', 'd'),\n",
        "           ('b', 'type_of', ['onderdeel#Wegkantkast']),\n",
        "           ('c', 'type_of', ['onderdeel#Netwerkpoort']),\n",
        "           ('d', 'type_of', ['onderdeel#Netwerkelement']),\n",
        "           ('e', 'type_of', ['installatie#MIVMeetpunt']),\n",
        "           ('r1', 'type_of', ['onderdeel#Bevestiging']),\n",
        "           ('r2', 'type_of', ['onderdeel#Sturing'])\n",
        "           ]\n",
        "chosen_assets = syncer.em_infra_client.get_assets_by_filter(filter=filter_dict)\n",
        "\n",
        "syncer.collect_info_given_asset_uuids(asset_uuids=[x['@id'][39:75] for x in chosen_assets],\n",
        "                                      asset_info_collector=syncer.collector, pattern=pattern)\n",
        "print(f'Fetched {len(syncer.collector.collection.object_dict)} objects from the API')\n",
        "PyVisWrapper().show(syncer.collector.collection.object_dict.values(), launch_html=False, notebook_mode=True)\n",
        "HTML(filename=\"example.html\")"
      ],
      "metadata": {
        "id": "QkZgSMWXSph2"
      },
      "execution_count": null,
      "outputs": []
    }
  ]
}
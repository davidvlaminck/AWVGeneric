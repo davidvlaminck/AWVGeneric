{
  "nbformat": 4,
  "nbformat_minor": 0,
  "metadata": {
    "colab": {
      "provenance": [],
      "include_colab_link": true
    },
    "kernelspec": {
      "name": "python3",
      "display_name": "Python 3"
    },
    "language_info": {
      "name": "python"
    }
  },
  "cells": [
    {
      "cell_type": "markdown",
      "metadata": {
        "id": "view-in-github",
        "colab_type": "text"
      },
      "source": [
        "<a href=\"https://colab.research.google.com/github/davidvlaminck/AWVGeneric/blob/master/UseCases/AddKenmerkOnAssettype/AddKenmerkOnAssettype.ipynb\" target=\"_parent\"><img src=\"https://colab.research.google.com/assets/colab-badge.svg\" alt=\"Open In Colab\"/></a>"
      ]
    },
    {
      "cell_type": "markdown",
      "source": [
        "Pas eerst onderstaande parameter aan en voer het script uit. Een cookie vervalt binnen de 24 uur. Je kan [hier](https://sites.google.com/mow.vlaanderen.be/em-infra/afspraken-conventies/awv-cookie-ophalen) lezen hoe je de AWV ACM cookie kan ophalen."
      ],
      "metadata": {
        "id": "n4tPUGU6EbTJ"
      }
    },
    {
      "cell_type": "code",
      "source": [
        "awv_acm_cookie = 'f8571f44081c4260bdb5b23dd33b0b21'"
      ],
      "metadata": {
        "id": "FHBxj-wbEZ49"
      },
      "execution_count": 1,
      "outputs": []
    },
    {
      "cell_type": "markdown",
      "source": [
        "Voer onderstaande script uit om de GitHub repo te clonen."
      ],
      "metadata": {
        "id": "xN9_2xTBNLBw"
      }
    },
    {
      "cell_type": "code",
      "source": [
        "import os, shutil\n",
        "if os.path.exists('AWVGeneric'):\n",
        "  shutil.rmtree('AWVGeneric')\n",
        "! git clone https://github.com/davidvlaminck/AWVGeneric"
      ],
      "metadata": {
        "colab": {
          "base_uri": "https://localhost:8080/"
        },
        "id": "PB2Vu27UNJv_",
        "outputId": "7667979b-458c-4768-afeb-1185a6e04732"
      },
      "execution_count": 2,
      "outputs": [
        {
          "output_type": "stream",
          "name": "stdout",
          "text": [
            "Cloning into 'AWVGeneric'...\n",
            "remote: Enumerating objects: 862, done.\u001b[K\n",
            "remote: Counting objects: 100% (329/329), done.\u001b[K\n",
            "remote: Compressing objects: 100% (164/164), done.\u001b[K\n",
            "remote: Total 862 (delta 233), reused 221 (delta 159), pack-reused 533 (from 1)\u001b[K\n",
            "Receiving objects: 100% (862/862), 961.56 KiB | 5.49 MiB/s, done.\n",
            "Resolving deltas: 100% (518/518), done.\n",
            "Requirement already satisfied: openpyxl in /usr/local/lib/python3.11/dist-packages (3.1.5)\n",
            "Requirement already satisfied: et-xmlfile in /usr/local/lib/python3.11/dist-packages (from openpyxl) (2.0.0)\n"
          ]
        }
      ]
    },
    {
      "cell_type": "markdown",
      "source": [
        "Voer onderstaande script uit om kenmerken aan assettypes toe te voegen. Je kan de lijsten aanpassen. Vind de URI's van de assettypes op https://apps.mow.vlaanderen.be/eminfra/admin/assettypes. Je mag het script meermaals uitvoeren. Als het assettype het kenmerk reeds heeft, wordt dit als feedback geprint."
      ],
      "metadata": {
        "id": "bggbyMPdNntl"
      }
    },
    {
      "cell_type": "code",
      "execution_count": 7,
      "metadata": {
        "colab": {
          "base_uri": "https://localhost:8080/"
        },
        "id": "-9BFRt5tDflg",
        "outputId": "247fbd2f-38e9-4c4a-ac18-9d54bc28a0ae"
      },
      "outputs": [
        {
          "output_type": "stream",
          "name": "stdout",
          "text": [
            "                                            assettype      kenmerktype\n",
            "0   https://lgc.data.wegenenverkeer.be/ns/installa...  Gemigreerd naar\n",
            "1   https://lgc.data.wegenenverkeer.be/ns/installa...  Gemigreerd naar\n",
            "2   https://lgc.data.wegenenverkeer.be/ns/installa...    Bevestigd aan\n",
            "4   https://lgc.data.wegenenverkeer.be/ns/installa...    Bevestigd aan\n",
            "6   https://lgc.data.wegenenverkeer.be/ns/installa...  Gemigreerd naar\n",
            "7   https://lgc.data.wegenenverkeer.be/ns/installa...    Bevestigd aan\n",
            "28  https://lgc.data.wegenenverkeer.be/ns/installa...  Gemigreerd naar\n",
            "29  https://lgc.data.wegenenverkeer.be/ns/installa...    Bevestigd aan\n",
            "31  https://lgc.data.wegenenverkeer.be/ns/installa...    Bevestigd aan\n",
            "33  https://lgc.data.wegenenverkeer.be/ns/installa...    Bevestigd aan\n",
            "37  https://lgc.data.wegenenverkeer.be/ns/installa...    Bevestigd aan\n",
            "39  https://lgc.data.wegenenverkeer.be/ns/installa...    Bevestigd aan\n",
            "41  https://lgc.data.wegenenverkeer.be/ns/installa...    Bevestigd aan\n",
            "48  https://wegenenverkeer.data.vlaanderen.be/ns/o...   Gemigreerd van\n",
            "Kenmerk Gemigreerd naar reeds aanwezig op https://lgc.data.wegenenverkeer.be/ns/installatie#AID\n",
            "Kenmerk Gemigreerd naar toegevoegd aan https://lgc.data.wegenenverkeer.be/ns/installatie#ANPR\n",
            "Kenmerk Bevestigd aan toegevoegd aan https://lgc.data.wegenenverkeer.be/ns/installatie#ANPRPaal\n",
            "Kenmerk Bevestigd aan toegevoegd aan https://lgc.data.wegenenverkeer.be/ns/installatie#Beton\n",
            "Kenmerk Gemigreerd naar toegevoegd aan https://lgc.data.wegenenverkeer.be/ns/installatie#CCTV\n",
            "Kenmerk Bevestigd aan toegevoegd aan https://lgc.data.wegenenverkeer.be/ns/installatie#CCTVPaal\n",
            "Kenmerk Gemigreerd naar toegevoegd aan https://lgc.data.wegenenverkeer.be/ns/installatie#PTZ\n",
            "Kenmerk Bevestigd aan toegevoegd aan https://lgc.data.wegenenverkeer.be/ns/installatie#Paal\n",
            "Kenmerk Bevestigd aan toegevoegd aan https://lgc.data.wegenenverkeer.be/ns/installatie#SeinbrugDVM\n",
            "Kenmerk Bevestigd aan toegevoegd aan https://lgc.data.wegenenverkeer.be/ns/installatie#SeinbrugIVS\n",
            "Kenmerk Bevestigd aan toegevoegd aan https://lgc.data.wegenenverkeer.be/ns/installatie#Tu\n",
            "Kenmerk Bevestigd aan toegevoegd aan https://lgc.data.wegenenverkeer.be/ns/installatie#VL\n",
            "Kenmerk Bevestigd aan toegevoegd aan https://lgc.data.wegenenverkeer.be/ns/installatie#VPLMast\n",
            "Kenmerk Gemigreerd van toegevoegd aan https://wegenenverkeer.data.vlaanderen.be/ns/onderdeel#Camera\n"
          ]
        }
      ],
      "source": [
        "import sys\n",
        "sys.path.insert(0, '/content/AWVGeneric')  # adds the Python files from the GitHub repo\n",
        "\n",
        "import json\n",
        "from pathlib import Path\n",
        "\n",
        "from API.EMInfraClient import EMInfraClient\n",
        "from API.Enums import Environment, AuthType\n",
        "\n",
        "import pandas\n",
        "\n",
        "path_to_excel_file = Path('Camera_relaties.xlsx')\n",
        "name_relaties_tab = 'kenmerktypes'\n",
        "\n",
        "eminfra_client = EMInfraClient(env=Environment.PRD, auth_type=AuthType.COOKIE, cookie=awv_acm_cookie)\n",
        "\n",
        "relaties_tab = pandas.read_excel(path_to_excel_file, sheet_name=name_relaties_tab)\n",
        "relaties_tab = relaties_tab[relaties_tab['aanwezig'] == 'nee'][['assettype', 'kenmerktype']]\n",
        "\n",
        "assettypes = list(eminfra_client.get_all_assettypes())\n",
        "\n",
        "# loop over all records in relaties_tab, using columns assettype and kenmerktype\n",
        "for _, row in relaties_tab.iterrows():\n",
        "    assettype_uri = row['assettype']\n",
        "    kenmerktype_naam = row['kenmerktype']\n",
        "\n",
        "    assettype = next((x for x in assettypes if x.uri == assettype_uri), None)\n",
        "    if assettype is None:\n",
        "        print(f'Assettype {assettype_uri} niet gevonden')\n",
        "        continue\n",
        "\n",
        "    kenmerktype = eminfra_client.get_kenmerktype_by_naam(kenmerktype_naam)\n",
        "    if kenmerktype is None:\n",
        "        print(f'Kenmerktype {kenmerktype_naam} niet gevonden')\n",
        "        continue\n",
        "\n",
        "    bestaande_kenmerken = eminfra_client.get_kenmerken_by_assettype_uuid(assettype.uuid)\n",
        "    if any(x.kenmerkType.uuid == kenmerktype.uuid for x in bestaande_kenmerken):\n",
        "        print(f'Kenmerk {kenmerktype.naam} reeds aanwezig op {assettype.uri}')\n",
        "        continue\n",
        "\n",
        "    eminfra_client.add_kenmerk_to_assettype(assettype_uuid=assettype.uuid,\n",
        "                                            kenmerktype_uuid=kenmerktype.uuid)\n",
        "    print(f'Kenmerk {kenmerktype.naam} toegevoegd aan {assettype.uri}')\n",
        "\n"
      ]
    }
  ]
}
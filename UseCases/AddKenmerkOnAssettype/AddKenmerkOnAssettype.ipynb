{
  "nbformat": 4,
  "nbformat_minor": 0,
  "metadata": {
    "colab": {
      "provenance": [],
      "include_colab_link": true
    },
    "kernelspec": {
      "name": "python3",
      "display_name": "Python 3"
    },
    "language_info": {
      "name": "python"
    }
  },
  "cells": [
    {
      "cell_type": "markdown",
      "metadata": {
        "id": "view-in-github",
        "colab_type": "text"
      },
      "source": [
        "<a href=\"https://colab.research.google.com/github/davidvlaminck/AWVGeneric/blob/master/UseCases/AddKenmerkOnAssettype/AddKenmerkOnAssettype.ipynb\" target=\"_parent\"><img src=\"https://colab.research.google.com/assets/colab-badge.svg\" alt=\"Open In Colab\"/></a>"
      ]
    },
    {
      "cell_type": "markdown",
      "source": [
        "Pas eerst onderstaande parameter aan en voer het script uit. Een cookie vervalt binnen de 24 uur. Je kan [hier](https://sites.google.com/mow.vlaanderen.be/em-infra/afspraken-conventies/awv-cookie-ophalen) lezen hoe je de AWV ACM cookie kan ophalen."
      ],
      "metadata": {
        "id": "n4tPUGU6EbTJ"
      }
    },
    {
      "cell_type": "code",
      "source": [
        "awv_acm_cookie = '8245a6a9e3b14cf59fede5f3cf8a13c3'"
      ],
      "metadata": {
        "id": "FHBxj-wbEZ49"
      },
      "execution_count": 1,
      "outputs": []
    },
    {
      "cell_type": "markdown",
      "source": [
        "Voer onderstaande script uit om de GitHub repo te clonen."
      ],
      "metadata": {
        "id": "xN9_2xTBNLBw"
      }
    },
    {
      "cell_type": "code",
      "source": [
        "import os, shutil\n",
        "if os.path.exists('AWVGeneric'):\n",
        "  shutil.rmtree('AWVGeneric')\n",
        "! git clone https://github.com/davidvlaminck/AWVGeneric"
      ],
      "metadata": {
        "colab": {
          "base_uri": "https://localhost:8080/"
        },
        "id": "PB2Vu27UNJv_",
        "outputId": "7eb0250e-6472-4014-9ff0-7d53f676275a"
      },
      "execution_count": 2,
      "outputs": [
        {
          "output_type": "stream",
          "name": "stdout",
          "text": [
            "Cloning into 'AWVGeneric'...\n",
            "remote: Enumerating objects: 775, done.\u001b[K\n",
            "remote: Counting objects: 100% (242/242), done.\u001b[K\n",
            "remote: Compressing objects: 100% (97/97), done.\u001b[K\n",
            "remote: Total 775 (delta 181), reused 183 (delta 140), pack-reused 533 (from 1)\u001b[K\n",
            "Receiving objects: 100% (775/775), 935.44 KiB | 6.15 MiB/s, done.\n",
            "Resolving deltas: 100% (466/466), done.\n"
          ]
        }
      ]
    },
    {
      "cell_type": "markdown",
      "source": [
        "Voer onderstaande script uit om alle assets van een bepaald type te downloaden. Je kan de typeUri parameter aanpassen, zie https://apps.mow.vlaanderen.be/eminfra/admin/installatietypes"
      ],
      "metadata": {
        "id": "bggbyMPdNntl"
      }
    },
    {
      "cell_type": "code",
      "execution_count": 6,
      "metadata": {
        "colab": {
          "base_uri": "https://localhost:8080/"
        },
        "id": "-9BFRt5tDflg",
        "outputId": "2049f02c-3be6-4462-a648-9e9234d007e2"
      },
      "outputs": [
        {
          "output_type": "stream",
          "name": "stdout",
          "text": [
            "Kenmerk Gemigreerd naar toegevoegd aan https://lgc.data.wegenenverkeer.be/ns/installatie#ZoutBijlaadPlaats\n",
            "Kenmerk Gemigreerd naar toegevoegd aan https://lgc.data.wegenenverkeer.be/ns/installatie#Zoutsilo\n",
            "Kenmerk Gemigreerd naar toegevoegd aan https://lgc.data.wegenenverkeer.be/ns/installatie#Pekeltank\n",
            "Kenmerk Gemigreerd naar toegevoegd aan https://lgc.data.wegenenverkeer.be/ns/installatie#MotorLegacy\n",
            "Kenmerk Gemigreerd naar toegevoegd aan https://lgc.data.wegenenverkeer.be/ns/installatie#Fietstel\n",
            "Kenmerk Gemigreerd naar toegevoegd aan https://lgc.data.wegenenverkeer.be/ns/installatie#FietsTelSysteemLegacy\n",
            "Kenmerk Gemigreerd naar toegevoegd aan https://lgc.data.wegenenverkeer.be/ns/installatie#FietsTelDisplayLegacy\n",
            "Kenmerk Gemigreerd van toegevoegd aan https://wegenenverkeer.data.vlaanderen.be/ns/onderdeel#Datakabel\n",
            "Kenmerk Gemigreerd van toegevoegd aan https://wegenenverkeer.data.vlaanderen.be/ns/installatie#Zoutbijlaadplaats\n",
            "Kenmerk Gemigreerd van toegevoegd aan https://wegenenverkeer.data.vlaanderen.be/ns/onderdeel#Silo\n",
            "Kenmerk Gemigreerd van toegevoegd aan https://wegenenverkeer.data.vlaanderen.be/ns/onderdeel#Tank\n",
            "Kenmerk Gemigreerd van toegevoegd aan https://wegenenverkeer.data.vlaanderen.be/ns/onderdeel#Elektromotor\n",
            "Kenmerk Gemigreerd van toegevoegd aan https://wegenenverkeer.data.vlaanderen.be/ns/installatie#Fietstelinstallatie\n",
            "Kenmerk Gemigreerd van toegevoegd aan https://wegenenverkeer.data.vlaanderen.be/ns/onderdeel#Fietstelsysteem\n",
            "Kenmerk Gemigreerd van toegevoegd aan https://wegenenverkeer.data.vlaanderen.be/ns/onderdeel#FietstelDisplay\n"
          ]
        }
      ],
      "source": [
        "import sys\n",
        "sys.path.insert(0, '/content/AWVGeneric')  # adds the Python files from the GitHub repo\n",
        "\n",
        "import json\n",
        "from pathlib import Path\n",
        "\n",
        "from API.EMInfraClient import EMInfraClient\n",
        "from API.Enums import Environment, AuthType\n",
        "\n",
        "\n",
        "eminfra_client = EMInfraClient(env=Environment.PRD, auth_type=AuthType.COOKIE, cookie=awv_acm_cookie)\n",
        "\n",
        "gemigreerd_naar_kenmerk = eminfra_client.get_kenmerktype_by_naam('Gemigreerd naar')\n",
        "gemigreerd_van_kenmerk = eminfra_client.get_kenmerktype_by_naam('Gemigreerd van')\n",
        "\n",
        "uri_types_add_gemigreerd_naar = [\n",
        "    'https://lgc.data.wegenenverkeer.be/ns/installatie#ZoutBijlaadPlaats',\n",
        "    'https://lgc.data.wegenenverkeer.be/ns/installatie#Zoutsilo',\n",
        "    'https://lgc.data.wegenenverkeer.be/ns/installatie#Pekeltank',\n",
        "    'https://lgc.data.wegenenverkeer.be/ns/installatie#MotorLegacy',\n",
        "    'https://lgc.data.wegenenverkeer.be/ns/installatie#Fietstel',\n",
        "    'https://lgc.data.wegenenverkeer.be/ns/installatie#FietsTelSysteemLegacy',\n",
        "    'https://lgc.data.wegenenverkeer.be/ns/installatie#FietsTelDisplayLegacy']\n",
        "uri_types_add_gemigreerd_van = [\n",
        "    'https://wegenenverkeer.data.vlaanderen.be/ns/onderdeel#Datakabel',\n",
        "    'https://wegenenverkeer.data.vlaanderen.be/ns/installatie#Zoutbijlaadplaats',\n",
        "    'https://wegenenverkeer.data.vlaanderen.be/ns/onderdeel#Silo',\n",
        "    'https://wegenenverkeer.data.vlaanderen.be/ns/onderdeel#Tank',\n",
        "    'https://wegenenverkeer.data.vlaanderen.be/ns/onderdeel#Elektromotor',\n",
        "    'https://wegenenverkeer.data.vlaanderen.be/ns/installatie#Fietstelinstallatie',\n",
        "    'https://wegenenverkeer.data.vlaanderen.be/ns/onderdeel#Fietstelsysteem',\n",
        "    'https://wegenenverkeer.data.vlaanderen.be/ns/onderdeel#FietstelDisplay']\n",
        "\n",
        "assettypes = list(eminfra_client.get_all_assettypes())\n",
        "\n",
        "for uri_type in uri_types_add_gemigreerd_naar:\n",
        "    assettype = next((x for x in assettypes if x.uri == uri_type), None)\n",
        "    if assettype is None:\n",
        "        print(f'Assettype {uri_type} niet gevonden')\n",
        "        continue\n",
        "\n",
        "    bestaande_kenmerken = eminfra_client.get_kenmerken_by_assettype_uuid(assettype.uuid)\n",
        "    gemigreerd_naar = next((x for x in bestaande_kenmerken\n",
        "                            if x.kenmerkType.uuid == gemigreerd_naar_kenmerk.uuid), None)\n",
        "    if gemigreerd_naar is not None:\n",
        "        print(f'Kenmerk {gemigreerd_naar_kenmerk.naam} reeds aanwezig op {assettype.uri}')\n",
        "        continue\n",
        "\n",
        "    eminfra_client.add_kenmerk_to_assettype(assettype_uuid=assettype.uuid,\n",
        "                                            kenmerktype_uuid=gemigreerd_naar_kenmerk.uuid)\n",
        "    print(f'Kenmerk {gemigreerd_naar_kenmerk.naam} toegevoegd aan {assettype.uri}')\n",
        "\n",
        "for uri_type in uri_types_add_gemigreerd_van:\n",
        "    assettype = next((x for x in assettypes if x.uri == uri_type), None)\n",
        "    if assettype is None:\n",
        "        print(f'Assettype {uri_type} niet gevonden')\n",
        "        continue\n",
        "\n",
        "    bestaande_kenmerken = eminfra_client.get_kenmerken_by_assettype_uuid(assettype.uuid)\n",
        "    gemigreerd_van = next((x for x in bestaande_kenmerken\n",
        "                           if x.kenmerkType.uuid == gemigreerd_van_kenmerk.uuid), None)\n",
        "    if gemigreerd_van is not None:\n",
        "        print(f'Kenmerk {gemigreerd_van_kenmerk.naam} reeds aanwezig op {assettype.uri}')\n",
        "        continue\n",
        "\n",
        "    eminfra_client.add_kenmerk_to_assettype(assettype_uuid=assettype.uuid,\n",
        "                                            kenmerktype_uuid=gemigreerd_van_kenmerk.uuid)\n",
        "    print(f'Kenmerk {gemigreerd_van_kenmerk.naam} toegevoegd aan {assettype.uri}')"
      ]
    }
  ]
}
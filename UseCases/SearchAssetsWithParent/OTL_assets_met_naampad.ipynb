{
  "nbformat": 4,
  "nbformat_minor": 0,
  "metadata": {
    "colab": {
      "provenance": [],
      "gpuType": "T4",
      "include_colab_link": true
    },
    "kernelspec": {
      "name": "python3",
      "display_name": "Python 3"
    },
    "language_info": {
      "name": "python"
    },
    "accelerator": "GPU"
  },
  "cells": [
    {
      "cell_type": "markdown",
      "metadata": {
        "id": "view-in-github",
        "colab_type": "text"
      },
      "source": [
        "<a href=\"https://colab.research.google.com/github/davidvlaminck/AWVGeneric/blob/master/UseCases/SearchAssetsWithParent/OTL_assets_met_naampad.ipynb\" target=\"_parent\"><img src=\"https://colab.research.google.com/assets/colab-badge.svg\" alt=\"Open In Colab\"/></a>"
      ]
    },
    {
      "cell_type": "markdown",
      "source": [
        "Pas eerst onderstaande parameters aan en voer het script uit. Elke keer je de parameters aanpast, moet je ook het script uitvoeren."
      ],
      "metadata": {
        "id": "n4tPUGU6EbTJ"
      }
    },
    {
      "cell_type": "code",
      "source": [
        "awv_acm_cookie = 'fd82962702ac4ed2a987a2adc9a95d72'"
      ],
      "metadata": {
        "id": "FHBxj-wbEZ49"
      },
      "execution_count": 1,
      "outputs": []
    },
    {
      "cell_type": "code",
      "source": [
        "!sudo apt-get update -y\n",
        "!sudo apt-get install python3.11"
      ],
      "metadata": {
        "colab": {
          "base_uri": "https://localhost:8080/"
        },
        "id": "eIAmas7vk3p3",
        "outputId": "a31bb13f-725c-426b-a79d-2c705cbc57fd"
      },
      "execution_count": 5,
      "outputs": [
        {
          "output_type": "stream",
          "name": "stdout",
          "text": [
            "\r0% [Working]\r            \rGet:1 https://cloud.r-project.org/bin/linux/ubuntu jammy-cran40/ InRelease [3,626 B]\n",
            "\r0% [Connecting to archive.ubuntu.com (91.189.91.81)] [Connecting to security.ub\r0% [Connecting to archive.ubuntu.com (91.189.91.81)] [Connecting to security.ub\r                                                                               \rHit:2 https://developer.download.nvidia.com/compute/cuda/repos/ubuntu2204/x86_64  InRelease\n",
            "\r0% [Waiting for headers] [Waiting for headers] [Connected to r2u.stat.illinois.\r                                                                               \rHit:3 http://archive.ubuntu.com/ubuntu jammy InRelease\n",
            "Get:4 http://security.ubuntu.com/ubuntu jammy-security InRelease [129 kB]\n",
            "Get:5 https://r2u.stat.illinois.edu/ubuntu jammy InRelease [6,555 B]\n",
            "Get:6 http://archive.ubuntu.com/ubuntu jammy-updates InRelease [128 kB]\n",
            "Get:7 https://r2u.stat.illinois.edu/ubuntu jammy/main amd64 Packages [2,619 kB]\n",
            "Get:8 https://r2u.stat.illinois.edu/ubuntu jammy/main all Packages [8,506 kB]\n",
            "Hit:9 https://ppa.launchpadcontent.net/deadsnakes/ppa/ubuntu jammy InRelease\n",
            "Get:10 http://archive.ubuntu.com/ubuntu jammy-backports InRelease [127 kB]\n",
            "Get:11 http://security.ubuntu.com/ubuntu jammy-security/universe amd64 Packages [1,224 kB]\n",
            "Get:12 http://security.ubuntu.com/ubuntu jammy-security/main amd64 Packages [2,454 kB]\n",
            "Hit:13 https://ppa.launchpadcontent.net/graphics-drivers/ppa/ubuntu jammy InRelease\n",
            "Hit:14 https://ppa.launchpadcontent.net/ubuntugis/ppa/ubuntu jammy InRelease\n",
            "Get:15 http://archive.ubuntu.com/ubuntu jammy-updates/universe amd64 Packages [1,513 kB]\n",
            "Get:16 http://archive.ubuntu.com/ubuntu jammy-updates/main amd64 Packages [2,738 kB]\n",
            "Get:17 http://archive.ubuntu.com/ubuntu jammy-backports/universe amd64 Packages [33.8 kB]\n",
            "Fetched 1,935 kB in 2s (1,049 kB/s)\n",
            "Reading package lists... Done\n",
            "W: Skipping acquire of configured file 'main/source/Sources' as repository 'https://r2u.stat.illinois.edu/ubuntu jammy InRelease' does not seem to provide it (sources.list entry misspelt?)\n",
            "Reading package lists... Done\n",
            "Building dependency tree... Done\n",
            "Reading state information... Done\n",
            "The following additional packages will be installed:\n",
            "  libpython3.11-minimal libpython3.11-stdlib mailcap mime-support\n",
            "  python3.11-minimal\n",
            "Suggested packages:\n",
            "  python3.11-venv binfmt-support\n",
            "The following NEW packages will be installed:\n",
            "  libpython3.11-minimal libpython3.11-stdlib mailcap mime-support python3.11\n",
            "  python3.11-minimal\n",
            "0 upgraded, 6 newly installed, 0 to remove and 53 not upgraded.\n",
            "Need to get 5,836 kB of archives.\n",
            "After this operation, 21.7 MB of additional disk space will be used.\n",
            "Get:1 http://archive.ubuntu.com/ubuntu jammy/main amd64 mailcap all 3.70+nmu1ubuntu1 [23.8 kB]\n",
            "Get:2 http://archive.ubuntu.com/ubuntu jammy/main amd64 mime-support all 3.66 [3,696 B]\n",
            "Get:3 https://ppa.launchpadcontent.net/deadsnakes/ppa/ubuntu jammy/main amd64 libpython3.11-minimal amd64 3.11.10-1+jammy1 [886 kB]\n",
            "Get:4 https://ppa.launchpadcontent.net/deadsnakes/ppa/ubuntu jammy/main amd64 python3.11-minimal amd64 3.11.10-1+jammy1 [2,357 kB]\n",
            "Get:5 https://ppa.launchpadcontent.net/deadsnakes/ppa/ubuntu jammy/main amd64 libpython3.11-stdlib amd64 3.11.10-1+jammy1 [1,924 kB]\n",
            "Get:6 https://ppa.launchpadcontent.net/deadsnakes/ppa/ubuntu jammy/main amd64 python3.11 amd64 3.11.10-1+jammy1 [641 kB]\n",
            "Fetched 5,836 kB in 14s (431 kB/s)\n",
            "debconf: unable to initialize frontend: Dialog\n",
            "debconf: (No usable dialog-like program is installed, so the dialog based frontend cannot be used. at /usr/share/perl5/Debconf/FrontEnd/Dialog.pm line 78, <> line 6.)\n",
            "debconf: falling back to frontend: Readline\n",
            "debconf: unable to initialize frontend: Readline\n",
            "debconf: (This frontend requires a controlling tty.)\n",
            "debconf: falling back to frontend: Teletype\n",
            "dpkg-preconfigure: unable to re-open stdin: \n",
            "Selecting previously unselected package libpython3.11-minimal:amd64.\n",
            "(Reading database ... 123630 files and directories currently installed.)\n",
            "Preparing to unpack .../0-libpython3.11-minimal_3.11.10-1+jammy1_amd64.deb ...\n",
            "Unpacking libpython3.11-minimal:amd64 (3.11.10-1+jammy1) ...\n",
            "Selecting previously unselected package python3.11-minimal.\n",
            "Preparing to unpack .../1-python3.11-minimal_3.11.10-1+jammy1_amd64.deb ...\n",
            "Unpacking python3.11-minimal (3.11.10-1+jammy1) ...\n",
            "Selecting previously unselected package mailcap.\n",
            "Preparing to unpack .../2-mailcap_3.70+nmu1ubuntu1_all.deb ...\n",
            "Unpacking mailcap (3.70+nmu1ubuntu1) ...\n",
            "Selecting previously unselected package mime-support.\n",
            "Preparing to unpack .../3-mime-support_3.66_all.deb ...\n",
            "Unpacking mime-support (3.66) ...\n",
            "Selecting previously unselected package libpython3.11-stdlib:amd64.\n",
            "Preparing to unpack .../4-libpython3.11-stdlib_3.11.10-1+jammy1_amd64.deb ...\n",
            "Unpacking libpython3.11-stdlib:amd64 (3.11.10-1+jammy1) ...\n",
            "Selecting previously unselected package python3.11.\n",
            "Preparing to unpack .../5-python3.11_3.11.10-1+jammy1_amd64.deb ...\n",
            "Unpacking python3.11 (3.11.10-1+jammy1) ...\n",
            "Setting up libpython3.11-minimal:amd64 (3.11.10-1+jammy1) ...\n",
            "Setting up mailcap (3.70+nmu1ubuntu1) ...\n",
            "Setting up python3.11-minimal (3.11.10-1+jammy1) ...\n",
            "Setting up mime-support (3.66) ...\n",
            "Setting up libpython3.11-stdlib:amd64 (3.11.10-1+jammy1) ...\n",
            "Setting up python3.11 (3.11.10-1+jammy1) ...\n",
            "Processing triggers for man-db (2.10.2-1) ...\n"
          ]
        }
      ]
    },
    {
      "cell_type": "code",
      "source": [
        "!sudo update-alternatives --install /usr/bin/python3 python3 /usr/bin/python3.10 1\n",
        "!sudo update-alternatives --install /usr/bin/python3 python3 /usr/bin/python3.11 2\n",
        "\n",
        "!python --version"
      ],
      "metadata": {
        "colab": {
          "base_uri": "https://localhost:8080/"
        },
        "id": "GAgL3_JTlEzX",
        "outputId": "76a14758-cdf4-4be6-b194-d0ef2de46eb3"
      },
      "execution_count": 7,
      "outputs": [
        {
          "output_type": "stream",
          "name": "stdout",
          "text": [
            "update-alternatives: using /usr/bin/python3.10 to provide /usr/bin/python3 (python3) in auto mode\n",
            "update-alternatives: using /usr/bin/python3.11 to provide /usr/bin/python3 (python3) in auto mode\n",
            "Python 3.11.10\n"
          ]
        }
      ]
    },
    {
      "cell_type": "markdown",
      "source": [
        "Voer onderstaande script uit om de GitHub repo te clonen."
      ],
      "metadata": {
        "id": "xN9_2xTBNLBw"
      }
    },
    {
      "cell_type": "code",
      "source": [
        "! git clone https://github.com/davidvlaminck/AWVGeneric"
      ],
      "metadata": {
        "colab": {
          "base_uri": "https://localhost:8080/"
        },
        "id": "PB2Vu27UNJv_",
        "outputId": "7d136b59-1131-48bd-b215-111f4ce925fd"
      },
      "execution_count": 2,
      "outputs": [
        {
          "output_type": "stream",
          "name": "stdout",
          "text": [
            "Cloning into 'AWVGeneric'...\n",
            "remote: Enumerating objects: 156, done.\u001b[K\n",
            "remote: Counting objects: 100% (156/156), done.\u001b[K\n",
            "remote: Compressing objects: 100% (99/99), done.\u001b[K\n",
            "remote: Total 156 (delta 90), reused 112 (delta 49), pack-reused 0 (from 0)\u001b[K\n",
            "Receiving objects: 100% (156/156), 34.61 KiB | 581.00 KiB/s, done.\n",
            "Resolving deltas: 100% (90/90), done.\n"
          ]
        }
      ]
    },
    {
      "cell_type": "markdown",
      "source": [
        "Voer onderstaande script uit om de SN Gateway te query'en"
      ],
      "metadata": {
        "id": "bggbyMPdNntl"
      }
    },
    {
      "cell_type": "code",
      "execution_count": 8,
      "metadata": {
        "colab": {
          "base_uri": "https://localhost:8080/",
          "height": 311
        },
        "id": "-9BFRt5tDflg",
        "outputId": "cb3ad9d0-a596-438e-dfca-5013bf37daff"
      },
      "outputs": [
        {
          "output_type": "error",
          "ename": "SyntaxError",
          "evalue": "f-string: unmatched '[' (EMInfraDomain.py, line 331)",
          "traceback": [
            "Traceback \u001b[0;36m(most recent call last)\u001b[0m:\n",
            "  File \u001b[1;32m\"/usr/local/lib/python3.10/dist-packages/IPython/core/interactiveshell.py\"\u001b[0m, line \u001b[1;32m3553\u001b[0m, in \u001b[1;35mrun_code\u001b[0m\n    exec(code_obj, self.user_global_ns, self.user_ns)\n",
            "  File \u001b[1;32m\"<ipython-input-8-9554f9665e32>\"\u001b[0m, line \u001b[1;32m7\u001b[0m, in \u001b[1;35m<cell line: 7>\u001b[0m\n    from API.EMInfraClient import EMInfraClient\n",
            "\u001b[0;36m  File \u001b[0;32m\"/content/AWVGeneric/API/EMInfraClient.py\"\u001b[0;36m, line \u001b[0;32m4\u001b[0;36m, in \u001b[0;35m<module>\u001b[0;36m\u001b[0m\n\u001b[0;31m    from API.EMInfraDomain import OperatorEnum, TermDTO, ExpressionDTO, SelectionDTO, PagingModeEnum, QueryDTO, BestekRef, \\\u001b[0m\n",
            "\u001b[0;36m  File \u001b[0;32m\"/content/AWVGeneric/API/EMInfraDomain.py\"\u001b[0;36m, line \u001b[0;32m331\u001b[0m\n\u001b[0;31m    naampad = f'{parent['naam']}/{naampad}'\u001b[0m\n\u001b[0m                         ^\u001b[0m\n\u001b[0;31mSyntaxError\u001b[0m\u001b[0;31m:\u001b[0m f-string: unmatched '['\n"
          ]
        }
      ],
      "source": [
        "import sys\n",
        "sys.path.insert(0, '/content/AWVGeneric')  # adds the Python files from the GitHub repo\n",
        "\n",
        "from pathlib import Path\n",
        "from prettytable import PrettyTable\n",
        "\n",
        "from API.EMInfraClient import EMInfraClient\n",
        "from API.EMInfraDomain import QueryDTO, PagingModeEnum, SelectionDTO, ExpressionDTO, TermDTO, OperatorEnum, \\\n",
        "    LogicalOpEnum, ExpansionsDTO, construct_naampad\n",
        "from API.Enums import AuthType, Environment\n",
        "\n",
        "eminfra_client = EMInfraClient(cookie=awv_acm_cookie, auth_type=AuthType.COOKIE, env=Environment.PRD)  # change environment here\n",
        "\n",
        "asset_types = list(eminfra_client.get_all_otl_assettypes())\n",
        "print(f'aantal OTL types: {len(asset_types)}')\n",
        "\n",
        "type_term = TermDTO(property='type', operator=OperatorEnum.EQ, value='a7eadedf-b5cf-491b-8b89-ccced9a37004')\n",
        "query_dto = QueryDTO(size=100, from_=0, pagingMode=PagingModeEnum.OFFSET,\n",
        "                      expansions=ExpansionsDTO(fields=['parent']),\n",
        "                      selection=SelectionDTO(\n",
        "                          expressions=[ExpressionDTO(\n",
        "                              terms=[type_term,\n",
        "                                  TermDTO(property='actief', operator=OperatorEnum.EQ,\n",
        "                                          value=True, logicalOp=LogicalOpEnum.AND),\n",
        "                                  TermDTO(property='beheerobject', operator=OperatorEnum.EQ,\n",
        "                                          value=None, logicalOp=LogicalOpEnum.AND, negate=True)])]))\n",
        "headers = ['uuid', 'type', 'naampad', 'em_infra_link']\n",
        "rows = []\n",
        "for otl_asset_type in asset_types:\n",
        "    print(f'querying type {otl_asset_type.korteUri}')\n",
        "    type_term.value = otl_asset_type.uuid\n",
        "    query_dto.from_ = 0\n",
        "    rows.extend([asset.uuid, otl_asset_type.korteUri, construct_naampad(asset),\n",
        "                  f'https://apps.mow.vlaanderen.be/eminfra/assets{asset.uuid}']\n",
        "                for asset in eminfra_client.search_assets(query_dto))\n",
        "table = PrettyTable(headers)\n",
        "table.add_rows(rows)\n",
        "\n",
        "with open('table.csv', 'w', newline='') as f_output:\n",
        "    f_output.write(table.get_csv_string())\n"
      ]
    }
  ]
}
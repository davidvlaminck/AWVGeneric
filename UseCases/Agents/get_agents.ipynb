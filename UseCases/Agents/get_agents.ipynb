{
  "nbformat": 4,
  "nbformat_minor": 0,
  "metadata": {
    "colab": {
      "provenance": [],
      "authorship_tag": "ABX9TyObMWxrO9E6/SZaPNWDj7v2",
      "include_colab_link": true
    },
    "kernelspec": {
      "name": "python3",
      "display_name": "Python 3"
    },
    "language_info": {
      "name": "python"
    },
    "widgets": {
      "application/vnd.jupyter.widget-state+json": {
        "0fe979ce4c8f4de1bc68fcfc5cf45887": {
          "model_module": "@jupyter-widgets/controls",
          "model_name": "DropdownModel",
          "model_module_version": "1.5.0",
          "state": {
            "_dom_classes": [],
            "_model_module": "@jupyter-widgets/controls",
            "_model_module_version": "1.5.0",
            "_model_name": "DropdownModel",
            "_options_labels": [
              "Environment.PRD",
              "Environment.DEV",
              "Environment.TEI",
              "Environment.AIM"
            ],
            "_view_count": null,
            "_view_module": "@jupyter-widgets/controls",
            "_view_module_version": "1.5.0",
            "_view_name": "DropdownView",
            "description": "Omgeving:",
            "description_tooltip": null,
            "disabled": false,
            "index": 2,
            "layout": "IPY_MODEL_b474feb7ce5d4659b4c0322e23e46777",
            "style": "IPY_MODEL_5d7824b514674383ba55fc364c486080"
          }
        },
        "b474feb7ce5d4659b4c0322e23e46777": {
          "model_module": "@jupyter-widgets/base",
          "model_name": "LayoutModel",
          "model_module_version": "1.2.0",
          "state": {
            "_model_module": "@jupyter-widgets/base",
            "_model_module_version": "1.2.0",
            "_model_name": "LayoutModel",
            "_view_count": null,
            "_view_module": "@jupyter-widgets/base",
            "_view_module_version": "1.2.0",
            "_view_name": "LayoutView",
            "align_content": null,
            "align_items": null,
            "align_self": null,
            "border": null,
            "bottom": null,
            "display": null,
            "flex": null,
            "flex_flow": null,
            "grid_area": null,
            "grid_auto_columns": null,
            "grid_auto_flow": null,
            "grid_auto_rows": null,
            "grid_column": null,
            "grid_gap": null,
            "grid_row": null,
            "grid_template_areas": null,
            "grid_template_columns": null,
            "grid_template_rows": null,
            "height": null,
            "justify_content": null,
            "justify_items": null,
            "left": null,
            "margin": null,
            "max_height": null,
            "max_width": null,
            "min_height": null,
            "min_width": null,
            "object_fit": null,
            "object_position": null,
            "order": null,
            "overflow": null,
            "overflow_x": null,
            "overflow_y": null,
            "padding": null,
            "right": null,
            "top": null,
            "visibility": null,
            "width": null
          }
        },
        "5d7824b514674383ba55fc364c486080": {
          "model_module": "@jupyter-widgets/controls",
          "model_name": "DescriptionStyleModel",
          "model_module_version": "1.5.0",
          "state": {
            "_model_module": "@jupyter-widgets/controls",
            "_model_module_version": "1.5.0",
            "_model_name": "DescriptionStyleModel",
            "_view_count": null,
            "_view_module": "@jupyter-widgets/base",
            "_view_module_version": "1.2.0",
            "_view_name": "StyleView",
            "description_width": ""
          }
        },
        "80a238b15e3e4d87b18dedabd3727b82": {
          "model_module": "@jupyter-widgets/controls",
          "model_name": "TextModel",
          "model_module_version": "1.5.0",
          "state": {
            "_dom_classes": [],
            "_model_module": "@jupyter-widgets/controls",
            "_model_module_version": "1.5.0",
            "_model_name": "TextModel",
            "_view_count": null,
            "_view_module": "@jupyter-widgets/controls",
            "_view_module_version": "1.5.0",
            "_view_name": "TextView",
            "continuous_update": true,
            "description": "",
            "description_tooltip": null,
            "disabled": false,
            "layout": "IPY_MODEL_fc8bad7901c840aeb11bea7bb86235b3",
            "placeholder": "​",
            "style": "IPY_MODEL_ea21fb98bb3f4d32a65babe7e35df50b",
            "value": "2f20f4bcc9bc4ff887b6b472ca0b8781"
          }
        },
        "fc8bad7901c840aeb11bea7bb86235b3": {
          "model_module": "@jupyter-widgets/base",
          "model_name": "LayoutModel",
          "model_module_version": "1.2.0",
          "state": {
            "_model_module": "@jupyter-widgets/base",
            "_model_module_version": "1.2.0",
            "_model_name": "LayoutModel",
            "_view_count": null,
            "_view_module": "@jupyter-widgets/base",
            "_view_module_version": "1.2.0",
            "_view_name": "LayoutView",
            "align_content": null,
            "align_items": null,
            "align_self": null,
            "border": null,
            "bottom": null,
            "display": null,
            "flex": null,
            "flex_flow": null,
            "grid_area": null,
            "grid_auto_columns": null,
            "grid_auto_flow": null,
            "grid_auto_rows": null,
            "grid_column": null,
            "grid_gap": null,
            "grid_row": null,
            "grid_template_areas": null,
            "grid_template_columns": null,
            "grid_template_rows": null,
            "height": null,
            "justify_content": null,
            "justify_items": null,
            "left": null,
            "margin": null,
            "max_height": null,
            "max_width": null,
            "min_height": null,
            "min_width": null,
            "object_fit": null,
            "object_position": null,
            "order": null,
            "overflow": null,
            "overflow_x": null,
            "overflow_y": null,
            "padding": null,
            "right": null,
            "top": null,
            "visibility": null,
            "width": null
          }
        },
        "ea21fb98bb3f4d32a65babe7e35df50b": {
          "model_module": "@jupyter-widgets/controls",
          "model_name": "DescriptionStyleModel",
          "model_module_version": "1.5.0",
          "state": {
            "_model_module": "@jupyter-widgets/controls",
            "_model_module_version": "1.5.0",
            "_model_name": "DescriptionStyleModel",
            "_view_count": null,
            "_view_module": "@jupyter-widgets/base",
            "_view_module_version": "1.2.0",
            "_view_name": "StyleView",
            "description_width": ""
          }
        }
      }
    }
  },
  "cells": [
    {
      "cell_type": "markdown",
      "metadata": {
        "id": "view-in-github",
        "colab_type": "text"
      },
      "source": [
        "<a href=\"https://colab.research.google.com/github/davidvlaminck/AWVGeneric/blob/10-agents/UseCases/Agents/get_agents.ipynb\" target=\"_parent\"><img src=\"https://colab.research.google.com/assets/colab-badge.svg\" alt=\"Open In Colab\"/></a>"
      ]
    },
    {
      "cell_type": "markdown",
      "source": [
        "# Agents ophalen\n",
        "Download een documenten met alle **Agents**.\n",
        "\n",
        "Achterliggend wordt gebruik gemaakt van de [EM-Infra API](https://apps.mow.vlaanderen.be/eminfra/core/swagger-ui/).\n",
        "\n",
        "Lanceer via de play-knop ![image.png](data:image/png;base64,iVBORw0KGgoAAAANSUhEUgAAACEAAAAgCAYAAACcuBHKAAAAAXNSR0IArs4c6QAAAARnQU1BAACxjwv8YQUAAAAJcEhZcwAADsMAAA7DAcdvqGQAAAHySURBVFhH7ZbNSwJRFMVPQiqOYSiCiIW2cCGILly5EAyx+osrceVCEAwU0YWLdCEiiJbkd2B5hysiM/Pm9WmBP5D3vMM7HmaO987RbDZ7w56x8LpXDiY2HExs+P8mFouF+vkqH+4TrVYL3W4Xg8EAq9VKrVksFng8Hvj9foRCIbX2EaRN9Ho91Go1TCYTruijKAqi0Sh8Ph9XzDE00e/3cXt/h9flK0ajEU5dLrjdbr4qZjweY/j8BMWh4Nh6jJura3i9Xr6qRZiJE+cJLtNpXKxvsawBwul04jxwpp4lDTNMg1mv13m3hZ69jCm9s3oITQyHQ8MMpFIpxONx2O12rmihs6RhhtAEZUFEMBhENptFOBzmihYzDUJoYjqd8s4Y+ntGIhFkMhkEAgGubpHS4FXDcrnEG/cBGSiMiUQCyWRyJy+kQVoiTIP5GxiasFqtOFrfalmoN5TLZRSLxZ0wkgZpiRD+isPh4J0x1LobjQby+Tw6nQ5Xt8hoCE241l1SRLvdRi6XQ7PZ5IoWMw1CaIICRrNAj0KhgEqlgvl8zhUtdFamqQlNvIxf8LiemqVSaec50xQVNSE1Hw9l9SxpmCE1RWl8V6tV/iZHLBaTHut/e5QbsdeXGj02r3Y2m01dP8uXTHwX8i3xBzmY2PAHTADvcY7fS1N4thIAAAAASUVORK5CYII=)\n",
        "aan de linkerzijde achtereenvolgens (een per een) ieder blokje code."
      ],
      "metadata": {
        "id": "7C0W5gbAszsl"
      }
    },
    {
      "cell_type": "code",
      "source": [
        "import os, shutil\n",
        "import sys\n",
        "from datetime import datetime\n",
        "\n",
        "import pandas as pd\n",
        "from pathlib import Path\n",
        "from google.colab import files\n",
        "\n",
        "if os.path.exists('AWVGeneric'):\n",
        "  shutil.rmtree('AWVGeneric')\n",
        "!git clone https://github.com/davidvlaminck/AWVGeneric.git -b '10-agents'\n",
        "sys.path.insert(0, '/content/AWVGeneric')  # adds the Python files from the GitHub repo to the sys-path.\n",
        "sys.path.insert(0, '/content/AWVGeneric/UseCases/Agents')  # adds the Python files from the GitHub repo to the sys-path.\n",
        "\n",
        "from API.EMInfraClient import EMInfraClient\n",
        "from API.EMInfraDomain import QueryDTO, PagingModeEnum, SelectionDTO, ExpressionDTO, TermDTO, OperatorEnum\n",
        "from API.Enums import AuthType, Environment\n",
        "\n",
        "import ipywidgets as widgets"
      ],
      "metadata": {
        "colab": {
          "base_uri": "https://localhost:8080/"
        },
        "id": "8LPglBsXs0ii",
        "outputId": "35b55afe-709e-4082-8f31-00a69ee0a039"
      },
      "execution_count": 71,
      "outputs": [
        {
          "output_type": "stream",
          "name": "stdout",
          "text": [
            "Cloning into 'AWVGeneric'...\n",
            "remote: Enumerating objects: 733, done.\u001b[K\n",
            "remote: Counting objects: 100% (200/200), done.\u001b[K\n",
            "remote: Compressing objects: 100% (68/68), done.\u001b[K\n",
            "remote: Total 733 (delta 154), reused 160 (delta 129), pack-reused 533 (from 1)\u001b[K\n",
            "Receiving objects: 100% (733/733), 923.88 KiB | 13.20 MiB/s, done.\n",
            "Resolving deltas: 100% (439/439), done.\n"
          ]
        }
      ]
    },
    {
      "cell_type": "markdown",
      "source": [
        "[Documentatie om een cookie op te halen](https://sites.google.com/mow.vlaanderen.be/em-infra/afspraken-conventies/awv-cookie-ophalen)"
      ],
      "metadata": {
        "id": "LBy28IzCuQK_"
      }
    },
    {
      "cell_type": "code",
      "source": [
        "# environment\n",
        "widget_environment = widgets.Dropdown(\n",
        "    options=[item for item in Environment],\n",
        "    value=Environment.PRD,\n",
        "    description='Omgeving:',\n",
        "    disabled=False,\n",
        ")\n",
        "print(\"\\n\")\n",
        "print(\"Selecteer de ongeving:\")\n",
        "display(widget_environment)"
      ],
      "metadata": {
        "colab": {
          "base_uri": "https://localhost:8080/",
          "height": 101,
          "referenced_widgets": [
            "0fe979ce4c8f4de1bc68fcfc5cf45887",
            "b474feb7ce5d4659b4c0322e23e46777",
            "5d7824b514674383ba55fc364c486080"
          ]
        },
        "id": "WBhvbFcexD84",
        "outputId": "3a318735-fcfe-4b3d-fba2-65a00d58827c"
      },
      "execution_count": 72,
      "outputs": [
        {
          "output_type": "stream",
          "name": "stdout",
          "text": [
            "\n",
            "\n",
            "Selecteer de ongeving:\n"
          ]
        },
        {
          "output_type": "display_data",
          "data": {
            "text/plain": [
              "Dropdown(description='Omgeving:', options=(<Environment.PRD: ('prd',)>, <Environment.DEV: ('dev',)>, <Environm…"
            ],
            "application/vnd.jupyter.widget-view+json": {
              "version_major": 2,
              "version_minor": 0,
              "model_id": "0fe979ce4c8f4de1bc68fcfc5cf45887"
            }
          },
          "metadata": {}
        }
      ]
    },
    {
      "cell_type": "code",
      "source": [
        "#cookie\n",
        "widget_cookie = widgets.Text(value='2f20f4bcc9bc4ff887b6b472ca0b8781')\n",
        "print('Vul de cookie in (bijvoorbeeld: \"2f20f4bcc9bc4ff887b6b472ca0b8781\")')\n",
        "display(widget_cookie)\n",
        "cookie = widget_cookie.value"
      ],
      "metadata": {
        "id": "htWozR3aoPG8",
        "colab": {
          "base_uri": "https://localhost:8080/",
          "height": 66,
          "referenced_widgets": [
            "80a238b15e3e4d87b18dedabd3727b82",
            "fc8bad7901c840aeb11bea7bb86235b3",
            "ea21fb98bb3f4d32a65babe7e35df50b"
          ]
        },
        "outputId": "5ab17dff-1e9c-4c5c-ea75-6d3754a6172a"
      },
      "execution_count": 73,
      "outputs": [
        {
          "output_type": "stream",
          "name": "stdout",
          "text": [
            "Vul de cookie in (bijvoorbeeld: \"2f20f4bcc9bc4ff887b6b472ca0b8781\")\n"
          ]
        },
        {
          "output_type": "display_data",
          "data": {
            "text/plain": [
              "Text(value='2f20f4bcc9bc4ff887b6b472ca0b8781')"
            ],
            "application/vnd.jupyter.widget-view+json": {
              "version_major": 2,
              "version_minor": 0,
              "model_id": "80a238b15e3e4d87b18dedabd3727b82"
            }
          },
          "metadata": {}
        }
      ]
    },
    {
      "cell_type": "code",
      "source": [
        "environment = widget_environment.value\n",
        "eminfra_client = EMInfraClient(cookie=cookie, auth_type=AuthType.COOKIE, env=environment)"
      ],
      "metadata": {
        "id": "c39qOdLPvExH"
      },
      "execution_count": 74,
      "outputs": []
    },
    {
      "cell_type": "code",
      "source": [
        "query_dto = QueryDTO(\n",
        "    size=100,\n",
        "    from_=0,\n",
        "    pagingMode=PagingModeEnum.OFFSET,\n",
        "    expansions={\"fields\": [\"contactInfo\"]},\n",
        "    selection=SelectionDTO(\n",
        "        expressions=[\n",
        "            ExpressionDTO(terms=[TermDTO(property='actief', operator=OperatorEnum.EQ, value=True)])\n",
        "        ]\n",
        "    )\n",
        ")\n",
        "\n",
        "generator_agents = eminfra_client.search_agent(query_dto=query_dto)\n",
        "agents = list(generator_agents) # convert generator to a list\n",
        "print(f\"Found a total of:\\t{len(agents)} agents.\")\n",
        "\n",
        "# Convert the list to a dictionary\n",
        "agents_dict = {\n",
        "    \"uuid\": [agent.uuid for agent in agents]\n",
        "    , \"naam\": [agent.naam for agent in agents]\n",
        "    , \"ovoCode\": [agent.ovoCode for agent in agents]\n",
        "    , \"voId\": [agent.voId for agent in agents]\n",
        "}\n",
        "\n",
        "# Convert the dictionary to a pandas df\n",
        "df_agents = pd.DataFrame(data= agents_dict)\n",
        "df_agents_sorted = df_agents.sort_values(by=\"naam\", ascending=True)\n",
        "# Convert pandas df to an Excel\n",
        "filename = f'agents_{environment.name}_{datetime.now().date()}.xlsx'\n",
        "df_agents_sorted.to_excel(filename, sheet_name='Agents', index=False, freeze_panes=[1,0])"
      ],
      "metadata": {
        "colab": {
          "base_uri": "https://localhost:8080/"
        },
        "id": "XngM0ckuvTZx",
        "outputId": "a6bb2132-8b9e-4be7-d196-9402e3c0c997"
      },
      "execution_count": 75,
      "outputs": [
        {
          "output_type": "stream",
          "name": "stdout",
          "text": [
            "Found a total of:\t1822 agents.\n"
          ]
        }
      ]
    },
    {
      "cell_type": "code",
      "source": [
        "files.download(filename)"
      ],
      "metadata": {
        "colab": {
          "base_uri": "https://localhost:8080/",
          "height": 17
        },
        "id": "Pg9gZk8QvtVj",
        "outputId": "06cc8ba5-4b20-4835-dbb7-0a85138dbc5d"
      },
      "execution_count": 76,
      "outputs": [
        {
          "output_type": "display_data",
          "data": {
            "text/plain": [
              "<IPython.core.display.Javascript object>"
            ],
            "application/javascript": [
              "\n",
              "    async function download(id, filename, size) {\n",
              "      if (!google.colab.kernel.accessAllowed) {\n",
              "        return;\n",
              "      }\n",
              "      const div = document.createElement('div');\n",
              "      const label = document.createElement('label');\n",
              "      label.textContent = `Downloading \"${filename}\": `;\n",
              "      div.appendChild(label);\n",
              "      const progress = document.createElement('progress');\n",
              "      progress.max = size;\n",
              "      div.appendChild(progress);\n",
              "      document.body.appendChild(div);\n",
              "\n",
              "      const buffers = [];\n",
              "      let downloaded = 0;\n",
              "\n",
              "      const channel = await google.colab.kernel.comms.open(id);\n",
              "      // Send a message to notify the kernel that we're ready.\n",
              "      channel.send({})\n",
              "\n",
              "      for await (const message of channel.messages) {\n",
              "        // Send a message to notify the kernel that we're ready.\n",
              "        channel.send({})\n",
              "        if (message.buffers) {\n",
              "          for (const buffer of message.buffers) {\n",
              "            buffers.push(buffer);\n",
              "            downloaded += buffer.byteLength;\n",
              "            progress.value = downloaded;\n",
              "          }\n",
              "        }\n",
              "      }\n",
              "      const blob = new Blob(buffers, {type: 'application/binary'});\n",
              "      const a = document.createElement('a');\n",
              "      a.href = window.URL.createObjectURL(blob);\n",
              "      a.download = filename;\n",
              "      div.appendChild(a);\n",
              "      a.click();\n",
              "      div.remove();\n",
              "    }\n",
              "  "
            ]
          },
          "metadata": {}
        },
        {
          "output_type": "display_data",
          "data": {
            "text/plain": [
              "<IPython.core.display.Javascript object>"
            ],
            "application/javascript": [
              "download(\"download_ffbd93b8-9a76-44a9-b78f-7c279a892841\", \"agents_PRD_2025-02-13.xlsx\", 118557)"
            ]
          },
          "metadata": {}
        }
      ]
    }
  ]
}
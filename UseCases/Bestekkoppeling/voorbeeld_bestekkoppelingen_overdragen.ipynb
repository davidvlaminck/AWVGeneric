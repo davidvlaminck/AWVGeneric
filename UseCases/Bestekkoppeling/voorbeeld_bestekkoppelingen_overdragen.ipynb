{
  "nbformat": 4,
  "nbformat_minor": 0,
  "metadata": {
    "colab": {
      "provenance": [],
      "include_colab_link": true
    },
    "kernelspec": {
      "name": "python3",
      "display_name": "Python 3"
    },
    "language_info": {
      "name": "python"
    }
  },
  "cells": [
    {
      "cell_type": "markdown",
      "metadata": {
        "id": "view-in-github",
        "colab_type": "text"
      },
      "source": [
        "<a href=\"https://colab.research.google.com/github/davidvlaminck/AWVGeneric/blob/master/UseCases/Bestekkoppeling/voorbeeld_bestekkoppelingen_overdragen.ipynb\" target=\"_parent\"><img src=\"https://colab.research.google.com/assets/colab-badge.svg\" alt=\"Open In Colab\"/></a>"
      ]
    },
    {
      "cell_type": "markdown",
      "source": [
        "# Voorbeeld bestekoppelingen overdragen\n",
        "\n",
        "Achterliggend wordt gebruik gemaakt van de [EM-Infra API](https://apps.mow.vlaanderen.be/eminfra/core/swagger-ui/).\n",
        "\n",
        "Lanceer via de play-knop ![image.png](data:image/png;base64,iVBORw0KGgoAAAANSUhEUgAAACEAAAAgCAYAAACcuBHKAAAAAXNSR0IArs4c6QAAAARnQU1BAACxjwv8YQUAAAAJcEhZcwAADsMAAA7DAcdvqGQAAAHySURBVFhH7ZbNSwJRFMVPQiqOYSiCiIW2cCGILly5EAyx+osrceVCEAwU0YWLdCEiiJbkd2B5hysiM/Pm9WmBP5D3vMM7HmaO987RbDZ7w56x8LpXDiY2HExs+P8mFouF+vkqH+4TrVYL3W4Xg8EAq9VKrVksFng8Hvj9foRCIbX2EaRN9Ho91Go1TCYTruijKAqi0Sh8Ph9XzDE00e/3cXt/h9flK0ajEU5dLrjdbr4qZjweY/j8BMWh4Nh6jJura3i9Xr6qRZiJE+cJLtNpXKxvsawBwul04jxwpp4lDTNMg1mv13m3hZ69jCm9s3oITQyHQ8MMpFIpxONx2O12rmihs6RhhtAEZUFEMBhENptFOBzmihYzDUJoYjqd8s4Y+ntGIhFkMhkEAgGubpHS4FXDcrnEG/cBGSiMiUQCyWRyJy+kQVoiTIP5GxiasFqtOFrfalmoN5TLZRSLxZ0wkgZpiRD+isPh4J0x1LobjQby+Tw6nQ5Xt8hoCE241l1SRLvdRi6XQ7PZ5IoWMw1CaIICRrNAj0KhgEqlgvl8zhUtdFamqQlNvIxf8LiemqVSaec50xQVNSE1Hw9l9SxpmCE1RWl8V6tV/iZHLBaTHut/e5QbsdeXGj02r3Y2m01dP8uXTHwX8i3xBzmY2PAHTADvcY7fS1N4thIAAAAASUVORK5CYII=)\n",
        "aan de linkerzijde achtereenvolgens ieder blokje code.\n",
        "\n",
        "Activeer de blokjes één voor één en voer de instructies uit in volgorde."
      ],
      "metadata": {
        "id": "HIQwq2NrMiG7"
      }
    },
    {
      "cell_type": "markdown",
      "source": [
        "## 1. Voorbereiding\n",
        "Voer onderstaande code uit. Dit haalt code op en installeert packages."
      ],
      "metadata": {
        "id": "baEClYP0BaCH"
      }
    },
    {
      "cell_type": "code",
      "source": [
        "import os, shutil\n",
        "import sys\n",
        "if os.path.exists('AWVGeneric'):\n",
        "  shutil.rmtree('AWVGeneric')\n",
        "!git clone https://github.com/davidvlaminck/AWVGeneric.git\n",
        "sys.path.insert(0, '/content/AWVGeneric')  # adds the Python files from the GitHub repo to the sys-path."
      ],
      "metadata": {
        "id": "HeTbJbGkRh4A",
        "collapsed": true
      },
      "execution_count": null,
      "outputs": []
    },
    {
      "cell_type": "markdown",
      "source": [
        "## 2. Parameters instellen\n",
        "Haal een cookie op volgens [deze instructies](https://sites.google.com/mow.vlaanderen.be/em-infra/afspraken-conventies/awv-cookie-ophalen).\n",
        "Vul deze hieronder in, en pas eventueel de filters aan.\n",
        "Druk daarna op de play-knop"
      ],
      "metadata": {
        "id": "0ptNEH8kkpwj"
      }
    },
    {
      "cell_type": "code",
      "source": [
        "    from API.Enums import AuthType, Environment\n",
        "    cookie = 'db3e9f142f724dc8b720108d108222af'\n",
        "    environment = Environment.PRD\n",
        "    print('parameters ingevuld')"
      ],
      "metadata": {
        "id": "b9scpKTo6wNG",
        "outputId": "fc6102ed-2ab5-4b70-a61d-510e6871b89c",
        "colab": {
          "base_uri": "https://localhost:8080/"
        }
      },
      "execution_count": 8,
      "outputs": [
        {
          "output_type": "stream",
          "name": "stdout",
          "text": [
            "parameters ingevuld\n"
          ]
        }
      ]
    },
    {
      "cell_type": "markdown",
      "source": [
        "## 3. Bestekken definiëren\n",
        "Met deze code kan je bestekken ophalen uit de API en verifiëren dat je de juiste bestekreferentie hebt gevonden."
      ],
      "metadata": {
        "id": "Pef2CnTI913C"
      }
    },
    {
      "cell_type": "code",
      "source": [
        "from API.EMInfraClient import EMInfraClient\n",
        "eminfra_client = EMInfraClient(env=environment, auth_type=AuthType.COOKIE, cookie=cookie)\n",
        "\n",
        "oud_eDelta_dossiernummer = 'VWT/CEW/2020/009-2'\n",
        "nieuw_eDelta_dossiernummer = 'AWV/VW/2024/1_P2'\n",
        "\n",
        "bestekref1 = eminfra_client.get_bestekref_by_eDelta_dossiernummer(eDelta_dossiernummer=oud_eDelta_dossiernummer)\n",
        "print(bestekref1)\n",
        "bestekref2 = eminfra_client.get_bestekref_by_eDelta_dossiernummer(eDelta_dossiernummer=nieuw_eDelta_dossiernummer)\n",
        "print(bestekref2)"
      ],
      "metadata": {
        "id": "QkZgSMWXSph2"
      },
      "execution_count": null,
      "outputs": []
    },
    {
      "cell_type": "markdown",
      "source": [
        "## 4. Bestekkoppelingen aanpassen\n",
        "Met deze code kan je assets opzoeken en vervolgens de koppelingen wijzigen.\n",
        "Met de replace functie kan je aangeven welk bestek moet worden vervangen door een ander bestek en vanaf welk tijdstip dit moet doorgaan."
      ],
      "metadata": {
        "id": "ysRbDB0bAdOO"
      }
    },
    {
      "cell_type": "code",
      "source": [
        "from datetime import datetime\n",
        "from API.EMInfraDomain import QueryDTO, ExpansionsDTO, PagingModeEnum, SelectionDTO, ExpressionDTO, TermDTO, \\\n",
        "    OperatorEnum, LogicalOpEnum\n",
        "\n",
        "query_dto = QueryDTO(size=100, from_=0, pagingMode=PagingModeEnum.OFFSET,\n",
        "                     selection=SelectionDTO(\n",
        "                         expressions=[ExpressionDTO(\n",
        "                             terms=[\n",
        "                                 TermDTO(property='actief', operator=OperatorEnum.EQ,\n",
        "                                         value=True),\n",
        "                                 TermDTO(property='actiefBestek', operator=OperatorEnum.EQ,\n",
        "                                         value=bestekref1.uuid, logicalOp=LogicalOpEnum.AND)])]))\n",
        "\n",
        "for counter, asset in enumerate(eminfra_client.search_assets(query_dto)):\n",
        "    print(f'Asset {counter + 1}: {asset.uuid}')\n",
        "    if not asset.type.korteUri.startswith('lgc:'):\n",
        "        print(f'Asset {counter + 1} is not a lgc type, skipped')\n",
        "        continue\n",
        "\n",
        "    eminfra_client.replace_bestekkoppeling(asset_uuid=asset.uuid,\n",
        "                                           eDelta_dossiernummer_old=oud_eDelta_dossiernummer,\n",
        "                                           eDelta_dossiernummer_new=nieuw_eDelta_dossiernummer,\n",
        "                                           start_datetime=datetime(2025, 4, 2))\n",
        "\n",
        "    # break # te gebruiken wanneer je één wijziging wil testen (opletten: break moet in de for-loop zitten dus 4 spaties of 1 tab)"
      ],
      "metadata": {
        "id": "QZqarOTEAd6u",
        "outputId": "f404fc98-7f15-40be-d3e2-4d2513c2e0fc",
        "colab": {
          "base_uri": "https://localhost:8080/"
        }
      },
      "execution_count": null,
      "outputs": [
        {
          "output_type": "stream",
          "name": "stdout",
          "text": [
            "Asset 1: 00026034-00a5-4420-9583-8b4295ccf949\n"
          ]
        }
      ]
    }
  ]
}
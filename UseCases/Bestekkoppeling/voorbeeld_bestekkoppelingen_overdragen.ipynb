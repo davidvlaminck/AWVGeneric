{
  "nbformat": 4,
  "nbformat_minor": 0,
  "metadata": {
    "colab": {
      "provenance": [],
      "include_colab_link": true
    },
    "kernelspec": {
      "name": "python3",
      "display_name": "Python 3"
    },
    "language_info": {
      "name": "python"
    }
  },
  "cells": [
    {
      "cell_type": "markdown",
      "metadata": {
        "id": "view-in-github",
        "colab_type": "text"
      },
      "source": [
        "<a href=\"https://colab.research.google.com/github/davidvlaminck/AWVGeneric/blob/master/UseCases/Bestekkoppeling/voorbeeld_bestekkoppelingen_overdragen.ipynb\" target=\"_parent\"><img src=\"https://colab.research.google.com/assets/colab-badge.svg\" alt=\"Open In Colab\"/></a>"
      ]
    },
    {
      "cell_type": "markdown",
      "source": [
        "# Voorbeeld bestekoppelingen overdragen\n",
        "\n",
        "Achterliggend wordt gebruik gemaakt van de [EM-Infra API](https://apps.mow.vlaanderen.be/eminfra/core/swagger-ui/).\n",
        "\n",
        "Lanceer via de play-knop ![image.png](data:image/png;base64,iVBORw0KGgoAAAANSUhEUgAAACEAAAAgCAYAAACcuBHKAAAAAXNSR0IArs4c6QAAAARnQU1BAACxjwv8YQUAAAAJcEhZcwAADsMAAA7DAcdvqGQAAAHySURBVFhH7ZbNSwJRFMVPQiqOYSiCiIW2cCGILly5EAyx+osrceVCEAwU0YWLdCEiiJbkd2B5hysiM/Pm9WmBP5D3vMM7HmaO987RbDZ7w56x8LpXDiY2HExs+P8mFouF+vkqH+4TrVYL3W4Xg8EAq9VKrVksFng8Hvj9foRCIbX2EaRN9Ho91Go1TCYTruijKAqi0Sh8Ph9XzDE00e/3cXt/h9flK0ajEU5dLrjdbr4qZjweY/j8BMWh4Nh6jJura3i9Xr6qRZiJE+cJLtNpXKxvsawBwul04jxwpp4lDTNMg1mv13m3hZ69jCm9s3oITQyHQ8MMpFIpxONx2O12rmihs6RhhtAEZUFEMBhENptFOBzmihYzDUJoYjqd8s4Y+ntGIhFkMhkEAgGubpHS4FXDcrnEG/cBGSiMiUQCyWRyJy+kQVoiTIP5GxiasFqtOFrfalmoN5TLZRSLxZ0wkgZpiRD+isPh4J0x1LobjQby+Tw6nQ5Xt8hoCE241l1SRLvdRi6XQ7PZ5IoWMw1CaIICRrNAj0KhgEqlgvl8zhUtdFamqQlNvIxf8LiemqVSaec50xQVNSE1Hw9l9SxpmCE1RWl8V6tV/iZHLBaTHut/e5QbsdeXGj02r3Y2m01dP8uXTHwX8i3xBzmY2PAHTADvcY7fS1N4thIAAAAASUVORK5CYII=)\n",
        "aan de linkerzijde achtereenvolgens ieder blokje code.\n",
        "\n",
        "Activeer de blokjes één voor één en voer de instructies uit in volgorde."
      ],
      "metadata": {
        "id": "HIQwq2NrMiG7"
      }
    },
    {
      "cell_type": "markdown",
      "source": [
        "Voer onderstaand code uit. Dit haalt code op en installeert packages."
      ],
      "metadata": {
        "id": "baEClYP0BaCH"
      }
    },
    {
      "cell_type": "code",
      "source": [
        "import os, shutil\n",
        "import sys\n",
        "if os.path.exists('AWVGeneric'):\n",
        "  shutil.rmtree('AWVGeneric')\n",
        "!git clone https://github.com/davidvlaminck/AWVGeneric.git\n",
        "sys.path.insert(0, '/content/AWVGeneric')  # adds the Python files from the GitHub repo to the sys-path.\n",
        "\n",
        "!pip install pyvis\n",
        "!pip install more_itertools"
      ],
      "metadata": {
        "id": "HeTbJbGkRh4A",
        "collapsed": true,
        "outputId": "32a8334b-0730-4638-b5ad-0a884c9a1235",
        "colab": {
          "base_uri": "https://localhost:8080/"
        }
      },
      "execution_count": 9,
      "outputs": [
        {
          "output_type": "stream",
          "name": "stdout",
          "text": [
            "Cloning into 'AWVGeneric'...\n",
            "remote: Enumerating objects: 1348, done.\u001b[K\n",
            "remote: Counting objects: 100% (431/431), done.\u001b[K\n",
            "remote: Compressing objects: 100% (185/185), done.\u001b[K\n",
            "remote: Total 1348 (delta 324), reused 293 (delta 246), pack-reused 917 (from 1)\u001b[K\n",
            "Receiving objects: 100% (1348/1348), 1.26 MiB | 12.60 MiB/s, done.\n",
            "Resolving deltas: 100% (852/852), done.\n",
            "Requirement already satisfied: pyvis in /usr/local/lib/python3.11/dist-packages (0.3.2)\n",
            "Requirement already satisfied: ipython>=5.3.0 in /usr/local/lib/python3.11/dist-packages (from pyvis) (7.34.0)\n",
            "Requirement already satisfied: jinja2>=2.9.6 in /usr/local/lib/python3.11/dist-packages (from pyvis) (3.1.6)\n",
            "Requirement already satisfied: jsonpickle>=1.4.1 in /usr/local/lib/python3.11/dist-packages (from pyvis) (4.0.2)\n",
            "Requirement already satisfied: networkx>=1.11 in /usr/local/lib/python3.11/dist-packages (from pyvis) (3.4.2)\n",
            "Requirement already satisfied: setuptools>=18.5 in /usr/local/lib/python3.11/dist-packages (from ipython>=5.3.0->pyvis) (75.2.0)\n",
            "Requirement already satisfied: jedi>=0.16 in /usr/local/lib/python3.11/dist-packages (from ipython>=5.3.0->pyvis) (0.19.2)\n",
            "Requirement already satisfied: decorator in /usr/local/lib/python3.11/dist-packages (from ipython>=5.3.0->pyvis) (4.4.2)\n",
            "Requirement already satisfied: pickleshare in /usr/local/lib/python3.11/dist-packages (from ipython>=5.3.0->pyvis) (0.7.5)\n",
            "Requirement already satisfied: traitlets>=4.2 in /usr/local/lib/python3.11/dist-packages (from ipython>=5.3.0->pyvis) (5.7.1)\n",
            "Requirement already satisfied: prompt-toolkit!=3.0.0,!=3.0.1,<3.1.0,>=2.0.0 in /usr/local/lib/python3.11/dist-packages (from ipython>=5.3.0->pyvis) (3.0.50)\n",
            "Requirement already satisfied: pygments in /usr/local/lib/python3.11/dist-packages (from ipython>=5.3.0->pyvis) (2.18.0)\n",
            "Requirement already satisfied: backcall in /usr/local/lib/python3.11/dist-packages (from ipython>=5.3.0->pyvis) (0.2.0)\n",
            "Requirement already satisfied: matplotlib-inline in /usr/local/lib/python3.11/dist-packages (from ipython>=5.3.0->pyvis) (0.1.7)\n",
            "Requirement already satisfied: pexpect>4.3 in /usr/local/lib/python3.11/dist-packages (from ipython>=5.3.0->pyvis) (4.9.0)\n",
            "Requirement already satisfied: MarkupSafe>=2.0 in /usr/local/lib/python3.11/dist-packages (from jinja2>=2.9.6->pyvis) (3.0.2)\n",
            "Requirement already satisfied: parso<0.9.0,>=0.8.4 in /usr/local/lib/python3.11/dist-packages (from jedi>=0.16->ipython>=5.3.0->pyvis) (0.8.4)\n",
            "Requirement already satisfied: ptyprocess>=0.5 in /usr/local/lib/python3.11/dist-packages (from pexpect>4.3->ipython>=5.3.0->pyvis) (0.7.0)\n",
            "Requirement already satisfied: wcwidth in /usr/local/lib/python3.11/dist-packages (from prompt-toolkit!=3.0.0,!=3.0.1,<3.1.0,>=2.0.0->ipython>=5.3.0->pyvis) (0.2.13)\n",
            "Requirement already satisfied: more_itertools in /usr/local/lib/python3.11/dist-packages (10.6.0)\n"
          ]
        }
      ]
    },
    {
      "cell_type": "markdown",
      "source": [
        "## Parameters instellen\n",
        "Haal een cookie op volgens [deze instructies](https://sites.google.com/mow.vlaanderen.be/em-infra/afspraken-conventies/awv-cookie-ophalen).\n",
        "Vul deze hieronder in, en pas eventueel de filters aan.\n",
        "Druk daarna op de play-knop"
      ],
      "metadata": {
        "id": "0ptNEH8kkpwj"
      }
    },
    {
      "cell_type": "code",
      "source": [
        "    from API.Enums import AuthType, Environment\n",
        "    cookie = '028b8e92719a47fd877f123d4ebed005'\n",
        "    environment = Environment.PRD"
      ],
      "metadata": {
        "id": "b9scpKTo6wNG"
      },
      "execution_count": 13,
      "outputs": []
    },
    {
      "cell_type": "markdown",
      "source": [
        "## Bestekken definiëren\n",
        "Met deze code kan je bestekken ophalen uit de API en verifiëren dat je de juiste bestekreferentie hebt gevonden."
      ],
      "metadata": {
        "id": "Pef2CnTI913C"
      }
    },
    {
      "cell_type": "code",
      "source": [
        "from API.EMInfraClient import EMInfraClient\n",
        "eminfra_client = EMInfraClient(env=environment, auth_type=AuthType.COOKIE, cookie=cookie)\n",
        "\n",
        "oud_eDelta_dossiernummer = 'VWT/CEW/2020/009-3'\n",
        "nieuw_eDelta_dossiernummer = 'AWV/VW/2024/1_P3'\n",
        "\n",
        "bestekref1 = eminfra_client.get_bestekref_by_eDelta_dossiernummer(eDelta_dossiernummer=oud_eDelta_dossiernummer)\n",
        "print(bestekref1)\n",
        "bestekref2 = eminfra_client.get_bestekref_by_eDelta_dossiernummer(eDelta_dossiernummer=nieuw_eDelta_dossiernummer)\n",
        "print(bestekref2)"
      ],
      "metadata": {
        "id": "QkZgSMWXSph2"
      },
      "execution_count": null,
      "outputs": []
    },
    {
      "cell_type": "markdown",
      "source": [],
      "metadata": {
        "id": "ysRbDB0bAdOO"
      }
    },
    {
      "cell_type": "code",
      "source": [
        "from datetime import datetime\n",
        "from API.EMInfraDomain import QueryDTO, ExpansionsDTO, PagingModeEnum, SelectionDTO, ExpressionDTO, TermDTO, \\\n",
        "    OperatorEnum, LogicalOpEnum\n",
        "\n",
        "query_dto = QueryDTO(size=100, from_=0, pagingMode=PagingModeEnum.OFFSET,\n",
        "                     selection=SelectionDTO(\n",
        "                         expressions=[ExpressionDTO(\n",
        "                             terms=[\n",
        "                                 TermDTO(property='actief', operator=OperatorEnum.EQ,\n",
        "                                         value=True),\n",
        "                                 TermDTO(property='actiefBestek', operator=OperatorEnum.EQ,\n",
        "                                         value=bestekref1.uuid, logicalOp=LogicalOpEnum.AND)])]))\n",
        "for counter, asset in enumerate(eminfra_client.search_assets(query_dto)):\n",
        "    print(f'Asset {counter + 1}: {asset.uuid}')\n",
        "    if not asset.type.korteUri.startswith('lgc:'):\n",
        "        print(f'Asset {counter + 1} is not a lgc type, skipped')\n",
        "        continue\n",
        "\n",
        "    eminfra_client.replace_bestekkoppeling(asset_uuid=asset.uuid, eDelta_dossiernummer_old=oud_eDelta_dossiernummer,\n",
        "                                           eDelta_dossiernummer_new=nieuw_eDelta_dossiernummer,\n",
        "                                           start_datetime=datetime(2025, 4, 1))\n",
        "\n"
      ],
      "metadata": {
        "id": "QZqarOTEAd6u",
        "outputId": "f404fc98-7f15-40be-d3e2-4d2513c2e0fc",
        "colab": {
          "base_uri": "https://localhost:8080/"
        }
      },
      "execution_count": 15,
      "outputs": [
        {
          "output_type": "stream",
          "name": "stdout",
          "text": [
            "Asset 1: 00026034-00a5-4420-9583-8b4295ccf949\n"
          ]
        }
      ]
    }
  ]
}
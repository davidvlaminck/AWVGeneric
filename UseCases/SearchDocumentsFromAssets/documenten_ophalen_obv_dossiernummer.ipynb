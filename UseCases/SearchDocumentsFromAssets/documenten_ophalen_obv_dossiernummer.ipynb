{
  "nbformat": 4,
  "nbformat_minor": 0,
  "metadata": {
    "colab": {
      "provenance": [],
      "authorship_tag": "ABX9TyN8BVG4GxlaM3FGaeNmFFSP",
      "include_colab_link": true
    },
    "kernelspec": {
      "name": "python3",
      "display_name": "Python 3"
    },
    "language_info": {
      "name": "python"
    },
    "widgets": {
      "application/vnd.jupyter.widget-state+json": {
        "4bb1e11b5bf241968ee8637b8189b555": {
          "model_module": "@jupyter-widgets/controls",
          "model_name": "TextModel",
          "model_module_version": "1.5.0",
          "state": {
            "_dom_classes": [],
            "_model_module": "@jupyter-widgets/controls",
            "_model_module_version": "1.5.0",
            "_model_name": "TextModel",
            "_view_count": null,
            "_view_module": "@jupyter-widgets/controls",
            "_view_module_version": "1.5.0",
            "_view_name": "TextView",
            "continuous_update": true,
            "description": "",
            "description_tooltip": null,
            "disabled": false,
            "layout": "IPY_MODEL_ef1cb6b9d96e48d985e465f3923efe0a",
            "placeholder": "​",
            "style": "IPY_MODEL_fb123befcd6f4e6687b1373a014d9da4",
            "value": "VWT/DVM/2023/3"
          }
        },
        "ef1cb6b9d96e48d985e465f3923efe0a": {
          "model_module": "@jupyter-widgets/base",
          "model_name": "LayoutModel",
          "model_module_version": "1.2.0",
          "state": {
            "_model_module": "@jupyter-widgets/base",
            "_model_module_version": "1.2.0",
            "_model_name": "LayoutModel",
            "_view_count": null,
            "_view_module": "@jupyter-widgets/base",
            "_view_module_version": "1.2.0",
            "_view_name": "LayoutView",
            "align_content": null,
            "align_items": null,
            "align_self": null,
            "border": null,
            "bottom": null,
            "display": null,
            "flex": null,
            "flex_flow": null,
            "grid_area": null,
            "grid_auto_columns": null,
            "grid_auto_flow": null,
            "grid_auto_rows": null,
            "grid_column": null,
            "grid_gap": null,
            "grid_row": null,
            "grid_template_areas": null,
            "grid_template_columns": null,
            "grid_template_rows": null,
            "height": null,
            "justify_content": null,
            "justify_items": null,
            "left": null,
            "margin": null,
            "max_height": null,
            "max_width": null,
            "min_height": null,
            "min_width": null,
            "object_fit": null,
            "object_position": null,
            "order": null,
            "overflow": null,
            "overflow_x": null,
            "overflow_y": null,
            "padding": null,
            "right": null,
            "top": null,
            "visibility": null,
            "width": null
          }
        },
        "fb123befcd6f4e6687b1373a014d9da4": {
          "model_module": "@jupyter-widgets/controls",
          "model_name": "DescriptionStyleModel",
          "model_module_version": "1.5.0",
          "state": {
            "_model_module": "@jupyter-widgets/controls",
            "_model_module_version": "1.5.0",
            "_model_name": "DescriptionStyleModel",
            "_view_count": null,
            "_view_module": "@jupyter-widgets/base",
            "_view_module_version": "1.2.0",
            "_view_name": "StyleView",
            "description_width": ""
          }
        },
        "fe936767191b4226b62861e8808c2c3c": {
          "model_module": "@jupyter-widgets/controls",
          "model_name": "SelectMultipleModel",
          "model_module_version": "1.5.0",
          "state": {
            "_dom_classes": [],
            "_model_module": "@jupyter-widgets/controls",
            "_model_module_version": "1.5.0",
            "_model_name": "SelectMultipleModel",
            "_options_labels": [
              "AANGEBODEN_SERVICES",
              "ANDER",
              "ASBUILT_DOSSIER",
              "BEREKENINGSNOTA",
              "BRIEF",
              "CONFIGBESTAND",
              "CONSTRUCTIE_EN_MONTAGEPLAN",
              "CONTROLEMETING_EBS",
              "DIMCONFIGURATIE",
              "ELEKTRISCH_SCHEMA",
              "FACTUUR",
              "FOTO",
              "HANDLEIDING",
              "INTERVENTIEVERSLAG",
              "KABELAANSLUITSCHEMA",
              "KEURINGSVERSLAG",
              "LICHTSTUDIE",
              "LUSSENMEETRAPPORT",
              "MEETRAPPORT",
              "M_PLAN",
              "OFFERTE",
              "OPROEPDOCUMENT",
              "PV_INGEBREKESTELLING",
              "PV_OPLEVERING",
              "PV_SCHADEVERWEKKER",
              "RISICOANALYSE",
              "SOFTWARE_DEPENDENCIES",
              "TECHNISCHE_FICHE",
              "TRACO_ATTEST",
              "V_PLAN"
            ],
            "_view_count": null,
            "_view_module": "@jupyter-widgets/controls",
            "_view_module_version": "1.5.0",
            "_view_name": "SelectMultipleView",
            "description": "",
            "description_tooltip": null,
            "disabled": false,
            "index": [
              11
            ],
            "layout": "IPY_MODEL_b8e6c723506944f086a8cd37ce1bad7b",
            "rows": 5,
            "style": "IPY_MODEL_140475e8a4a14750af709fdb497c55db"
          }
        },
        "b8e6c723506944f086a8cd37ce1bad7b": {
          "model_module": "@jupyter-widgets/base",
          "model_name": "LayoutModel",
          "model_module_version": "1.2.0",
          "state": {
            "_model_module": "@jupyter-widgets/base",
            "_model_module_version": "1.2.0",
            "_model_name": "LayoutModel",
            "_view_count": null,
            "_view_module": "@jupyter-widgets/base",
            "_view_module_version": "1.2.0",
            "_view_name": "LayoutView",
            "align_content": null,
            "align_items": null,
            "align_self": null,
            "border": null,
            "bottom": null,
            "display": null,
            "flex": null,
            "flex_flow": null,
            "grid_area": null,
            "grid_auto_columns": null,
            "grid_auto_flow": null,
            "grid_auto_rows": null,
            "grid_column": null,
            "grid_gap": null,
            "grid_row": null,
            "grid_template_areas": null,
            "grid_template_columns": null,
            "grid_template_rows": null,
            "height": null,
            "justify_content": null,
            "justify_items": null,
            "left": null,
            "margin": null,
            "max_height": null,
            "max_width": null,
            "min_height": null,
            "min_width": null,
            "object_fit": null,
            "object_position": null,
            "order": null,
            "overflow": null,
            "overflow_x": null,
            "overflow_y": null,
            "padding": null,
            "right": null,
            "top": null,
            "visibility": null,
            "width": null
          }
        },
        "140475e8a4a14750af709fdb497c55db": {
          "model_module": "@jupyter-widgets/controls",
          "model_name": "DescriptionStyleModel",
          "model_module_version": "1.5.0",
          "state": {
            "_model_module": "@jupyter-widgets/controls",
            "_model_module_version": "1.5.0",
            "_model_name": "DescriptionStyleModel",
            "_view_count": null,
            "_view_module": "@jupyter-widgets/base",
            "_view_module_version": "1.2.0",
            "_view_name": "StyleView",
            "description_width": ""
          }
        },
        "a4457dc8864d4261b5fd25161c282973": {
          "model_module": "@jupyter-widgets/controls",
          "model_name": "TextModel",
          "model_module_version": "1.5.0",
          "state": {
            "_dom_classes": [],
            "_model_module": "@jupyter-widgets/controls",
            "_model_module_version": "1.5.0",
            "_model_name": "TextModel",
            "_view_count": null,
            "_view_module": "@jupyter-widgets/controls",
            "_view_module_version": "1.5.0",
            "_view_name": "TextView",
            "continuous_update": true,
            "description": "",
            "description_tooltip": null,
            "disabled": false,
            "layout": "IPY_MODEL_d91d649c41974e45aacbf9ea3f837a8b",
            "placeholder": "​",
            "style": "IPY_MODEL_ceed9c3346ec47e4ad85565eb0faeb53",
            "value": "Stefan Missotten"
          }
        },
        "d91d649c41974e45aacbf9ea3f837a8b": {
          "model_module": "@jupyter-widgets/base",
          "model_name": "LayoutModel",
          "model_module_version": "1.2.0",
          "state": {
            "_model_module": "@jupyter-widgets/base",
            "_model_module_version": "1.2.0",
            "_model_name": "LayoutModel",
            "_view_count": null,
            "_view_module": "@jupyter-widgets/base",
            "_view_module_version": "1.2.0",
            "_view_name": "LayoutView",
            "align_content": null,
            "align_items": null,
            "align_self": null,
            "border": null,
            "bottom": null,
            "display": null,
            "flex": null,
            "flex_flow": null,
            "grid_area": null,
            "grid_auto_columns": null,
            "grid_auto_flow": null,
            "grid_auto_rows": null,
            "grid_column": null,
            "grid_gap": null,
            "grid_row": null,
            "grid_template_areas": null,
            "grid_template_columns": null,
            "grid_template_rows": null,
            "height": null,
            "justify_content": null,
            "justify_items": null,
            "left": null,
            "margin": null,
            "max_height": null,
            "max_width": null,
            "min_height": null,
            "min_width": null,
            "object_fit": null,
            "object_position": null,
            "order": null,
            "overflow": null,
            "overflow_x": null,
            "overflow_y": null,
            "padding": null,
            "right": null,
            "top": null,
            "visibility": null,
            "width": null
          }
        },
        "ceed9c3346ec47e4ad85565eb0faeb53": {
          "model_module": "@jupyter-widgets/controls",
          "model_name": "DescriptionStyleModel",
          "model_module_version": "1.5.0",
          "state": {
            "_model_module": "@jupyter-widgets/controls",
            "_model_module_version": "1.5.0",
            "_model_name": "DescriptionStyleModel",
            "_view_count": null,
            "_view_module": "@jupyter-widgets/base",
            "_view_module_version": "1.2.0",
            "_view_name": "StyleView",
            "description_width": ""
          }
        },
        "b4c871bcc96a4c3681876cec76a428ec": {
          "model_module": "@jupyter-widgets/controls",
          "model_name": "SelectMultipleModel",
          "model_module_version": "1.5.0",
          "state": {
            "_dom_classes": [],
            "_model_module": "@jupyter-widgets/controls",
            "_model_module_version": "1.5.0",
            "_model_name": "SelectMultipleModel",
            "_options_labels": [
              "antwerpen",
              "west-vlaanderen",
              "oost-vlaanderen",
              "vlaams-brabant",
              "limburg",
              "brussel"
            ],
            "_view_count": null,
            "_view_module": "@jupyter-widgets/controls",
            "_view_module_version": "1.5.0",
            "_view_name": "SelectMultipleView",
            "description": "",
            "description_tooltip": null,
            "disabled": false,
            "index": [
              3
            ],
            "layout": "IPY_MODEL_2c8ec69ef8eb495594c8d6d8a9604f77",
            "rows": 6,
            "style": "IPY_MODEL_5a8ddb1fceb0456294d08b3063b809c0"
          }
        },
        "2c8ec69ef8eb495594c8d6d8a9604f77": {
          "model_module": "@jupyter-widgets/base",
          "model_name": "LayoutModel",
          "model_module_version": "1.2.0",
          "state": {
            "_model_module": "@jupyter-widgets/base",
            "_model_module_version": "1.2.0",
            "_model_name": "LayoutModel",
            "_view_count": null,
            "_view_module": "@jupyter-widgets/base",
            "_view_module_version": "1.2.0",
            "_view_name": "LayoutView",
            "align_content": null,
            "align_items": null,
            "align_self": null,
            "border": null,
            "bottom": null,
            "display": null,
            "flex": null,
            "flex_flow": null,
            "grid_area": null,
            "grid_auto_columns": null,
            "grid_auto_flow": null,
            "grid_auto_rows": null,
            "grid_column": null,
            "grid_gap": null,
            "grid_row": null,
            "grid_template_areas": null,
            "grid_template_columns": null,
            "grid_template_rows": null,
            "height": null,
            "justify_content": null,
            "justify_items": null,
            "left": null,
            "margin": null,
            "max_height": null,
            "max_width": null,
            "min_height": null,
            "min_width": null,
            "object_fit": null,
            "object_position": null,
            "order": null,
            "overflow": null,
            "overflow_x": null,
            "overflow_y": null,
            "padding": null,
            "right": null,
            "top": null,
            "visibility": null,
            "width": null
          }
        },
        "5a8ddb1fceb0456294d08b3063b809c0": {
          "model_module": "@jupyter-widgets/controls",
          "model_name": "DescriptionStyleModel",
          "model_module_version": "1.5.0",
          "state": {
            "_model_module": "@jupyter-widgets/controls",
            "_model_module_version": "1.5.0",
            "_model_name": "DescriptionStyleModel",
            "_view_count": null,
            "_view_module": "@jupyter-widgets/base",
            "_view_module_version": "1.2.0",
            "_view_name": "StyleView",
            "description_width": ""
          }
        },
        "3c25568ecf2b487893e419a59fc3dbf5": {
          "model_module": "@jupyter-widgets/controls",
          "model_name": "TextModel",
          "model_module_version": "1.5.0",
          "state": {
            "_dom_classes": [],
            "_model_module": "@jupyter-widgets/controls",
            "_model_module_version": "1.5.0",
            "_model_name": "TextModel",
            "_view_count": null,
            "_view_module": "@jupyter-widgets/controls",
            "_view_module_version": "1.5.0",
            "_view_name": "TextView",
            "continuous_update": true,
            "description": "",
            "description_tooltip": null,
            "disabled": false,
            "layout": "IPY_MODEL_c6d58323ab5447cfb2eb525c5252ea54",
            "placeholder": "​",
            "style": "IPY_MODEL_11e5d590d56f4c73a8b4fef3f7e05358",
            "value": "38df78e30da4448a9cbb94517cd7fb08"
          }
        },
        "c6d58323ab5447cfb2eb525c5252ea54": {
          "model_module": "@jupyter-widgets/base",
          "model_name": "LayoutModel",
          "model_module_version": "1.2.0",
          "state": {
            "_model_module": "@jupyter-widgets/base",
            "_model_module_version": "1.2.0",
            "_model_name": "LayoutModel",
            "_view_count": null,
            "_view_module": "@jupyter-widgets/base",
            "_view_module_version": "1.2.0",
            "_view_name": "LayoutView",
            "align_content": null,
            "align_items": null,
            "align_self": null,
            "border": null,
            "bottom": null,
            "display": null,
            "flex": null,
            "flex_flow": null,
            "grid_area": null,
            "grid_auto_columns": null,
            "grid_auto_flow": null,
            "grid_auto_rows": null,
            "grid_column": null,
            "grid_gap": null,
            "grid_row": null,
            "grid_template_areas": null,
            "grid_template_columns": null,
            "grid_template_rows": null,
            "height": null,
            "justify_content": null,
            "justify_items": null,
            "left": null,
            "margin": null,
            "max_height": null,
            "max_width": null,
            "min_height": null,
            "min_width": null,
            "object_fit": null,
            "object_position": null,
            "order": null,
            "overflow": null,
            "overflow_x": null,
            "overflow_y": null,
            "padding": null,
            "right": null,
            "top": null,
            "visibility": null,
            "width": null
          }
        },
        "11e5d590d56f4c73a8b4fef3f7e05358": {
          "model_module": "@jupyter-widgets/controls",
          "model_name": "DescriptionStyleModel",
          "model_module_version": "1.5.0",
          "state": {
            "_model_module": "@jupyter-widgets/controls",
            "_model_module_version": "1.5.0",
            "_model_name": "DescriptionStyleModel",
            "_view_count": null,
            "_view_module": "@jupyter-widgets/base",
            "_view_module_version": "1.2.0",
            "_view_name": "StyleView",
            "description_width": ""
          }
        }
      }
    }
  },
  "cells": [
    {
      "cell_type": "markdown",
      "metadata": {
        "id": "view-in-github",
        "colab_type": "text"
      },
      "source": [
        "<a href=\"https://colab.research.google.com/github/davidvlaminck/AWVGeneric/blob/master/UseCases/SearchDocumentsFromAssets/documenten_ophalen_obv_dossiernummer.ipynb\" target=\"_parent\"><img src=\"https://colab.research.google.com/assets/colab-badge.svg\" alt=\"Open In Colab\"/></a>"
      ]
    },
    {
      "cell_type": "markdown",
      "source": [
        "# Documenten ophalen op basis van dossiernummer\n",
        "\n",
        "Download documenten gelinkt aan een specifiek **dossiernunmmer**.\n",
        "\n",
        "Filter bijkomend op:\n",
        "- **document type** *\\**\n",
        "- **toezichthouder** *\\**\n",
        "- **provincies** *\\**\n",
        "\n",
        "*\\** optioneel\n",
        "\n",
        "Achterliggend wordt gebruik gemaakt van de [EM-Infra API](https://apps.mow.vlaanderen.be/eminfra/core/swagger-ui/).\n",
        "\n",
        "Lanceer via de play-knop ![image.png](data:image/png;base64,iVBORw0KGgoAAAANSUhEUgAAACEAAAAgCAYAAACcuBHKAAAAAXNSR0IArs4c6QAAAARnQU1BAACxjwv8YQUAAAAJcEhZcwAADsMAAA7DAcdvqGQAAAHySURBVFhH7ZbNSwJRFMVPQiqOYSiCiIW2cCGILly5EAyx+osrceVCEAwU0YWLdCEiiJbkd2B5hysiM/Pm9WmBP5D3vMM7HmaO987RbDZ7w56x8LpXDiY2HExs+P8mFouF+vkqH+4TrVYL3W4Xg8EAq9VKrVksFng8Hvj9foRCIbX2EaRN9Ho91Go1TCYTruijKAqi0Sh8Ph9XzDE00e/3cXt/h9flK0ajEU5dLrjdbr4qZjweY/j8BMWh4Nh6jJura3i9Xr6qRZiJE+cJLtNpXKxvsawBwul04jxwpp4lDTNMg1mv13m3hZ69jCm9s3oITQyHQ8MMpFIpxONx2O12rmihs6RhhtAEZUFEMBhENptFOBzmihYzDUJoYjqd8s4Y+ntGIhFkMhkEAgGubpHS4FXDcrnEG/cBGSiMiUQCyWRyJy+kQVoiTIP5GxiasFqtOFrfalmoN5TLZRSLxZ0wkgZpiRD+isPh4J0x1LobjQby+Tw6nQ5Xt8hoCE241l1SRLvdRi6XQ7PZ5IoWMw1CaIICRrNAj0KhgEqlgvl8zhUtdFamqQlNvIxf8LiemqVSaec50xQVNSE1Hw9l9SxpmCE1RWl8V6tV/iZHLBaTHut/e5QbsdeXGj02r3Y2m01dP8uXTHwX8i3xBzmY2PAHTADvcY7fS1N4thIAAAAASUVORK5CYII=)\n",
        "aan de linkerzijde achtereenvolgens ieder blokje code.\n",
        "\n",
        "De eerste blokjes code dienen om alles te initialiseren. Nadien vragen we je de parameters in te vullen en het eigenlijke script te starten.\n"
      ],
      "metadata": {
        "id": "HIQwq2NrMiG7"
      }
    },
    {
      "cell_type": "code",
      "source": [
        "import os, shutil\n",
        "import sys\n",
        "if os.path.exists('AWVGeneric'):\n",
        "  shutil.rmtree('AWVGeneric')\n",
        "!git clone https://github.com/davidvlaminck/AWVGeneric.git\n",
        "sys.path.insert(0, '/content/AWVGeneric')  # adds the Python files from the GitHub repo to the sys-path.\n",
        "sys.path.insert(0, '/content/AWVGeneric/UseCases/SearchDocumentsFromAssets')  # adds the Python files from the GitHub repo to the sys-path.\n",
        "\n",
        "import tempfile\n",
        "from datetime import datetime\n",
        "from functions import download_documents\n",
        "import pandas as pd\n",
        "import re\n",
        "from google.colab import files\n",
        "\n",
        "from API.EMInfraClient import EMInfraClient\n",
        "from API.EMInfraDomain import DocumentCategorieEnum, QueryDTO, PagingModeEnum, SelectionDTO, ExpressionDTO, TermDTO, \\\n",
        "    OperatorEnum, ExpansionsDTO, construct_naampad, LogicalOpEnum, ApplicationEnum, ProvincieEnum\n",
        "from pathlib import Path\n",
        "from API.Enums import AuthType, Environment\n",
        "from Generic.ExcelModifier import ExcelModifier\n",
        "\n",
        "import ipywidgets as widgets"
      ],
      "metadata": {
        "id": "HeTbJbGkRh4A",
        "outputId": "f17ac763-e0fd-4f5c-bf4a-a767fae86858",
        "colab": {
          "base_uri": "https://localhost:8080/"
        }
      },
      "execution_count": 5,
      "outputs": [
        {
          "output_type": "stream",
          "name": "stdout",
          "text": [
            "Cloning into 'AWVGeneric'...\n",
            "remote: Enumerating objects: 915, done.\u001b[K\n",
            "remote: Counting objects: 100% (202/202), done.\u001b[K\n",
            "remote: Compressing objects: 100% (53/53), done.\u001b[K\n",
            "remote: Total 915 (delta 173), reused 149 (delta 149), pack-reused 713 (from 2)\u001b[K\n",
            "Receiving objects: 100% (915/915), 974.49 KiB | 18.05 MiB/s, done.\n",
            "Resolving deltas: 100% (553/553), done.\n"
          ]
        }
      ]
    },
    {
      "cell_type": "markdown",
      "source": [
        "Lanceer de code via de play-knop en pas onderstaand de parameters aan naar eigen keuze."
      ],
      "metadata": {
        "id": "tl75yeBTkM2k"
      }
    },
    {
      "cell_type": "code",
      "source": [
        "# edelta_dossiernummer\n",
        "widget_dossiernummer = widgets.Text(value='VWT/DVM/2023/3')\n",
        "print(\"Dossiernummer:\")\n",
        "display(widget_dossiernummer)\n",
        "\n",
        "# document categorie\n",
        "widget_documentcategorie = widgets.SelectMultiple(\n",
        "    options=[(item.value, item) for item in DocumentCategorieEnum],\n",
        "    value=[],\n",
        "    disabled=False\n",
        ")\n",
        "print(\"\\n\")\n",
        "print(\"Selecteer één of meerdere document categoriën (houd SHIFT ingedrukt om meerdere te selecteren):\")\n",
        "display(widget_documentcategorie)\n",
        "\n",
        "# toezichter\n",
        "widget_toezichter = widgets.Text(value='Stefan Missotten')\n",
        "print(\"\\n\")\n",
        "print(\"Vul de naam (voornaam familienaam) van een toezichter in:\")\n",
        "print(\"Via de EM-Infra toepassing kunt u controleren of de toezichter bestaat. https://apps.mow.vlaanderen.be/eminfra/admin/gebruikers\")\n",
        "display(widget_toezichter)\n",
        "\n",
        "# provincie\n",
        "widget_provincie = widgets.SelectMultiple(\n",
        "    options=[(item.value, item) for item in ProvincieEnum],\n",
        "    value=[],\n",
        "    rows=6,\n",
        "    disabled=False\n",
        ")\n",
        "print(\"\\n\")\n",
        "print(\"Selecteer één of meerdere provincies (houd SHIFT ingedrukt om meerdere te selecteren):\")\n",
        "display(widget_provincie)\n"
      ],
      "metadata": {
        "colab": {
          "base_uri": "https://localhost:8080/",
          "height": 476,
          "referenced_widgets": [
            "4bb1e11b5bf241968ee8637b8189b555",
            "ef1cb6b9d96e48d985e465f3923efe0a",
            "fb123befcd6f4e6687b1373a014d9da4",
            "fe936767191b4226b62861e8808c2c3c",
            "b8e6c723506944f086a8cd37ce1bad7b",
            "140475e8a4a14750af709fdb497c55db",
            "a4457dc8864d4261b5fd25161c282973",
            "d91d649c41974e45aacbf9ea3f837a8b",
            "ceed9c3346ec47e4ad85565eb0faeb53",
            "b4c871bcc96a4c3681876cec76a428ec",
            "2c8ec69ef8eb495594c8d6d8a9604f77",
            "5a8ddb1fceb0456294d08b3063b809c0"
          ]
        },
        "id": "QkZgSMWXSph2",
        "outputId": "94757fe7-e822-4a9b-86ed-19260ed2efc8"
      },
      "execution_count": 6,
      "outputs": [
        {
          "output_type": "stream",
          "name": "stdout",
          "text": [
            "Dossiernummer:\n"
          ]
        },
        {
          "output_type": "display_data",
          "data": {
            "text/plain": [
              "Text(value='VWT/DVM/2023/3')"
            ],
            "application/vnd.jupyter.widget-view+json": {
              "version_major": 2,
              "version_minor": 0,
              "model_id": "4bb1e11b5bf241968ee8637b8189b555"
            }
          },
          "metadata": {}
        },
        {
          "output_type": "stream",
          "name": "stdout",
          "text": [
            "\n",
            "\n",
            "Selecteer één of meerdere document categoriën (houd SHIFT ingedrukt om meerdere te selecteren):\n"
          ]
        },
        {
          "output_type": "display_data",
          "data": {
            "text/plain": [
              "SelectMultiple(options=(('AANGEBODEN_SERVICES', <DocumentCategorieEnum.AANGEBODEN_SERVICES: 'AANGEBODEN_SERVIC…"
            ],
            "application/vnd.jupyter.widget-view+json": {
              "version_major": 2,
              "version_minor": 0,
              "model_id": "fe936767191b4226b62861e8808c2c3c"
            }
          },
          "metadata": {}
        },
        {
          "output_type": "stream",
          "name": "stdout",
          "text": [
            "\n",
            "\n",
            "Vul de naam (voornaam familienaam) van een toezichter in:\n",
            "Via de EM-Infra toepassing kunt u controleren of de toezichter bestaat. https://apps.mow.vlaanderen.be/eminfra/admin/gebruikers\n"
          ]
        },
        {
          "output_type": "display_data",
          "data": {
            "text/plain": [
              "Text(value='Stefan Missotten')"
            ],
            "application/vnd.jupyter.widget-view+json": {
              "version_major": 2,
              "version_minor": 0,
              "model_id": "a4457dc8864d4261b5fd25161c282973"
            }
          },
          "metadata": {}
        },
        {
          "output_type": "stream",
          "name": "stdout",
          "text": [
            "\n",
            "\n",
            "Selecteer één of meerdere provincies (houd SHIFT ingedrukt om meerdere te selecteren):\n"
          ]
        },
        {
          "output_type": "display_data",
          "data": {
            "text/plain": [
              "SelectMultiple(options=(('antwerpen', <ProvincieEnum.ANTWERPEN: 'antwerpen'>), ('west-vlaanderen', <ProvincieE…"
            ],
            "application/vnd.jupyter.widget-view+json": {
              "version_major": 2,
              "version_minor": 0,
              "model_id": "b4c871bcc96a4c3681876cec76a428ec"
            }
          },
          "metadata": {}
        }
      ]
    },
    {
      "cell_type": "markdown",
      "source": [
        "Controleer de gekozen parameters"
      ],
      "metadata": {
        "id": "m4IFxiFkKmt3"
      }
    },
    {
      "cell_type": "code",
      "source": [
        "# edelta_dossiernummer\n",
        "edelta_dossiernummer = widget_dossiernummer.value\n",
        "print(f'Dossiernummer:\\t\\t\\t\\t{edelta_dossiernummer}')\n",
        "\n",
        "# document categorie\n",
        "document_categorien = [item for item in widget_documentcategorie.value]\n",
        "print(f'Document categorie/categoriën:\\t\\t{[item.value for item in document_categorien]}')\n",
        "\n",
        "# toezichter\n",
        "toezichter = widget_toezichter.value\n",
        "print(f'Toezichter:\\t\\t\\t\\t{toezichter}')\n",
        "\n",
        "# provincie\n",
        "provincie = [item for item in widget_provincie.value]\n",
        "print(f'Provincie(s):\\t\\t\\t\\t{[item.value for item in provincie]}')"
      ],
      "metadata": {
        "id": "b4Bx1_XCnAR2",
        "colab": {
          "base_uri": "https://localhost:8080/"
        },
        "outputId": "d424556b-c9fc-44ce-9e0d-5a78f95612f2"
      },
      "execution_count": 7,
      "outputs": [
        {
          "output_type": "stream",
          "name": "stdout",
          "text": [
            "Dossiernummer:\t\t\t\tVWT/DVM/2023/3\n",
            "Document categorie/categoriën:\t\t['FOTO']\n",
            "Toezichter:\t\t\t\tStefan Missotten\n",
            "Provincie(s):\t\t\t\t['vlaams-brabant']\n"
          ]
        }
      ]
    },
    {
      "cell_type": "markdown",
      "source": [
        "Haal een cookie op volgens [deze instructies](https://sites.google.com/mow.vlaanderen.be/em-infra/afspraken-conventies/awv-cookie-ophalen):"
      ],
      "metadata": {
        "id": "0ptNEH8kkpwj"
      }
    },
    {
      "cell_type": "code",
      "source": [
        "#cookie\n",
        "widget_cookie = widgets.Text(value='2cfb3172c2434454b07dac14a1ee8359')\n",
        "print(\"Vul de cookie in:\")\n",
        "display(widget_cookie)"
      ],
      "metadata": {
        "id": "htWozR3aoPG8",
        "colab": {
          "base_uri": "https://localhost:8080/",
          "height": 66,
          "referenced_widgets": [
            "3c25568ecf2b487893e419a59fc3dbf5",
            "c6d58323ab5447cfb2eb525c5252ea54",
            "11e5d590d56f4c73a8b4fef3f7e05358"
          ]
        },
        "outputId": "16c691c0-8fee-4b08-c84a-fa6782253ecb"
      },
      "execution_count": 8,
      "outputs": [
        {
          "output_type": "stream",
          "name": "stdout",
          "text": [
            "Vul de cookie in:\n"
          ]
        },
        {
          "output_type": "display_data",
          "data": {
            "text/plain": [
              "Text(value='2cfb3172c2434454b07dac14a1ee8359')"
            ],
            "application/vnd.jupyter.widget-view+json": {
              "version_major": 2,
              "version_minor": 0,
              "model_id": "3c25568ecf2b487893e419a59fc3dbf5"
            }
          },
          "metadata": {}
        }
      ]
    },
    {
      "cell_type": "code",
      "source": [
        "# cookie\n",
        "cookie = widget_cookie.value\n",
        "eminfra_client = EMInfraClient(cookie=cookie, auth_type=AuthType.COOKIE, env=Environment.PRD)\n",
        "print(f\"Uw persoonlijke cookie is: {cookie}\")"
      ],
      "metadata": {
        "colab": {
          "base_uri": "https://localhost:8080/"
        },
        "id": "vKPgS-bLMBHu",
        "outputId": "d413284e-0806-4df6-de91-9c96370d54f5"
      },
      "execution_count": 9,
      "outputs": [
        {
          "output_type": "stream",
          "name": "stdout",
          "text": [
            "Uw persoonlijke cookie is: 38df78e30da4448a9cbb94517cd7fb08\n"
          ]
        }
      ]
    },
    {
      "cell_type": "markdown",
      "source": [
        "Lanceer de functie om alle documenten te downloaden. Nadat alle documenten gedownload zijn, worden deze gezipt en wordt de .zip-file automatisch gedownload.\n",
        "\n",
        "Afhankelijk van de gekozen parameters krijgt u meer/minder bestanden en duurt dit langer."
      ],
      "metadata": {
        "id": "KMyGN_y9olsx"
      }
    },
    {
      "cell_type": "code",
      "source": [
        "output_zip = download_documents(eminfra_client=eminfra_client, edelta_dossiernummer=edelta_dossiernummer,\n",
        "                    document_categorie=document_categorien, provincie=provincie, toezichter=toezichter)\n",
        "files.download(output_zip)"
      ],
      "metadata": {
        "outputId": "d131f1e1-e36a-4ee4-e980-5486350954d0",
        "colab": {
          "base_uri": "https://localhost:8080/"
        },
        "id": "RsJWyYtsoUoo"
      },
      "execution_count": null,
      "outputs": [
        {
          "output_type": "stream",
          "name": "stdout",
          "text": [
            "Ophalen van alle documenten die voldoen aan volgende criteria:\tDocument categorie: ['FOTO']\tDossiernummer: VWT/DVM/2023/3\tToezichter: Stefan Missotten\tProvincie: ['vlaams-brabant']\n",
            "Downloading documents...\n",
            "Processed 0 assets in 0.83 seconds\n",
            "Directory '/tmp/tmpqil8tlq7/Vlaams-Brabant/Missotten_Stefan/_geen_bestanden_beschikbaar/A3X9.7__A3N9.7.K' is created or already exists.\n",
            "Writing file 20160126_124822[1].jpg to temp location: /tmp/tmpqil8tlq7/Vlaams-Brabant/Missotten_Stefan/R0X40.1__R0P40.1.S/FOTO.\n",
            "Directory '/tmp/tmpqil8tlq7/Vlaams-Brabant/Missotten_Stefan/_geen_bestanden_beschikbaar/A3X7.2__A3P7.2.S__O02__O02.2' is created or already exists.\n",
            "Directory '/tmp/tmpqil8tlq7/Vlaams-Brabant/Missotten_Stefan/_geen_bestanden_beschikbaar/R0X65.2__R0P65.2.K__R0P65.2.K.LSDeel' is created or already exists.\n",
            "Directory '/tmp/tmpqil8tlq7/Vlaams-Brabant/Missotten_Stefan/_geen_bestanden_beschikbaar/A3X9.7__A3P9.6.K' is created or already exists.\n",
            "Directory '/tmp/tmpqil8tlq7/Vlaams-Brabant/Missotten_Stefan/_geen_bestanden_beschikbaar/A2X68.4__A2N68.4.S' is created or already exists.\n",
            "Directory '/tmp/tmpqil8tlq7/Vlaams-Brabant/Missotten_Stefan/_geen_bestanden_beschikbaar/A2X75.2__A2M75.2.S__Q16' is created or already exists.\n",
            "Directory '/tmp/tmpqil8tlq7/Vlaams-Brabant/Missotten_Stefan/_geen_bestanden_beschikbaar/A10X0.2__A10P0.2.S' is created or already exists.\n",
            "Directory '/tmp/tmpqil8tlq7/Vlaams-Brabant/Missotten_Stefan/_geen_bestanden_beschikbaar/A3X15.0__A3N15.0.K__A3N15.0.K.LSDeel' is created or already exists.\n",
            "Directory '/tmp/tmpqil8tlq7/Vlaams-Brabant/Missotten_Stefan/_geen_bestanden_beschikbaar/A2X74.6__A2M74.6.S__Q17__Q17.3' is created or already exists.\n",
            "Processed 10 assets in 6.76 seconds\n",
            "Directory '/tmp/tmpqil8tlq7/Vlaams-Brabant/Missotten_Stefan/_geen_bestanden_beschikbaar/A10X2.4__A10N2.4.S__VMS67' is created or already exists.\n",
            "Directory '/tmp/tmpqil8tlq7/Vlaams-Brabant/Missotten_Stefan/_geen_bestanden_beschikbaar/A10X6.0__A10M6.0.S__Y06__Y06.3' is created or already exists.\n",
            "Directory '/tmp/tmpqil8tlq7/Vlaams-Brabant/Missotten_Stefan/_geen_bestanden_beschikbaar/A2X86.0__A2N86.0.S__Q02' is created or already exists.\n",
            "Directory '/tmp/tmpqil8tlq7/Vlaams-Brabant/Missotten_Stefan/_geen_bestanden_beschikbaar/A3X17.4__A3P17.4.S__O17__O17.4' is created or already exists.\n",
            "Directory '/tmp/tmpqil8tlq7/Vlaams-Brabant/Missotten_Stefan/_geen_bestanden_beschikbaar/A3X10.2__A3N10.2.K__A3N10.2.K.LSDeel' is created or already exists.\n",
            "Directory '/tmp/tmpqil8tlq7/Vlaams-Brabant/Missotten_Stefan/_geen_bestanden_beschikbaar/A3X10.2__A3P10.2.S__O07__O07.1' is created or already exists.\n",
            "Directory '/tmp/tmpqil8tlq7/Vlaams-Brabant/Missotten_Stefan/_geen_bestanden_beschikbaar/A2X73.7__A2M73.7.S__Q18__Q18.2' is created or already exists.\n",
            "Directory '/tmp/tmpqil8tlq7/Vlaams-Brabant/Missotten_Stefan/_geen_bestanden_beschikbaar/A2X75.2__A2M75.2.S__Q16__Q16.3' is created or already exists.\n",
            "Directory '/tmp/tmpqil8tlq7/Vlaams-Brabant/Missotten_Stefan/_geen_bestanden_beschikbaar/A2X72.4__A2M72.4.S' is created or already exists.\n",
            "Directory '/tmp/tmpqil8tlq7/Vlaams-Brabant/Missotten_Stefan/_geen_bestanden_beschikbaar/A2X71.0__A2P71.0.Z.K' is created or already exists.\n",
            "Processed 20 assets in 12.24 seconds\n",
            "Directory '/tmp/tmpqil8tlq7/Vlaams-Brabant/Missotten_Stefan/_geen_bestanden_beschikbaar/A2X78.0__A2M78.0.S__Q12__Q12.2' is created or already exists.\n",
            "Directory '/tmp/tmpqil8tlq7/Vlaams-Brabant/Missotten_Stefan/_geen_bestanden_beschikbaar/A4X6.1__A4N6.12Z.K' is created or already exists.\n",
            "Directory '/tmp/tmpqil8tlq7/Vlaams-Brabant/Missotten_Stefan/_geen_bestanden_beschikbaar/A10X4.3__A10M4.3.S__Y04' is created or already exists.\n",
            "Directory '/tmp/tmpqil8tlq7/Vlaams-Brabant/Missotten_Stefan/_geen_bestanden_beschikbaar/A2X69.7__A2M69.7.S__Q24__Q24.2' is created or already exists.\n",
            "Directory '/tmp/tmpqil8tlq7/Vlaams-Brabant/Missotten_Stefan/_geen_bestanden_beschikbaar/R0X19.4__R0P19.35.K__R0P19.35.K.LSDeel' is created or already exists.\n",
            "Directory '/tmp/tmpqil8tlq7/Vlaams-Brabant/Missotten_Stefan/_geen_bestanden_beschikbaar/A2X84.5__A2N84.5.K__A2N84.5.K.LSDeel' is created or already exists.\n",
            "Directory '/tmp/tmpqil8tlq7/Vlaams-Brabant/Missotten_Stefan/_geen_bestanden_beschikbaar/A2X78.8__A2M78.8.S' is created or already exists.\n",
            "Directory '/tmp/tmpqil8tlq7/Vlaams-Brabant/Missotten_Stefan/_geen_bestanden_beschikbaar/A3X8.9__A3P8.9.S__O05__O05.4' is created or already exists.\n",
            "Directory '/tmp/tmpqil8tlq7/Vlaams-Brabant/Missotten_Stefan/_geen_bestanden_beschikbaar/R0X69.2__R0N69.2.S' is created or already exists.\n",
            "Directory '/tmp/tmpqil8tlq7/Vlaams-Brabant/Missotten_Stefan/_geen_bestanden_beschikbaar/A3X6.6__A3P6.6.S' is created or already exists.\n",
            "Processed 30 assets in 17.21 seconds\n",
            "Directory '/tmp/tmpqil8tlq7/Vlaams-Brabant/Missotten_Stefan/_geen_bestanden_beschikbaar/A2X86.7__A2N86.7.S' is created or already exists.\n",
            "Directory '/tmp/tmpqil8tlq7/Vlaams-Brabant/Missotten_Stefan/_geen_bestanden_beschikbaar/A2X76.0__A2M76.0.S' is created or already exists.\n",
            "Directory '/tmp/tmpqil8tlq7/Vlaams-Brabant/Missotten_Stefan/_geen_bestanden_beschikbaar/A3X8.9__A3P8.9.S__O05' is created or already exists.\n",
            "Directory '/tmp/tmpqil8tlq7/Vlaams-Brabant/Missotten_Stefan/_geen_bestanden_beschikbaar/A10X0.2__A10P0.2.S__VMS68' is created or already exists.\n",
            "Directory '/tmp/tmpqil8tlq7/Vlaams-Brabant/Missotten_Stefan/_geen_bestanden_beschikbaar/A10X4.3__A10P4.3.K' is created or already exists.\n",
            "Directory '/tmp/tmpqil8tlq7/Vlaams-Brabant/Missotten_Stefan/_geen_bestanden_beschikbaar/A2X83.9__A2N83.9.S__Q05__Q05.3' is created or already exists.\n",
            "Directory '/tmp/tmpqil8tlq7/Vlaams-Brabant/Missotten_Stefan/_geen_bestanden_beschikbaar/A2X82.4__A2N82.4.K' is created or already exists.\n",
            "Directory '/tmp/tmpqil8tlq7/Vlaams-Brabant/Missotten_Stefan/_geen_bestanden_beschikbaar/A1X3.4__A1P3.4.S__VMS166' is created or already exists.\n",
            "Directory '/tmp/tmpqil8tlq7/Vlaams-Brabant/Missotten_Stefan/_geen_bestanden_beschikbaar/A2X78.8__A2M78.8.S__Q11__Q11.1' is created or already exists.\n",
            "Directory '/tmp/tmpqil8tlq7/Vlaams-Brabant/Missotten_Stefan/_geen_bestanden_beschikbaar/A3X17.4__A3P17.4.S__O17__O17.1' is created or already exists.\n",
            "Processed 40 assets in 22.28 seconds\n",
            "Directory '/tmp/tmpqil8tlq7/Vlaams-Brabant/Missotten_Stefan/_geen_bestanden_beschikbaar/A2X78.8__A2M78.8.S__Q11__Q11.3' is created or already exists.\n",
            "Directory '/tmp/tmpqil8tlq7/Vlaams-Brabant/Missotten_Stefan/_geen_bestanden_beschikbaar/A2X83.9__A2N83.9.S__Q05__Q05.1' is created or already exists.\n",
            "Directory '/tmp/tmpqil8tlq7/Vlaams-Brabant/Missotten_Stefan/_geen_bestanden_beschikbaar/A2X78.0__A2M78.0.S__Q12__Q12.3' is created or already exists.\n",
            "Writing file 3 augustus 2016 094526 CEST.jpg to temp location: /tmp/tmpqil8tlq7/Vlaams-Brabant/Missotten_Stefan/A12X4.6__A12N4.6.K/FOTO.\n",
            "Writing file 3 augustus 2016 094605 CEST.jpg to temp location: /tmp/tmpqil8tlq7/Vlaams-Brabant/Missotten_Stefan/A12X4.6__A12N4.6.K/FOTO.\n",
            "Directory '/tmp/tmpqil8tlq7/Vlaams-Brabant/Missotten_Stefan/_geen_bestanden_beschikbaar/A12X4.6__A12N4.6.K__A12N4.6.K.LSDeel' is created or already exists.\n",
            "Directory '/tmp/tmpqil8tlq7/Vlaams-Brabant/Missotten_Stefan/_geen_bestanden_beschikbaar/A2X78.0__A2M78.0.S__Q12' is created or already exists.\n",
            "Directory '/tmp/tmpqil8tlq7/Vlaams-Brabant/Missotten_Stefan/_geen_bestanden_beschikbaar/A2X85.3__A2N85.3.K__A2N85.3.K.LSDeel' is created or already exists.\n",
            "Directory '/tmp/tmpqil8tlq7/Vlaams-Brabant/Missotten_Stefan/_geen_bestanden_beschikbaar/A4X6.1__A4N6.1.S' is created or already exists.\n",
            "Directory '/tmp/tmpqil8tlq7/Vlaams-Brabant/Missotten_Stefan/_geen_bestanden_beschikbaar/R0X19.1__R0P19.1.S' is created or already exists.\n",
            "Directory '/tmp/tmpqil8tlq7/Vlaams-Brabant/Missotten_Stefan/_geen_bestanden_beschikbaar/A3X9.0__A3N9.0.K__A3N9.0.K.LSDeel' is created or already exists.\n",
            "Processed 50 assets in 28.81 seconds\n",
            "Directory '/tmp/tmpqil8tlq7/Vlaams-Brabant/Missotten_Stefan/_geen_bestanden_beschikbaar/A12X1.6__A12M1.6.K__A12M1.6.K.LSDeel' is created or already exists.\n",
            "Directory '/tmp/tmpqil8tlq7/Vlaams-Brabant/Missotten_Stefan/_geen_bestanden_beschikbaar/A10X4.3__A10M4.3.S__Y04__Y04.1' is created or already exists.\n",
            "Directory '/tmp/tmpqil8tlq7/Vlaams-Brabant/Missotten_Stefan/_geen_bestanden_beschikbaar/A10X6.7__A10M6.7.S' is created or already exists.\n",
            "Directory '/tmp/tmpqil8tlq7/Vlaams-Brabant/Missotten_Stefan/_geen_bestanden_beschikbaar/A3X15.0__A3P15.0.S__O14' is created or already exists.\n",
            "Directory '/tmp/tmpqil8tlq7/Vlaams-Brabant/Missotten_Stefan/_geen_bestanden_beschikbaar/A2X71.9__A2M71.8.S__Q21__Q21.1' is created or already exists.\n",
            "Directory '/tmp/tmpqil8tlq7/Vlaams-Brabant/Missotten_Stefan/_geen_bestanden_beschikbaar/A3X15.5__A3N15.5.K__A3N15.5.K.LSDeel' is created or already exists.\n",
            "Directory '/tmp/tmpqil8tlq7/Vlaams-Brabant/Missotten_Stefan/_geen_bestanden_beschikbaar/A2X80.9__A2P80.9.S__VMS60' is created or already exists.\n",
            "Directory '/tmp/tmpqil8tlq7/Vlaams-Brabant/Missotten_Stefan/_geen_bestanden_beschikbaar/A2X68.4__A2N68.4.S__Q26__Q26.2' is created or already exists.\n",
            "Writing file 20160421_125330.jpg to temp location: /tmp/tmpqil8tlq7/Vlaams-Brabant/Missotten_Stefan/A3X7.9__A3P7.9.K/FOTO.\n",
            "Writing file 20160421_125350.jpg to temp location: /tmp/tmpqil8tlq7/Vlaams-Brabant/Missotten_Stefan/A3X7.9__A3P7.9.K/FOTO.\n",
            "Writing file 20160421_125356.jpg to temp location: /tmp/tmpqil8tlq7/Vlaams-Brabant/Missotten_Stefan/A3X7.9__A3P7.9.K/FOTO.\n",
            "Directory '/tmp/tmpqil8tlq7/Vlaams-Brabant/Missotten_Stefan/_geen_bestanden_beschikbaar/A3X14.2__A3N14.2.K' is created or already exists.\n",
            "Processed 60 assets in 35.35 seconds\n",
            "Directory '/tmp/tmpqil8tlq7/Vlaams-Brabant/Missotten_Stefan/_geen_bestanden_beschikbaar/A3X17.4__A3N17.4.K' is created or already exists.\n",
            "Directory '/tmp/tmpqil8tlq7/Vlaams-Brabant/Missotten_Stefan/_geen_bestanden_beschikbaar/A10X5.2__A10M5.1.S__Y05' is created or already exists.\n",
            "Directory '/tmp/tmpqil8tlq7/Vlaams-Brabant/Missotten_Stefan/_geen_bestanden_beschikbaar/A2X77.5__A2M77.5.S__Q13__Q13.2' is created or already exists.\n",
            "Directory '/tmp/tmpqil8tlq7/Vlaams-Brabant/Missotten_Stefan/_geen_bestanden_beschikbaar/A2X71.0__A2M71.0.S__Q22__Q22.2' is created or already exists.\n",
            "Directory '/tmp/tmpqil8tlq7/Vlaams-Brabant/Missotten_Stefan/_geen_bestanden_beschikbaar/A1X11.4__A1N11.4.S__VMS160' is created or already exists.\n",
            "Directory '/tmp/tmpqil8tlq7/Vlaams-Brabant/Missotten_Stefan/_geen_bestanden_beschikbaar/A3X10.8__A3P10.8.S__O08' is created or already exists.\n",
            "Directory '/tmp/tmpqil8tlq7/Vlaams-Brabant/Missotten_Stefan/_geen_bestanden_beschikbaar/VIE.TUNNEL__RICHTZAV__TV01__TV01.2' is created or already exists.\n",
            "Directory '/tmp/tmpqil8tlq7/Vlaams-Brabant/Missotten_Stefan/_geen_bestanden_beschikbaar/A10X6.0__A10P6.0.Z.K__A10P6.0.Z.K.LSDeel' is created or already exists.\n",
            "Directory '/tmp/tmpqil8tlq7/Vlaams-Brabant/Missotten_Stefan/_geen_bestanden_beschikbaar/A10X6.0__A10M6.0.S' is created or already exists.\n",
            "Directory '/tmp/tmpqil8tlq7/Vlaams-Brabant/Missotten_Stefan/_geen_bestanden_beschikbaar/A3X6.6__A3P6.6.S__O01__O01.2' is created or already exists.\n",
            "Processed 70 assets in 40.32 seconds\n",
            "Directory '/tmp/tmpqil8tlq7/Vlaams-Brabant/Missotten_Stefan/_geen_bestanden_beschikbaar/A2X86.0__A2N86.0.S__Q02__Q02.2' is created or already exists.\n",
            "Directory '/tmp/tmpqil8tlq7/Vlaams-Brabant/Missotten_Stefan/_geen_bestanden_beschikbaar/A10X2.4__A10P2.4.S__Y01' is created or already exists.\n",
            "Directory '/tmp/tmpqil8tlq7/Vlaams-Brabant/Missotten_Stefan/_geen_bestanden_beschikbaar/A2X73.0__A2M73.0.S__Q19__Q19.3' is created or already exists.\n",
            "Directory '/tmp/tmpqil8tlq7/Vlaams-Brabant/Missotten_Stefan/_geen_bestanden_beschikbaar/R0X33.8__R0P33.8.K__R0P33.8.K.LSDeel' is created or already exists.\n",
            "Directory '/tmp/tmpqil8tlq7/Vlaams-Brabant/Missotten_Stefan/_geen_bestanden_beschikbaar/A2X79.3__A2M79.3.S__Q10' is created or already exists.\n",
            "Directory '/tmp/tmpqil8tlq7/Vlaams-Brabant/Missotten_Stefan/_geen_bestanden_beschikbaar/A3X6.6__A3P6.6.S__O01' is created or already exists.\n",
            "Directory '/tmp/tmpqil8tlq7/Vlaams-Brabant/Missotten_Stefan/_geen_bestanden_beschikbaar/A2X76.7__A2M76.7.S__Q14' is created or already exists.\n",
            "Directory '/tmp/tmpqil8tlq7/Vlaams-Brabant/Missotten_Stefan/_geen_bestanden_beschikbaar/VIE.TUNNEL__RICHTWAT__SV01__SV01.2' is created or already exists.\n",
            "Directory '/tmp/tmpqil8tlq7/Vlaams-Brabant/Missotten_Stefan/_geen_bestanden_beschikbaar/R0X45.4__R0N45.4.K__R0N45.4.K.LSDeel' is created or already exists.\n",
            "Directory '/tmp/tmpqil8tlq7/Vlaams-Brabant/Missotten_Stefan/_geen_bestanden_beschikbaar/A2X73.7__A2M73.7.S__Q18__Q18.3' is created or already exists.\n",
            "Processed 80 assets in 45.27 seconds\n",
            "Directory '/tmp/tmpqil8tlq7/Vlaams-Brabant/Missotten_Stefan/_geen_bestanden_beschikbaar/A2X71.0__A2M71.0.S__Q22__Q22.1' is created or already exists.\n",
            "Directory '/tmp/tmpqil8tlq7/Vlaams-Brabant/Missotten_Stefan/_geen_bestanden_beschikbaar/A2X73.0__A2P73.0.K__A2P73.0.K.LSDeel' is created or already exists.\n",
            "Directory '/tmp/tmpqil8tlq7/Vlaams-Brabant/Missotten_Stefan/_geen_bestanden_beschikbaar/A3X10.8__A3P10.8.S' is created or already exists.\n",
            "Directory '/tmp/tmpqil8tlq7/Vlaams-Brabant/Missotten_Stefan/_geen_bestanden_beschikbaar/A3X13.6__A3N13.6.K' is created or already exists.\n",
            "Directory '/tmp/tmpqil8tlq7/Vlaams-Brabant/Missotten_Stefan/_geen_bestanden_beschikbaar/A2X70.3__A2M70.3.S' is created or already exists.\n",
            "Directory '/tmp/tmpqil8tlq7/Vlaams-Brabant/Missotten_Stefan/_geen_bestanden_beschikbaar/A1X5.6__A1P5.6.Z.K__A1P5.6.Z.K.LSDeel' is created or already exists.\n",
            "Directory '/tmp/tmpqil8tlq7/Vlaams-Brabant/Missotten_Stefan/_geen_bestanden_beschikbaar/A3X12.1__A3P12.1.S__O10__O10.1' is created or already exists.\n",
            "Directory '/tmp/tmpqil8tlq7/Vlaams-Brabant/Missotten_Stefan/_geen_bestanden_beschikbaar/A2X80.8__A2N80.8.S__Q09' is created or already exists.\n",
            "Directory '/tmp/tmpqil8tlq7/Vlaams-Brabant/Missotten_Stefan/_geen_bestanden_beschikbaar/A3X25.8__A3N25.8.S__VMS61' is created or already exists.\n",
            "Directory '/tmp/tmpqil8tlq7/Vlaams-Brabant/Missotten_Stefan/_geen_bestanden_beschikbaar/A3X7.2__A3P7.2.K' is created or already exists.\n",
            "Processed 90 assets in 50.29 seconds\n",
            "Directory '/tmp/tmpqil8tlq7/Vlaams-Brabant/Missotten_Stefan/_geen_bestanden_beschikbaar/A2X69.0__A2M69.0.S__Q25__Q25.3' is created or already exists.\n",
            "Directory '/tmp/tmpqil8tlq7/Vlaams-Brabant/Missotten_Stefan/_geen_bestanden_beschikbaar/A2X83.9__A2N83.9.S__Q05__Q05.2' is created or already exists.\n",
            "Directory '/tmp/tmpqil8tlq7/Vlaams-Brabant/Missotten_Stefan/_geen_bestanden_beschikbaar/A3X14.2__A3P14.2.S__O13__O13.1' is created or already exists.\n",
            "Directory '/tmp/tmpqil8tlq7/Vlaams-Brabant/Missotten_Stefan/_geen_bestanden_beschikbaar/A3X7.7__A3N7.7.S' is created or already exists.\n",
            "Directory '/tmp/tmpqil8tlq7/Vlaams-Brabant/Missotten_Stefan/_geen_bestanden_beschikbaar/A3X9.7__A3P9.6.S__O06__O06.2' is created or already exists.\n",
            "Directory '/tmp/tmpqil8tlq7/Vlaams-Brabant/Missotten_Stefan/_geen_bestanden_beschikbaar/A8X1.0__A8N1.0.K__A8N1.0.K.LSDeel' is created or already exists.\n",
            "Directory '/tmp/tmpqil8tlq7/Vlaams-Brabant/Missotten_Stefan/_geen_bestanden_beschikbaar/A2X69.7__A2P69.7.K__A2P69.7.K.LSDeel' is created or already exists.\n",
            "Directory '/tmp/tmpqil8tlq7/Vlaams-Brabant/Missotten_Stefan/_geen_bestanden_beschikbaar/A3X12.1__A3P12.1.S__O10__O10.2' is created or already exists.\n",
            "Directory '/tmp/tmpqil8tlq7/Vlaams-Brabant/Missotten_Stefan/_geen_bestanden_beschikbaar/R0X38.3__R0N38.3.S__VMS73' is created or already exists.\n",
            "Directory '/tmp/tmpqil8tlq7/Vlaams-Brabant/Missotten_Stefan/_geen_bestanden_beschikbaar/A3X5.2__A3P5.2.K__A3P5.2.K.LSDeel' is created or already exists.\n",
            "Processed 100 assets in 55.25 seconds\n",
            "Directory '/tmp/tmpqil8tlq7/Vlaams-Brabant/Missotten_Stefan/_geen_bestanden_beschikbaar/A2X86.7__A2N86.7.S__Q01__Q01.4' is created or already exists.\n",
            "Directory '/tmp/tmpqil8tlq7/Vlaams-Brabant/Missotten_Stefan/_geen_bestanden_beschikbaar/A10X6.0__A10M6.0.S__Y06' is created or already exists.\n",
            "Directory '/tmp/tmpqil8tlq7/Vlaams-Brabant/Missotten_Stefan/_geen_bestanden_beschikbaar/A1X5.6__A1P5.6.K' is created or already exists.\n",
            "Directory '/tmp/tmpqil8tlq7/Vlaams-Brabant/Missotten_Stefan/_geen_bestanden_beschikbaar/A10X5.2__A10M5.1.S' is created or already exists.\n",
            "Directory '/tmp/tmpqil8tlq7/Vlaams-Brabant/Missotten_Stefan/_geen_bestanden_beschikbaar/A2X76.0__A2M76.0.S__R11__R11.1' is created or already exists.\n",
            "Directory '/tmp/tmpqil8tlq7/Vlaams-Brabant/Missotten_Stefan/_geen_bestanden_beschikbaar/A3X15.7__A3P15.7.S__O15__O15.3' is created or already exists.\n",
            "Directory '/tmp/tmpqil8tlq7/Vlaams-Brabant/Missotten_Stefan/_geen_bestanden_beschikbaar/A2X79.3__A2M79.3.S__Q10__Q10.1' is created or already exists.\n",
            "Writing file 20160212_113709.jpg to temp location: /tmp/tmpqil8tlq7/Vlaams-Brabant/Missotten_Stefan/A3X12.1__A3P12.1.S/FOTO.\n",
            "Writing file 20160212_125535.jpg to temp location: /tmp/tmpqil8tlq7/Vlaams-Brabant/Missotten_Stefan/A3X12.1__A3P12.1.S/FOTO.\n",
            "Writing file 20160212_125609.jpg to temp location: /tmp/tmpqil8tlq7/Vlaams-Brabant/Missotten_Stefan/A3X12.1__A3P12.1.S/FOTO.\n",
            "Writing file 20160211_140737.jpg to temp location: /tmp/tmpqil8tlq7/Vlaams-Brabant/Missotten_Stefan/A3X8.9__A3P8.9.S/FOTO.\n",
            "Writing file 20160211_141015.jpg to temp location: /tmp/tmpqil8tlq7/Vlaams-Brabant/Missotten_Stefan/A3X8.9__A3P8.9.S/FOTO.\n",
            "Writing file 20160211_141330.jpg to temp location: /tmp/tmpqil8tlq7/Vlaams-Brabant/Missotten_Stefan/A3X8.9__A3P8.9.S/FOTO.\n",
            "Directory '/tmp/tmpqil8tlq7/Vlaams-Brabant/Missotten_Stefan/_geen_bestanden_beschikbaar/A201X2.0__A201P2.0.K' is created or already exists.\n",
            "Processed 110 assets in 63.50 seconds\n",
            "Directory '/tmp/tmpqil8tlq7/Vlaams-Brabant/Missotten_Stefan/_geen_bestanden_beschikbaar/A2X73.7__A2M73.7.S' is created or already exists.\n",
            "Directory '/tmp/tmpqil8tlq7/Vlaams-Brabant/Missotten_Stefan/_geen_bestanden_beschikbaar/A2X74.6__A2M74.6.S__Q17__Q17.1' is created or already exists.\n",
            "Directory '/tmp/tmpqil8tlq7/Vlaams-Brabant/Missotten_Stefan/_geen_bestanden_beschikbaar/A2X78.0__A2P78.0.K__A2P78.0.K.LSDeel' is created or already exists.\n",
            "Directory '/tmp/tmpqil8tlq7/Vlaams-Brabant/Missotten_Stefan/_geen_bestanden_beschikbaar/A10X5.2__A10M5.1.S__Y05__Y05.3' is created or already exists.\n",
            "Directory '/tmp/tmpqil8tlq7/Vlaams-Brabant/Missotten_Stefan/_geen_bestanden_beschikbaar/A2X75.2__A2M75.2.S__Q16__Q16.1' is created or already exists.\n",
            "Directory '/tmp/tmpqil8tlq7/Vlaams-Brabant/Missotten_Stefan/_geen_bestanden_beschikbaar/A2X70.3__A2P70.3.K__A2P70.3.K.LSDeel' is created or already exists.\n",
            "Directory '/tmp/tmpqil8tlq7/Vlaams-Brabant/Missotten_Stefan/_geen_bestanden_beschikbaar/A3X12.1__A3P12.1.S__O10' is created or already exists.\n",
            "Directory '/tmp/tmpqil8tlq7/Vlaams-Brabant/Missotten_Stefan/_geen_bestanden_beschikbaar/R0X46.2__R0P46.2.S' is created or already exists.\n",
            "Directory '/tmp/tmpqil8tlq7/Vlaams-Brabant/Missotten_Stefan/_geen_bestanden_beschikbaar/R0X65.2__R0P65.2.K' is created or already exists.\n",
            "Directory '/tmp/tmpqil8tlq7/Vlaams-Brabant/Missotten_Stefan/_geen_bestanden_beschikbaar/A10X2.4__A10P2.4.S' is created or already exists.\n",
            "Processed 120 assets in 68.50 seconds\n",
            "Directory '/tmp/tmpqil8tlq7/Vlaams-Brabant/Missotten_Stefan/_geen_bestanden_beschikbaar/A2X69.7__A2M69.7.S__Q24__Q24.1' is created or already exists.\n",
            "Directory '/tmp/tmpqil8tlq7/Vlaams-Brabant/Missotten_Stefan/_geen_bestanden_beschikbaar/A3X14.6__A3P14.6.K' is created or already exists.\n",
            "Directory '/tmp/tmpqil8tlq7/Vlaams-Brabant/Missotten_Stefan/_geen_bestanden_beschikbaar/A3X7.7__A3N7.7.K' is created or already exists.\n",
            "Directory '/tmp/tmpqil8tlq7/Vlaams-Brabant/Missotten_Stefan/_geen_bestanden_beschikbaar/A1X1.3__A1N1.3.K__A1N1.3.K.LSDeel' is created or already exists.\n",
            "Directory '/tmp/tmpqil8tlq7/Vlaams-Brabant/Missotten_Stefan/_geen_bestanden_beschikbaar/A2X71.0__A2P71.0.K__A2P71.0.K.LSDeel' is created or already exists.\n",
            "Directory '/tmp/tmpqil8tlq7/Vlaams-Brabant/Missotten_Stefan/_geen_bestanden_beschikbaar/A2X71.0__A2M71.0.S__Q22' is created or already exists.\n",
            "Directory '/tmp/tmpqil8tlq7/Vlaams-Brabant/Missotten_Stefan/_geen_bestanden_beschikbaar/A10X6.0__A10M6.0.S__Y06__Y06.1' is created or already exists.\n",
            "Directory '/tmp/tmpqil8tlq7/Vlaams-Brabant/Missotten_Stefan/_geen_bestanden_beschikbaar/A1X11.4__A1N11.4.K__A1N11.4.K.LSDeel' is created or already exists.\n",
            "Directory '/tmp/tmpqil8tlq7/Vlaams-Brabant/Missotten_Stefan/_geen_bestanden_beschikbaar/A8X1.0__A8N1.0.S__VMS65' is created or already exists.\n",
            "Directory '/tmp/tmpqil8tlq7/Vlaams-Brabant/Missotten_Stefan/_geen_bestanden_beschikbaar/A10X7.7__A10M7.7.S__Y08__Y08.3' is created or already exists.\n",
            "Processed 130 assets in 73.47 seconds\n",
            "Directory '/tmp/tmpqil8tlq7/Vlaams-Brabant/Missotten_Stefan/_geen_bestanden_beschikbaar/A1X0.7__A1P0.7.S' is created or already exists.\n",
            "Directory '/tmp/tmpqil8tlq7/Vlaams-Brabant/Missotten_Stefan/_geen_bestanden_beschikbaar/A2X70.3__A2P70.3.K' is created or already exists.\n",
            "Directory '/tmp/tmpqil8tlq7/Vlaams-Brabant/Missotten_Stefan/_geen_bestanden_beschikbaar/A2X78.8__A2P78.8.K__A2P78.8.K.LSDeel' is created or already exists.\n",
            "Directory '/tmp/tmpqil8tlq7/Vlaams-Brabant/Missotten_Stefan/_geen_bestanden_beschikbaar/A10X6.7__A10M6.7.S__Y07__Y07.4' is created or already exists.\n",
            "Directory '/tmp/tmpqil8tlq7/Vlaams-Brabant/Missotten_Stefan/_geen_bestanden_beschikbaar/A2X85.3__A2N85.3.S__Q03__Q03.3' is created or already exists.\n",
            "Directory '/tmp/tmpqil8tlq7/Vlaams-Brabant/Missotten_Stefan/_geen_bestanden_beschikbaar/A3X10.8__A3P10.8.S__O08__O08.4' is created or already exists.\n",
            "Directory '/tmp/tmpqil8tlq7/Vlaams-Brabant/Missotten_Stefan/_geen_bestanden_beschikbaar/R0X19.1__R0P19.1.K__R0P19.1.K.LSDeel' is created or already exists.\n",
            "Directory '/tmp/tmpqil8tlq7/Vlaams-Brabant/Missotten_Stefan/_geen_bestanden_beschikbaar/A2X75.2__A2M75.2.S__Q16__Q16.2' is created or already exists.\n",
            "Directory '/tmp/tmpqil8tlq7/Vlaams-Brabant/Missotten_Stefan/_geen_bestanden_beschikbaar/A10X3.5__A10M3.5.S__Y03' is created or already exists.\n",
            "Directory '/tmp/tmpqil8tlq7/Vlaams-Brabant/Missotten_Stefan/_geen_bestanden_beschikbaar/A2X71.9__A2M71.8.S__Q21__Q21.2' is created or already exists.\n",
            "Processed 140 assets in 78.54 seconds\n",
            "Directory '/tmp/tmpqil8tlq7/Vlaams-Brabant/Missotten_Stefan/_geen_bestanden_beschikbaar/A10X6.7__A10M6.7.S__Y07__Y07.2' is created or already exists.\n",
            "Directory '/tmp/tmpqil8tlq7/Vlaams-Brabant/Missotten_Stefan/_geen_bestanden_beschikbaar/A3X10.2__A3P10.2.S__O07__O07.3' is created or already exists.\n",
            "Directory '/tmp/tmpqil8tlq7/Vlaams-Brabant/Missotten_Stefan/_geen_bestanden_beschikbaar/A1X11.4__A1N11.4.K' is created or already exists.\n",
            "Directory '/tmp/tmpqil8tlq7/Vlaams-Brabant/Missotten_Stefan/_geen_bestanden_beschikbaar/R0X19.1__R0P19.1.S__VMS79' is created or already exists.\n",
            "Directory '/tmp/tmpqil8tlq7/Vlaams-Brabant/Missotten_Stefan/_geen_bestanden_beschikbaar/R0X26.3__R0N26.2.Z.K__R0N26.2.Z.K.LSDeel' is created or already exists.\n",
            "Directory '/tmp/tmpqil8tlq7/Vlaams-Brabant/Missotten_Stefan/_geen_bestanden_beschikbaar/A2X75.2__A2P75.2.K__A2P75.2.K.LSDeel' is created or already exists.\n",
            "Directory '/tmp/tmpqil8tlq7/Vlaams-Brabant/Missotten_Stefan/_geen_bestanden_beschikbaar/R0X46.2__R0P46.2.K' is created or already exists.\n",
            "Directory '/tmp/tmpqil8tlq7/Vlaams-Brabant/Missotten_Stefan/_geen_bestanden_beschikbaar/A1X6.4__A1N6.4.S__VMS162' is created or already exists.\n",
            "Directory '/tmp/tmpqil8tlq7/Vlaams-Brabant/Missotten_Stefan/_geen_bestanden_beschikbaar/A1X8.1__A1P8.1.S' is created or already exists.\n",
            "Directory '/tmp/tmpqil8tlq7/Vlaams-Brabant/Missotten_Stefan/_geen_bestanden_beschikbaar/A3X6.6__A3P6.6.S__O01__O01.3' is created or already exists.\n",
            "Processed 150 assets in 83.53 seconds\n",
            "Directory '/tmp/tmpqil8tlq7/Vlaams-Brabant/Missotten_Stefan/_geen_bestanden_beschikbaar/A3X7.2__A3P7.2.K__A3P7.2.K.LSDeel' is created or already exists.\n",
            "Directory '/tmp/tmpqil8tlq7/Vlaams-Brabant/Missotten_Stefan/_geen_bestanden_beschikbaar/A10X3.5__A10M3.5.S__Y03__Y03.1' is created or already exists.\n",
            "Directory '/tmp/tmpqil8tlq7/Vlaams-Brabant/Missotten_Stefan/_geen_bestanden_beschikbaar/A2X69.7__A2P69.7.K' is created or already exists.\n",
            "Directory '/tmp/tmpqil8tlq7/Vlaams-Brabant/Missotten_Stefan/_geen_bestanden_beschikbaar/A2X86.7__A2N86.7.K__A2N86.7.K.LSDeel' is created or already exists.\n",
            "Directory '/tmp/tmpqil8tlq7/Vlaams-Brabant/Missotten_Stefan/_geen_bestanden_beschikbaar/A3X6.6__A3P6.6.S__O01__O01.1' is created or already exists.\n",
            "Directory '/tmp/tmpqil8tlq7/Vlaams-Brabant/Missotten_Stefan/_geen_bestanden_beschikbaar/R0X46.2__R0P46.2.K__R0P46.2.K.LSDeel' is created or already exists.\n",
            "Directory '/tmp/tmpqil8tlq7/Vlaams-Brabant/Missotten_Stefan/_geen_bestanden_beschikbaar/A3X15.0__A3N15.0.K' is created or already exists.\n",
            "Directory '/tmp/tmpqil8tlq7/Vlaams-Brabant/Missotten_Stefan/_geen_bestanden_beschikbaar/A3X10.2__A3P10.2.S__O07__O07.4' is created or already exists.\n",
            "Directory '/tmp/tmpqil8tlq7/Vlaams-Brabant/Missotten_Stefan/_geen_bestanden_beschikbaar/A10X7.7__A10N7.7.K__A10N7.7.K.LSDeel' is created or already exists.\n",
            "Directory '/tmp/tmpqil8tlq7/Vlaams-Brabant/Missotten_Stefan/_geen_bestanden_beschikbaar/A10X6.7__A10P6.7.K__A10P6.7.K.LSDeel' is created or already exists.\n",
            "Processed 160 assets in 88.53 seconds\n",
            "Directory '/tmp/tmpqil8tlq7/Vlaams-Brabant/Missotten_Stefan/_geen_bestanden_beschikbaar/R0X32.0__R0N32.0.K' is created or already exists.\n",
            "Directory '/tmp/tmpqil8tlq7/Vlaams-Brabant/Missotten_Stefan/_geen_bestanden_beschikbaar/R0X28.4__R0P28.4.K' is created or already exists.\n",
            "Directory '/tmp/tmpqil8tlq7/Vlaams-Brabant/Missotten_Stefan/_geen_bestanden_beschikbaar/A2X83.9__A2N83.9.K__A2N83.9.K.LSDeel' is created or already exists.\n",
            "Directory '/tmp/tmpqil8tlq7/Vlaams-Brabant/Missotten_Stefan/_geen_bestanden_beschikbaar/A8X1.0__A8N1.0.S' is created or already exists.\n",
            "Directory '/tmp/tmpqil8tlq7/Vlaams-Brabant/Missotten_Stefan/_geen_bestanden_beschikbaar/A2X71.9__A2P71.8.K__A2P71.8.K.LSDeel' is created or already exists.\n",
            "Directory '/tmp/tmpqil8tlq7/Vlaams-Brabant/Missotten_Stefan/_geen_bestanden_beschikbaar/A10X2.4__A10P2.4.S__Y01__Y01.2' is created or already exists.\n",
            "Directory '/tmp/tmpqil8tlq7/Vlaams-Brabant/Missotten_Stefan/_geen_bestanden_beschikbaar/A2X69.7__A2M69.7.S__Q24__Q24.3' is created or already exists.\n",
            "Directory '/tmp/tmpqil8tlq7/Vlaams-Brabant/Missotten_Stefan/_geen_bestanden_beschikbaar/A3X7.9__A3P7.9.S__O03__O03.4' is created or already exists.\n",
            "Directory '/tmp/tmpqil8tlq7/Vlaams-Brabant/Missotten_Stefan/_geen_bestanden_beschikbaar/A2X86.7__A2N86.7.S__Q01' is created or already exists.\n",
            "Directory '/tmp/tmpqil8tlq7/Vlaams-Brabant/Missotten_Stefan/_geen_bestanden_beschikbaar/A2X85.3__A2N85.3.S__Q03__Q03.1' is created or already exists.\n",
            "Processed 170 assets in 93.49 seconds\n",
            "Directory '/tmp/tmpqil8tlq7/Vlaams-Brabant/Missotten_Stefan/_geen_bestanden_beschikbaar/A3X7.7__A3N7.7.K__A3N7.7.K.LSDeel' is created or already exists.\n",
            "Directory '/tmp/tmpqil8tlq7/Vlaams-Brabant/Missotten_Stefan/_geen_bestanden_beschikbaar/A3X16.5__A3N16.5.K' is created or already exists.\n",
            "Directory '/tmp/tmpqil8tlq7/Vlaams-Brabant/Missotten_Stefan/_geen_bestanden_beschikbaar/A2X82.4__A2N82.4.S__Q07__Q07.3' is created or already exists.\n",
            "Directory '/tmp/tmpqil8tlq7/Vlaams-Brabant/Missotten_Stefan/_geen_bestanden_beschikbaar/A2X70.3__A2M70.3.S__Q23' is created or already exists.\n",
            "Directory '/tmp/tmpqil8tlq7/Vlaams-Brabant/Missotten_Stefan/_geen_bestanden_beschikbaar/A10X11.1__A10N11.1.S__VMS120' is created or already exists.\n",
            "Directory '/tmp/tmpqil8tlq7/Vlaams-Brabant/Missotten_Stefan/_geen_bestanden_beschikbaar/A10X8.2__A10M8.2.S__Y09__Y09.2' is created or already exists.\n",
            "Directory '/tmp/tmpqil8tlq7/Vlaams-Brabant/Missotten_Stefan/_geen_bestanden_beschikbaar/A10X6.0__A10P6.0.K__A10P6.0.K.LSDeel' is created or already exists.\n",
            "Directory '/tmp/tmpqil8tlq7/Vlaams-Brabant/Missotten_Stefan/_geen_bestanden_beschikbaar/A2X73.0__A2M73.0.S__Q19' is created or already exists.\n",
            "Directory '/tmp/tmpqil8tlq7/Vlaams-Brabant/Missotten_Stefan/_geen_bestanden_beschikbaar/A2X83.0__A2N83.0.K__A2N83.0.K.LSDeel' is created or already exists.\n",
            "Directory '/tmp/tmpqil8tlq7/Vlaams-Brabant/Missotten_Stefan/_geen_bestanden_beschikbaar/R0X26.3__R0N26.3.K__R0N26.3.K.LSDeel' is created or already exists.\n",
            "Processed 180 assets in 98.45 seconds\n",
            "Directory '/tmp/tmpqil8tlq7/Vlaams-Brabant/Missotten_Stefan/_geen_bestanden_beschikbaar/A3X6.6__A3P6.6.K__A3P6.6.K.LSDeel' is created or already exists.\n",
            "Directory '/tmp/tmpqil8tlq7/Vlaams-Brabant/Missotten_Stefan/_geen_bestanden_beschikbaar/R0X45.4__R0N45.4.K' is created or already exists.\n",
            "Directory '/tmp/tmpqil8tlq7/Vlaams-Brabant/Missotten_Stefan/_geen_bestanden_beschikbaar/A2X77.5__A2P77.5.K__A2P77.5.K.LSDeel' is created or already exists.\n",
            "Directory '/tmp/tmpqil8tlq7/Vlaams-Brabant/Missotten_Stefan/_geen_bestanden_beschikbaar/A2X70.3__A2M70.3.S__Q23__Q23.3' is created or already exists.\n",
            "Directory '/tmp/tmpqil8tlq7/Vlaams-Brabant/Missotten_Stefan/_geen_bestanden_beschikbaar/A3X15.7__A3P15.7.S__O15__O15.4' is created or already exists.\n",
            "Directory '/tmp/tmpqil8tlq7/Vlaams-Brabant/Missotten_Stefan/_geen_bestanden_beschikbaar/A10X14.4__A10N14.4.S' is created or already exists.\n",
            "Directory '/tmp/tmpqil8tlq7/Vlaams-Brabant/Missotten_Stefan/_geen_bestanden_beschikbaar/A3X11.5__A3P11.5.S__O09__O09.4' is created or already exists.\n",
            "Directory '/tmp/tmpqil8tlq7/Vlaams-Brabant/Missotten_Stefan/_geen_bestanden_beschikbaar/A2X69.7__A2M69.7.S' is created or already exists.\n",
            "Directory '/tmp/tmpqil8tlq7/Vlaams-Brabant/Missotten_Stefan/_geen_bestanden_beschikbaar/A3X8.9__A3P8.9.S__O05__O05.2' is created or already exists.\n",
            "Directory '/tmp/tmpqil8tlq7/Vlaams-Brabant/Missotten_Stefan/_geen_bestanden_beschikbaar/R0X69.2__R0P69.2.K__R0P69.2.K.LSDeel' is created or already exists.\n",
            "Processed 190 assets in 103.43 seconds\n",
            "Directory '/tmp/tmpqil8tlq7/Vlaams-Brabant/Missotten_Stefan/_geen_bestanden_beschikbaar/R0X26.3__R0N26.3.S__VMS149' is created or already exists.\n",
            "Directory '/tmp/tmpqil8tlq7/Vlaams-Brabant/Missotten_Stefan/_geen_bestanden_beschikbaar/R0X45.4__R0N45.4.S__VMS131' is created or already exists.\n",
            "Directory '/tmp/tmpqil8tlq7/Vlaams-Brabant/Missotten_Stefan/_geen_bestanden_beschikbaar/A3X14.6__A3P14.6.K__A3P14.6.K.LSDeel' is created or already exists.\n",
            "Directory '/tmp/tmpqil8tlq7/Vlaams-Brabant/Missotten_Stefan/_geen_bestanden_beschikbaar/A10X2.8__A10M2.8.S__Y02__Y02.3' is created or already exists.\n",
            "Directory '/tmp/tmpqil8tlq7/Vlaams-Brabant/Missotten_Stefan/_geen_bestanden_beschikbaar/A2X76.7__A2M76.7.S__Q14__Q14.2' is created or already exists.\n",
            "Directory '/tmp/tmpqil8tlq7/Vlaams-Brabant/Missotten_Stefan/_geen_bestanden_beschikbaar/A3X12.9__A3P12.9.S__O11__O11.1' is created or already exists.\n",
            "Directory '/tmp/tmpqil8tlq7/Vlaams-Brabant/Missotten_Stefan/_geen_bestanden_beschikbaar/A3X5.2__A3P5.2.S' is created or already exists.\n",
            "Directory '/tmp/tmpqil8tlq7/Vlaams-Brabant/Missotten_Stefan/_geen_bestanden_beschikbaar/A10X4.3__A10M4.3.S__Y04__Y04.2' is created or already exists.\n",
            "Directory '/tmp/tmpqil8tlq7/Vlaams-Brabant/Missotten_Stefan/_geen_bestanden_beschikbaar/A2X71.0__A2M71.0.S' is created or already exists.\n",
            "Directory '/tmp/tmpqil8tlq7/Vlaams-Brabant/Missotten_Stefan/_geen_bestanden_beschikbaar/A2X70.3__A2M70.3.S__Q23__Q23.1' is created or already exists.\n",
            "Processed 200 assets in 108.39 seconds\n",
            "Directory '/tmp/tmpqil8tlq7/Vlaams-Brabant/Missotten_Stefan/_geen_bestanden_beschikbaar/A3X11.5__A3P11.5.S__O09__O09.2' is created or already exists.\n",
            "Directory '/tmp/tmpqil8tlq7/Vlaams-Brabant/Missotten_Stefan/_geen_bestanden_beschikbaar/A10X8.2__A10M8.2.S__Y09' is created or already exists.\n",
            "Directory '/tmp/tmpqil8tlq7/Vlaams-Brabant/Missotten_Stefan/_geen_bestanden_beschikbaar/A2X77.5__A2P77.5.K' is created or already exists.\n",
            "Directory '/tmp/tmpqil8tlq7/Vlaams-Brabant/Missotten_Stefan/_geen_bestanden_beschikbaar/A2X76.0__A2P76.0.K' is created or already exists.\n",
            "Directory '/tmp/tmpqil8tlq7/Vlaams-Brabant/Missotten_Stefan/_geen_bestanden_beschikbaar/A10X11.1__A10N11.1.K__A10N11.1.K.LSDeel' is created or already exists.\n",
            "Directory '/tmp/tmpqil8tlq7/Vlaams-Brabant/Missotten_Stefan/_geen_bestanden_beschikbaar/A10X2.4__A10N2.4.K__A10N2.4.K.LSDeel' is created or already exists.\n",
            "Directory '/tmp/tmpqil8tlq7/Vlaams-Brabant/Missotten_Stefan/_geen_bestanden_beschikbaar/A3X12.1__A3P12.1.S__O10__O10.3' is created or already exists.\n",
            "Directory '/tmp/tmpqil8tlq7/Vlaams-Brabant/Missotten_Stefan/_geen_bestanden_beschikbaar/A2X77.5__A2M77.5.S__Q13' is created or already exists.\n",
            "Directory '/tmp/tmpqil8tlq7/Vlaams-Brabant/Missotten_Stefan/_geen_bestanden_beschikbaar/A3X10.2__A3P10.2.S__O07__O07.2' is created or already exists.\n",
            "Directory '/tmp/tmpqil8tlq7/Vlaams-Brabant/Missotten_Stefan/_geen_bestanden_beschikbaar/A3X7.9__A3P7.9.S__O03__O03.3' is created or already exists.\n",
            "Processed 210 assets in 113.34 seconds\n",
            "Directory '/tmp/tmpqil8tlq7/Vlaams-Brabant/Missotten_Stefan/_geen_bestanden_beschikbaar/R0X45.4__R0N45.4.S' is created or already exists.\n",
            "Directory '/tmp/tmpqil8tlq7/Vlaams-Brabant/Missotten_Stefan/_geen_bestanden_beschikbaar/A3X8.9__A3P8.9.S__O05__O05.1' is created or already exists.\n",
            "Directory '/tmp/tmpqil8tlq7/Vlaams-Brabant/Missotten_Stefan/_geen_bestanden_beschikbaar/A3X9.7__A3P9.6.S__O06__O06.3' is created or already exists.\n",
            "Directory '/tmp/tmpqil8tlq7/Vlaams-Brabant/Missotten_Stefan/_geen_bestanden_beschikbaar/A10X4.3__A10M4.3.S' is created or already exists.\n",
            "Directory '/tmp/tmpqil8tlq7/Vlaams-Brabant/Missotten_Stefan/_geen_bestanden_beschikbaar/A10X7.7__A10N7.7.S__VMS121' is created or already exists.\n",
            "Directory '/tmp/tmpqil8tlq7/Vlaams-Brabant/Missotten_Stefan/_geen_bestanden_beschikbaar/A10X4.3__A10M4.3.S__Y04__Y04.3' is created or already exists.\n",
            "Writing file 20160229_142405.jpg to temp location: /tmp/tmpqil8tlq7/Vlaams-Brabant/Missotten_Stefan/A10X7.7__A10N7.7.S/FOTO.\n",
            "Directory '/tmp/tmpqil8tlq7/Vlaams-Brabant/Missotten_Stefan/_geen_bestanden_beschikbaar/A10X8.2__A10M8.2.S__Y09__Y09.4' is created or already exists.\n",
            "Directory '/tmp/tmpqil8tlq7/Vlaams-Brabant/Missotten_Stefan/_geen_bestanden_beschikbaar/A2X84.5__A2N84.5.S__Q04__Q04.1' is created or already exists.\n",
            "Directory '/tmp/tmpqil8tlq7/Vlaams-Brabant/Missotten_Stefan/_geen_bestanden_beschikbaar/R0X33.8__R0P33.8.S__VMS75' is created or already exists.\n",
            "Processed 220 assets in 118.76 seconds\n",
            "Writing file 20160307_091803.jpg to temp location: /tmp/tmpqil8tlq7/Vlaams-Brabant/Missotten_Stefan/A3X25.8__A3N25.8.S/FOTO.\n",
            "Writing file 20160307_091810.jpg to temp location: /tmp/tmpqil8tlq7/Vlaams-Brabant/Missotten_Stefan/A3X25.8__A3N25.8.S/FOTO.\n",
            "Writing file 20160307_091819.jpg to temp location: /tmp/tmpqil8tlq7/Vlaams-Brabant/Missotten_Stefan/A3X25.8__A3N25.8.S/FOTO.\n",
            "Directory '/tmp/tmpqil8tlq7/Vlaams-Brabant/Missotten_Stefan/_geen_bestanden_beschikbaar/A10X14.4__A10N14.4.K__A10N14.4.K.LSDeel' is created or already exists.\n",
            "Directory '/tmp/tmpqil8tlq7/Vlaams-Brabant/Missotten_Stefan/_geen_bestanden_beschikbaar/A2X73.0__A2M73.0.S' is created or already exists.\n",
            "Directory '/tmp/tmpqil8tlq7/Vlaams-Brabant/Missotten_Stefan/_geen_bestanden_beschikbaar/A10X3.5__A10P3.5.K' is created or already exists.\n",
            "Directory '/tmp/tmpqil8tlq7/Vlaams-Brabant/Missotten_Stefan/_geen_bestanden_beschikbaar/A2X71.9__A2P71.8.K' is created or already exists.\n",
            "Directory '/tmp/tmpqil8tlq7/Vlaams-Brabant/Missotten_Stefan/_geen_bestanden_beschikbaar/A3X12.1__A3P12.1.K' is created or already exists.\n",
            "Directory '/tmp/tmpqil8tlq7/Vlaams-Brabant/Missotten_Stefan/_geen_bestanden_beschikbaar/A3X7.2__A3P7.2.S__O02__O02.1' is created or already exists.\n",
            "Writing file 20160421_085731.jpg to temp location: /tmp/tmpqil8tlq7/Vlaams-Brabant/Missotten_Stefan/A2X82.4__A2N82.4.S/FOTO.\n",
            "Directory '/tmp/tmpqil8tlq7/Vlaams-Brabant/Missotten_Stefan/_geen_bestanden_beschikbaar/A10X8.2__A10M8.2.S__Y09__Y09.3' is created or already exists.\n",
            "Directory '/tmp/tmpqil8tlq7/Vlaams-Brabant/Missotten_Stefan/_geen_bestanden_beschikbaar/VIE.TUNNEL__RICHTZAV__TV01' is created or already exists.\n",
            "Processed 230 assets in 125.59 seconds\n",
            "Directory '/tmp/tmpqil8tlq7/Vlaams-Brabant/Missotten_Stefan/_geen_bestanden_beschikbaar/A2X76.0__A2P76.0.K__A2P76.0.K.LSDeel' is created or already exists.\n",
            "Directory '/tmp/tmpqil8tlq7/Vlaams-Brabant/Missotten_Stefan/_geen_bestanden_beschikbaar/A3X10.8__A3P10.8.S__O08__O08.1' is created or already exists.\n",
            "Directory '/tmp/tmpqil8tlq7/Vlaams-Brabant/Missotten_Stefan/_geen_bestanden_beschikbaar/A10X8.2__A10M8.2.S' is created or already exists.\n",
            "Directory '/tmp/tmpqil8tlq7/Vlaams-Brabant/Missotten_Stefan/_geen_bestanden_beschikbaar/A3X9.7__A3P9.6.S__O06' is created or already exists.\n",
            "Directory '/tmp/tmpqil8tlq7/Vlaams-Brabant/Missotten_Stefan/_geen_bestanden_beschikbaar/A1X3.4__A1P3.4.Z.K' is created or already exists.\n",
            "Directory '/tmp/tmpqil8tlq7/Vlaams-Brabant/Missotten_Stefan/_geen_bestanden_beschikbaar/A3X11.5__A3N11.5.K__A3N11.5.K.LSDeel' is created or already exists.\n",
            "Directory '/tmp/tmpqil8tlq7/Vlaams-Brabant/Missotten_Stefan/_geen_bestanden_beschikbaar/A10X2.4__A10N2.4.S' is created or already exists.\n",
            "Directory '/tmp/tmpqil8tlq7/Vlaams-Brabant/Missotten_Stefan/_geen_bestanden_beschikbaar/A1X5.6__A1P5.6.S__VMS167' is created or already exists.\n",
            "Directory '/tmp/tmpqil8tlq7/Vlaams-Brabant/Missotten_Stefan/_geen_bestanden_beschikbaar/A1X1.3__A1N1.3.S__VMS74' is created or already exists.\n",
            "Directory '/tmp/tmpqil8tlq7/Vlaams-Brabant/Missotten_Stefan/_geen_bestanden_beschikbaar/R0X40.1__R0P40.1.K__R0P40.1.K.LSDeel' is created or already exists.\n",
            "Processed 240 assets in 130.60 seconds\n",
            "Directory '/tmp/tmpqil8tlq7/Vlaams-Brabant/Missotten_Stefan/_geen_bestanden_beschikbaar/R0X32.0__R0N32.0.S__vms59' is created or already exists.\n",
            "Directory '/tmp/tmpqil8tlq7/Vlaams-Brabant/Missotten_Stefan/_geen_bestanden_beschikbaar/A4X6.1__A4N6.1.S__VMS80' is created or already exists.\n",
            "Directory '/tmp/tmpqil8tlq7/Vlaams-Brabant/Missotten_Stefan/_geen_bestanden_beschikbaar/A2X73.7__A2P73.7.K__A2P73.7.K.LSDeel' is created or already exists.\n",
            "Directory '/tmp/tmpqil8tlq7/Vlaams-Brabant/Missotten_Stefan/_geen_bestanden_beschikbaar/A10X3.5__A10P3.5.K__A10P3.5.K.LSDeel' is created or already exists.\n",
            "Directory '/tmp/tmpqil8tlq7/Vlaams-Brabant/Missotten_Stefan/_geen_bestanden_beschikbaar/A3X9.7__A3P9.6.S__O06__O06.4' is created or already exists.\n",
            "Directory '/tmp/tmpqil8tlq7/Vlaams-Brabant/Missotten_Stefan/_geen_bestanden_beschikbaar/A2X71.0__A2P71.0.K' is created or already exists.\n",
            "Directory '/tmp/tmpqil8tlq7/Vlaams-Brabant/Missotten_Stefan/_geen_bestanden_beschikbaar/A10X2.4__A10P2.4.S__Y01__Y01.3' is created or already exists.\n",
            "Directory '/tmp/tmpqil8tlq7/Vlaams-Brabant/Missotten_Stefan/_geen_bestanden_beschikbaar/R0X33.8__R0P33.8.S' is created or already exists.\n",
            "Directory '/tmp/tmpqil8tlq7/Vlaams-Brabant/Missotten_Stefan/_geen_bestanden_beschikbaar/A2X73.0__A2M73.0.S__Q19__Q19.1' is created or already exists.\n",
            "Directory '/tmp/tmpqil8tlq7/Vlaams-Brabant/Missotten_Stefan/_geen_bestanden_beschikbaar/A2X73.0__A2M73.0.S__Q19__Q19.2' is created or already exists.\n",
            "Processed 250 assets in 135.53 seconds\n",
            "Directory '/tmp/tmpqil8tlq7/Vlaams-Brabant/Missotten_Stefan/_geen_bestanden_beschikbaar/R0X38.3__R0N38.3.K' is created or already exists.\n",
            "Directory '/tmp/tmpqil8tlq7/Vlaams-Brabant/Missotten_Stefan/_geen_bestanden_beschikbaar/A3X11.5__A3P11.5.S__O09' is created or already exists.\n",
            "Directory '/tmp/tmpqil8tlq7/Vlaams-Brabant/Missotten_Stefan/_geen_bestanden_beschikbaar/A3X7.2__A3P7.2.S__O02__O02.3' is created or already exists.\n",
            "Directory '/tmp/tmpqil8tlq7/Vlaams-Brabant/Missotten_Stefan/_geen_bestanden_beschikbaar/VIE.TUNNEL__RICHTWAT__SV01' is created or already exists.\n",
            "Directory '/tmp/tmpqil8tlq7/Vlaams-Brabant/Missotten_Stefan/_geen_bestanden_beschikbaar/A3X8.9__A3P8.9.K' is created or already exists.\n",
            "Directory '/tmp/tmpqil8tlq7/Vlaams-Brabant/Missotten_Stefan/_geen_bestanden_beschikbaar/A10X2.8__A10P2.8.K' is created or already exists.\n",
            "Directory '/tmp/tmpqil8tlq7/Vlaams-Brabant/Missotten_Stefan/_geen_bestanden_beschikbaar/R0X40.1__R0P40.1.K' is created or already exists.\n",
            "Directory '/tmp/tmpqil8tlq7/Vlaams-Brabant/Missotten_Stefan/_geen_bestanden_beschikbaar/A2X81.7__A2N81.7.K' is created or already exists.\n",
            "Directory '/tmp/tmpqil8tlq7/Vlaams-Brabant/Missotten_Stefan/_geen_bestanden_beschikbaar/A2X83.0__A2N83.0.K' is created or already exists.\n",
            "Directory '/tmp/tmpqil8tlq7/Vlaams-Brabant/Missotten_Stefan/_geen_bestanden_beschikbaar/A2X86.7__A2N86.7.K' is created or already exists.\n",
            "Processed 260 assets in 140.59 seconds\n",
            "Directory '/tmp/tmpqil8tlq7/Vlaams-Brabant/Missotten_Stefan/_geen_bestanden_beschikbaar/A1X11.8__A1P11.8.K__A1P11.8.K.LSDeel' is created or already exists.\n",
            "Directory '/tmp/tmpqil8tlq7/Vlaams-Brabant/Missotten_Stefan/_geen_bestanden_beschikbaar/A3X8.5__A3P8.5.K__A3P8.5.K.LSDeel' is created or already exists.\n",
            "Directory '/tmp/tmpqil8tlq7/Vlaams-Brabant/Missotten_Stefan/_geen_bestanden_beschikbaar/A10X5.2__A10N5.2.K' is created or already exists.\n",
            "Writing file 20160125_145709.jpg to temp location: /tmp/tmpqil8tlq7/Vlaams-Brabant/Missotten_Stefan/A3X14.6__A3P14.6.S/FOTO.\n",
            "Writing file 20160125_145823.jpg to temp location: /tmp/tmpqil8tlq7/Vlaams-Brabant/Missotten_Stefan/A3X14.6__A3P14.6.S/FOTO.\n",
            "Writing file 20160125_145846.jpg to temp location: /tmp/tmpqil8tlq7/Vlaams-Brabant/Missotten_Stefan/A3X14.6__A3P14.6.S/FOTO.\n",
            "Writing file 20160125_145954.jpg to temp location: /tmp/tmpqil8tlq7/Vlaams-Brabant/Missotten_Stefan/A3X14.6__A3P14.6.S/FOTO.\n",
            "Writing file 20160125_150104.jpg to temp location: /tmp/tmpqil8tlq7/Vlaams-Brabant/Missotten_Stefan/A3X14.6__A3P14.6.S/FOTO.\n",
            "Directory '/tmp/tmpqil8tlq7/Vlaams-Brabant/Missotten_Stefan/_geen_bestanden_beschikbaar/A3X12.1__A3P12.1.S__O10__O10.4' is created or already exists.\n",
            "Directory '/tmp/tmpqil8tlq7/Vlaams-Brabant/Missotten_Stefan/_geen_bestanden_beschikbaar/A2X69.7__A2M69.7.S__Q24' is created or already exists.\n",
            "Directory '/tmp/tmpqil8tlq7/Vlaams-Brabant/Missotten_Stefan/_geen_bestanden_beschikbaar/A3X16.5__A3N16.5.K__A3N16.5.K.LSDeel' is created or already exists.\n",
            "Directory '/tmp/tmpqil8tlq7/Vlaams-Brabant/Missotten_Stefan/_geen_bestanden_beschikbaar/A2X68.4__A2N68.4.S__Q26' is created or already exists.\n",
            "Directory '/tmp/tmpqil8tlq7/Vlaams-Brabant/Missotten_Stefan/_geen_bestanden_beschikbaar/A3X8.5__A3P8.5.S__O04' is created or already exists.\n",
            "Directory '/tmp/tmpqil8tlq7/Vlaams-Brabant/Missotten_Stefan/_geen_bestanden_beschikbaar/A10X14.4__A10N14.2.Z.K' is created or already exists.\n",
            "Processed 270 assets in 147.93 seconds\n",
            "Directory '/tmp/tmpqil8tlq7/Vlaams-Brabant/Missotten_Stefan/_geen_bestanden_beschikbaar/A2X73.7__A2P73.7.K' is created or already exists.\n",
            "Directory '/tmp/tmpqil8tlq7/Vlaams-Brabant/Missotten_Stefan/_geen_bestanden_beschikbaar/A3X12.1__A3N12.1.K__A3N12.1.K.LSDeel' is created or already exists.\n",
            "Directory '/tmp/tmpqil8tlq7/Vlaams-Brabant/Missotten_Stefan/_geen_bestanden_beschikbaar/A3X16.5__A3P16.5.S__O16__O16.4' is created or already exists.\n",
            "Directory '/tmp/tmpqil8tlq7/Vlaams-Brabant/Missotten_Stefan/_geen_bestanden_beschikbaar/A2X84.5__A2N84.5.S__Q04__Q04.2' is created or already exists.\n",
            "Directory '/tmp/tmpqil8tlq7/Vlaams-Brabant/Missotten_Stefan/_geen_bestanden_beschikbaar/A12X13.2__A12N13.2.K' is created or already exists.\n",
            "Directory '/tmp/tmpqil8tlq7/Vlaams-Brabant/Missotten_Stefan/_geen_bestanden_beschikbaar/A2X79.3__A2P79.3.K__A2P79.3.K.LSDeel' is created or already exists.\n",
            "Directory '/tmp/tmpqil8tlq7/Vlaams-Brabant/Missotten_Stefan/_geen_bestanden_beschikbaar/R0X26.3__R0N26.2.Z.K__LS' is created or already exists.\n",
            "Directory '/tmp/tmpqil8tlq7/Vlaams-Brabant/Missotten_Stefan/_geen_bestanden_beschikbaar/A3X6.6__A3P6.6.K' is created or already exists.\n",
            "Directory '/tmp/tmpqil8tlq7/Vlaams-Brabant/Missotten_Stefan/_geen_bestanden_beschikbaar/A1X5.6__A1P5.6.S' is created or already exists.\n",
            "Writing file Lasnaad aan luik middenberm.jpeg to temp location: /tmp/tmpqil8tlq7/Vlaams-Brabant/Missotten_Stefan/A12X13.2__A12N13.2.S/FOTO.\n",
            "Writing file img_1459844735572.jpg to temp location: /tmp/tmpqil8tlq7/Vlaams-Brabant/Missotten_Stefan/A12X13.2__A12N13.2.S/FOTO.\n",
            "Writing file img_1459844932614.jpg to temp location: /tmp/tmpqil8tlq7/Vlaams-Brabant/Missotten_Stefan/A12X13.2__A12N13.2.S/FOTO.\n",
            "Processed 280 assets in 154.36 seconds\n",
            "Directory '/tmp/tmpqil8tlq7/Vlaams-Brabant/Missotten_Stefan/_geen_bestanden_beschikbaar/A10X2.8__A10M2.8.S__Y02__Y02.1' is created or already exists.\n",
            "Directory '/tmp/tmpqil8tlq7/Vlaams-Brabant/Missotten_Stefan/_geen_bestanden_beschikbaar/A3X10.8__A3P10.8.S__O08__O08.2' is created or already exists.\n",
            "Directory '/tmp/tmpqil8tlq7/Vlaams-Brabant/Missotten_Stefan/_geen_bestanden_beschikbaar/A10X6.7__A10M6.7.S__Y07__Y07.1' is created or already exists.\n",
            "Directory '/tmp/tmpqil8tlq7/Vlaams-Brabant/Missotten_Stefan/_geen_bestanden_beschikbaar/R0X50.0__R0N50.0.S__VMS66' is created or already exists.\n",
            "Directory '/tmp/tmpqil8tlq7/Vlaams-Brabant/Missotten_Stefan/_geen_bestanden_beschikbaar/A2X79.3__A2M79.3.S' is created or already exists.\n",
            "Directory '/tmp/tmpqil8tlq7/Vlaams-Brabant/Missotten_Stefan/_geen_bestanden_beschikbaar/A3X8.5__A3P8.5.S' is created or already exists.\n",
            "Directory '/tmp/tmpqil8tlq7/Vlaams-Brabant/Missotten_Stefan/_geen_bestanden_beschikbaar/R0X69.2__R0N69.2.S__VMS64' is created or already exists.\n",
            "Directory '/tmp/tmpqil8tlq7/Vlaams-Brabant/Missotten_Stefan/_geen_bestanden_beschikbaar/A2X80.8__A2N80.8.S__Q09__Q09.3' is created or already exists.\n",
            "Directory '/tmp/tmpqil8tlq7/Vlaams-Brabant/Missotten_Stefan/_geen_bestanden_beschikbaar/A2X82.4__A2N82.4.S__Q07__Q07.1' is created or already exists.\n",
            "Directory '/tmp/tmpqil8tlq7/Vlaams-Brabant/Missotten_Stefan/_geen_bestanden_beschikbaar/A3X12.9__A3P12.9.S__O11__O11.4' is created or already exists.\n",
            "Processed 290 assets in 159.33 seconds\n",
            "Directory '/tmp/tmpqil8tlq7/Vlaams-Brabant/Missotten_Stefan/_geen_bestanden_beschikbaar/A2X86.0__A2N86.0.K__A2N86.0.K.LSDeel' is created or already exists.\n",
            "Directory '/tmp/tmpqil8tlq7/Vlaams-Brabant/Missotten_Stefan/_geen_bestanden_beschikbaar/R0X32.0__R0N32.0.S' is created or already exists.\n",
            "Directory '/tmp/tmpqil8tlq7/Vlaams-Brabant/Missotten_Stefan/_geen_bestanden_beschikbaar/A2X74.6__A2M74.6.S__Q17__Q17.2' is created or already exists.\n",
            "Directory '/tmp/tmpqil8tlq7/Vlaams-Brabant/Missotten_Stefan/_geen_bestanden_beschikbaar/A3X16.5__A3P16.5.S' is created or already exists.\n",
            "Directory '/tmp/tmpqil8tlq7/Vlaams-Brabant/Missotten_Stefan/_geen_bestanden_beschikbaar/A2X71.9__A2P72.25.Z.K' is created or already exists.\n",
            "Directory '/tmp/tmpqil8tlq7/Vlaams-Brabant/Missotten_Stefan/_geen_bestanden_beschikbaar/A3X13.6__A3P13.6.S__O12__O12.4' is created or already exists.\n",
            "Directory '/tmp/tmpqil8tlq7/Vlaams-Brabant/Missotten_Stefan/_geen_bestanden_beschikbaar/A3X8.9__A3P8.9.K__A3P8.9.K.LSDeel' is created or already exists.\n",
            "Directory '/tmp/tmpqil8tlq7/Vlaams-Brabant/Missotten_Stefan/_geen_bestanden_beschikbaar/A2X71.9__A2M71.8.S__Q21__Q21.3' is created or already exists.\n",
            "Directory '/tmp/tmpqil8tlq7/Vlaams-Brabant/Missotten_Stefan/_geen_bestanden_beschikbaar/A2X84.5__A2N84.5.S__Q04' is created or already exists.\n",
            "Directory '/tmp/tmpqil8tlq7/Vlaams-Brabant/Missotten_Stefan/_geen_bestanden_beschikbaar/A1X8.8__A1N8.8.S' is created or already exists.\n",
            "Processed 300 assets in 164.81 seconds\n",
            "Directory '/tmp/tmpqil8tlq7/Vlaams-Brabant/Missotten_Stefan/_geen_bestanden_beschikbaar/A3X7.2__A3P7.2.S__O02' is created or already exists.\n",
            "Directory '/tmp/tmpqil8tlq7/Vlaams-Brabant/Missotten_Stefan/_geen_bestanden_beschikbaar/A1X11.8__A1P11.8.K' is created or already exists.\n",
            "Directory '/tmp/tmpqil8tlq7/Vlaams-Brabant/Missotten_Stefan/_geen_bestanden_beschikbaar/R0X28.4__R0P28.4.S__VMS63' is created or already exists.\n",
            "Directory '/tmp/tmpqil8tlq7/Vlaams-Brabant/Missotten_Stefan/_geen_bestanden_beschikbaar/A2X80.9__A2P80.9.K' is created or already exists.\n",
            "Directory '/tmp/tmpqil8tlq7/Vlaams-Brabant/Missotten_Stefan/_geen_bestanden_beschikbaar/A3X12.9__A3P12.9.S__O11' is created or already exists.\n",
            "Directory '/tmp/tmpqil8tlq7/Vlaams-Brabant/Missotten_Stefan/_geen_bestanden_beschikbaar/A2X71.0__A2M71.0.S__Q22__Q22.3' is created or already exists.\n",
            "Directory '/tmp/tmpqil8tlq7/Vlaams-Brabant/Missotten_Stefan/_geen_bestanden_beschikbaar/A3X13.6__A3P13.6.S__O12__O12.3' is created or already exists.\n",
            "Directory '/tmp/tmpqil8tlq7/Vlaams-Brabant/Missotten_Stefan/_geen_bestanden_beschikbaar/A2X81.7__A2N81.7.K__A2N81.7.K.LSDeel' is created or already exists.\n",
            "Directory '/tmp/tmpqil8tlq7/Vlaams-Brabant/Missotten_Stefan/_geen_bestanden_beschikbaar/A2X85.3__A2N85.3.K' is created or already exists.\n",
            "Directory '/tmp/tmpqil8tlq7/Vlaams-Brabant/Missotten_Stefan/_geen_bestanden_beschikbaar/A2X86.7__A2N86.7.S__Q01__Q01.2' is created or already exists.\n",
            "Processed 310 assets in 169.76 seconds\n",
            "Directory '/tmp/tmpqil8tlq7/Vlaams-Brabant/Missotten_Stefan/_geen_bestanden_beschikbaar/A10X5.2__A10M5.1.S__Y05__Y05.1' is created or already exists.\n",
            "Writing file 20160212_121514.jpg to temp location: /tmp/tmpqil8tlq7/Vlaams-Brabant/Missotten_Stefan/A3X11.5__A3P11.5.S/FOTO.\n",
            "Directory '/tmp/tmpqil8tlq7/Vlaams-Brabant/Missotten_Stefan/_geen_bestanden_beschikbaar/A8X1.0__A8N1.2.K__A8N1.2.K.LSDeel' is created or already exists.\n",
            "Writing file 20160126_110514[1].jpg to temp location: /tmp/tmpqil8tlq7/Vlaams-Brabant/Missotten_Stefan/A201X2.0__A201P2.0.S/FOTO.\n",
            "Directory '/tmp/tmpqil8tlq7/Vlaams-Brabant/Missotten_Stefan/_geen_bestanden_beschikbaar/VIE.TUNNEL__RICHTWAT__SV01__SV01.1' is created or already exists.\n",
            "Directory '/tmp/tmpqil8tlq7/Vlaams-Brabant/Missotten_Stefan/_geen_bestanden_beschikbaar/A3X17.4__A3P17.4.S' is created or already exists.\n",
            "Directory '/tmp/tmpqil8tlq7/Vlaams-Brabant/Missotten_Stefan/_geen_bestanden_beschikbaar/A10X4.3__A10P4.3.K__A10P4.3.K.LSDeel' is created or already exists.\n",
            "Directory '/tmp/tmpqil8tlq7/Vlaams-Brabant/Missotten_Stefan/_geen_bestanden_beschikbaar/A2X85.3__A2N85.3.S' is created or already exists.\n",
            "Directory '/tmp/tmpqil8tlq7/Vlaams-Brabant/Missotten_Stefan/_geen_bestanden_beschikbaar/R0X40.1__R0P40.1.S__VMS72' is created or already exists.\n",
            "Directory '/tmp/tmpqil8tlq7/Vlaams-Brabant/Missotten_Stefan/_geen_bestanden_beschikbaar/A4X6.1__A4N6.15.K__A4N6.15.K.LSDeel' is created or already exists.\n",
            "Processed 320 assets in 176.30 seconds\n",
            "Directory '/tmp/tmpqil8tlq7/Vlaams-Brabant/Missotten_Stefan/_geen_bestanden_beschikbaar/A1X5.6__A1P5.6.K__A1P5.6.K.LSDeel' is created or already exists.\n",
            "Directory '/tmp/tmpqil8tlq7/Vlaams-Brabant/Missotten_Stefan/_geen_bestanden_beschikbaar/A10X14.4__A10N14.2.Z.K__A10N14.2.Z.K.LSDeel' is created or already exists.\n",
            "Directory '/tmp/tmpqil8tlq7/Vlaams-Brabant/Missotten_Stefan/_geen_bestanden_beschikbaar/A2X71.9__A2M71.8.S__Q21' is created or already exists.\n",
            "Directory '/tmp/tmpqil8tlq7/Vlaams-Brabant/Missotten_Stefan/_geen_bestanden_beschikbaar/A2X86.0__A2N86.0.K' is created or already exists.\n",
            "Directory '/tmp/tmpqil8tlq7/Vlaams-Brabant/Missotten_Stefan/_geen_bestanden_beschikbaar/R0X26.3__R0N26.3.S' is created or already exists.\n"
          ]
        }
      ]
    }
  ]
}
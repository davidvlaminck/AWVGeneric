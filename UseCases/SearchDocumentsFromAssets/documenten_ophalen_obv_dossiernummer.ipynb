{
  "nbformat": 4,
  "nbformat_minor": 0,
  "metadata": {
    "colab": {
      "provenance": [],
      "authorship_tag": "ABX9TyPXqAgy74u9R0RYCkIPAEv7",
      "include_colab_link": true
    },
    "kernelspec": {
      "name": "python3",
      "display_name": "Python 3"
    },
    "language_info": {
      "name": "python"
    },
    "widgets": {
      "application/vnd.jupyter.widget-state+json": {
        "4bb1e11b5bf241968ee8637b8189b555": {
          "model_module": "@jupyter-widgets/controls",
          "model_name": "TextModel",
          "model_module_version": "1.5.0",
          "state": {
            "_dom_classes": [],
            "_model_module": "@jupyter-widgets/controls",
            "_model_module_version": "1.5.0",
            "_model_name": "TextModel",
            "_view_count": null,
            "_view_module": "@jupyter-widgets/controls",
            "_view_module_version": "1.5.0",
            "_view_name": "TextView",
            "continuous_update": true,
            "description": "",
            "description_tooltip": null,
            "disabled": false,
            "layout": "IPY_MODEL_ef1cb6b9d96e48d985e465f3923efe0a",
            "placeholder": "​",
            "style": "IPY_MODEL_fb123befcd6f4e6687b1373a014d9da4",
            "value": "VWT/DVM/2023/3"
          }
        },
        "ef1cb6b9d96e48d985e465f3923efe0a": {
          "model_module": "@jupyter-widgets/base",
          "model_name": "LayoutModel",
          "model_module_version": "1.2.0",
          "state": {
            "_model_module": "@jupyter-widgets/base",
            "_model_module_version": "1.2.0",
            "_model_name": "LayoutModel",
            "_view_count": null,
            "_view_module": "@jupyter-widgets/base",
            "_view_module_version": "1.2.0",
            "_view_name": "LayoutView",
            "align_content": null,
            "align_items": null,
            "align_self": null,
            "border": null,
            "bottom": null,
            "display": null,
            "flex": null,
            "flex_flow": null,
            "grid_area": null,
            "grid_auto_columns": null,
            "grid_auto_flow": null,
            "grid_auto_rows": null,
            "grid_column": null,
            "grid_gap": null,
            "grid_row": null,
            "grid_template_areas": null,
            "grid_template_columns": null,
            "grid_template_rows": null,
            "height": null,
            "justify_content": null,
            "justify_items": null,
            "left": null,
            "margin": null,
            "max_height": null,
            "max_width": null,
            "min_height": null,
            "min_width": null,
            "object_fit": null,
            "object_position": null,
            "order": null,
            "overflow": null,
            "overflow_x": null,
            "overflow_y": null,
            "padding": null,
            "right": null,
            "top": null,
            "visibility": null,
            "width": null
          }
        },
        "fb123befcd6f4e6687b1373a014d9da4": {
          "model_module": "@jupyter-widgets/controls",
          "model_name": "DescriptionStyleModel",
          "model_module_version": "1.5.0",
          "state": {
            "_model_module": "@jupyter-widgets/controls",
            "_model_module_version": "1.5.0",
            "_model_name": "DescriptionStyleModel",
            "_view_count": null,
            "_view_module": "@jupyter-widgets/base",
            "_view_module_version": "1.2.0",
            "_view_name": "StyleView",
            "description_width": ""
          }
        },
        "fe936767191b4226b62861e8808c2c3c": {
          "model_module": "@jupyter-widgets/controls",
          "model_name": "SelectMultipleModel",
          "model_module_version": "1.5.0",
          "state": {
            "_dom_classes": [],
            "_model_module": "@jupyter-widgets/controls",
            "_model_module_version": "1.5.0",
            "_model_name": "SelectMultipleModel",
            "_options_labels": [
              "AANGEBODEN_SERVICES",
              "ANDER",
              "ASBUILT_DOSSIER",
              "BEREKENINGSNOTA",
              "BRIEF",
              "CONFIGBESTAND",
              "CONSTRUCTIE_EN_MONTAGEPLAN",
              "CONTROLEMETING_EBS",
              "DIMCONFIGURATIE",
              "ELEKTRISCH_SCHEMA",
              "FACTUUR",
              "FOTO",
              "HANDLEIDING",
              "INTERVENTIEVERSLAG",
              "KABELAANSLUITSCHEMA",
              "KEURINGSVERSLAG",
              "LICHTSTUDIE",
              "LUSSENMEETRAPPORT",
              "MEETRAPPORT",
              "M_PLAN",
              "OFFERTE",
              "OPROEPDOCUMENT",
              "PV_INGEBREKESTELLING",
              "PV_OPLEVERING",
              "PV_SCHADEVERWEKKER",
              "RISICOANALYSE",
              "SOFTWARE_DEPENDENCIES",
              "TECHNISCHE_FICHE",
              "TRACO_ATTEST",
              "V_PLAN"
            ],
            "_view_count": null,
            "_view_module": "@jupyter-widgets/controls",
            "_view_module_version": "1.5.0",
            "_view_name": "SelectMultipleView",
            "description": "",
            "description_tooltip": null,
            "disabled": false,
            "index": [
              11
            ],
            "layout": "IPY_MODEL_b8e6c723506944f086a8cd37ce1bad7b",
            "rows": 5,
            "style": "IPY_MODEL_140475e8a4a14750af709fdb497c55db"
          }
        },
        "b8e6c723506944f086a8cd37ce1bad7b": {
          "model_module": "@jupyter-widgets/base",
          "model_name": "LayoutModel",
          "model_module_version": "1.2.0",
          "state": {
            "_model_module": "@jupyter-widgets/base",
            "_model_module_version": "1.2.0",
            "_model_name": "LayoutModel",
            "_view_count": null,
            "_view_module": "@jupyter-widgets/base",
            "_view_module_version": "1.2.0",
            "_view_name": "LayoutView",
            "align_content": null,
            "align_items": null,
            "align_self": null,
            "border": null,
            "bottom": null,
            "display": null,
            "flex": null,
            "flex_flow": null,
            "grid_area": null,
            "grid_auto_columns": null,
            "grid_auto_flow": null,
            "grid_auto_rows": null,
            "grid_column": null,
            "grid_gap": null,
            "grid_row": null,
            "grid_template_areas": null,
            "grid_template_columns": null,
            "grid_template_rows": null,
            "height": null,
            "justify_content": null,
            "justify_items": null,
            "left": null,
            "margin": null,
            "max_height": null,
            "max_width": null,
            "min_height": null,
            "min_width": null,
            "object_fit": null,
            "object_position": null,
            "order": null,
            "overflow": null,
            "overflow_x": null,
            "overflow_y": null,
            "padding": null,
            "right": null,
            "top": null,
            "visibility": null,
            "width": null
          }
        },
        "140475e8a4a14750af709fdb497c55db": {
          "model_module": "@jupyter-widgets/controls",
          "model_name": "DescriptionStyleModel",
          "model_module_version": "1.5.0",
          "state": {
            "_model_module": "@jupyter-widgets/controls",
            "_model_module_version": "1.5.0",
            "_model_name": "DescriptionStyleModel",
            "_view_count": null,
            "_view_module": "@jupyter-widgets/base",
            "_view_module_version": "1.2.0",
            "_view_name": "StyleView",
            "description_width": ""
          }
        },
        "a4457dc8864d4261b5fd25161c282973": {
          "model_module": "@jupyter-widgets/controls",
          "model_name": "TextModel",
          "model_module_version": "1.5.0",
          "state": {
            "_dom_classes": [],
            "_model_module": "@jupyter-widgets/controls",
            "_model_module_version": "1.5.0",
            "_model_name": "TextModel",
            "_view_count": null,
            "_view_module": "@jupyter-widgets/controls",
            "_view_module_version": "1.5.0",
            "_view_name": "TextView",
            "continuous_update": true,
            "description": "",
            "description_tooltip": null,
            "disabled": false,
            "layout": "IPY_MODEL_d91d649c41974e45aacbf9ea3f837a8b",
            "placeholder": "​",
            "style": "IPY_MODEL_ceed9c3346ec47e4ad85565eb0faeb53",
            "value": "Stefan Missotten"
          }
        },
        "d91d649c41974e45aacbf9ea3f837a8b": {
          "model_module": "@jupyter-widgets/base",
          "model_name": "LayoutModel",
          "model_module_version": "1.2.0",
          "state": {
            "_model_module": "@jupyter-widgets/base",
            "_model_module_version": "1.2.0",
            "_model_name": "LayoutModel",
            "_view_count": null,
            "_view_module": "@jupyter-widgets/base",
            "_view_module_version": "1.2.0",
            "_view_name": "LayoutView",
            "align_content": null,
            "align_items": null,
            "align_self": null,
            "border": null,
            "bottom": null,
            "display": null,
            "flex": null,
            "flex_flow": null,
            "grid_area": null,
            "grid_auto_columns": null,
            "grid_auto_flow": null,
            "grid_auto_rows": null,
            "grid_column": null,
            "grid_gap": null,
            "grid_row": null,
            "grid_template_areas": null,
            "grid_template_columns": null,
            "grid_template_rows": null,
            "height": null,
            "justify_content": null,
            "justify_items": null,
            "left": null,
            "margin": null,
            "max_height": null,
            "max_width": null,
            "min_height": null,
            "min_width": null,
            "object_fit": null,
            "object_position": null,
            "order": null,
            "overflow": null,
            "overflow_x": null,
            "overflow_y": null,
            "padding": null,
            "right": null,
            "top": null,
            "visibility": null,
            "width": null
          }
        },
        "ceed9c3346ec47e4ad85565eb0faeb53": {
          "model_module": "@jupyter-widgets/controls",
          "model_name": "DescriptionStyleModel",
          "model_module_version": "1.5.0",
          "state": {
            "_model_module": "@jupyter-widgets/controls",
            "_model_module_version": "1.5.0",
            "_model_name": "DescriptionStyleModel",
            "_view_count": null,
            "_view_module": "@jupyter-widgets/base",
            "_view_module_version": "1.2.0",
            "_view_name": "StyleView",
            "description_width": ""
          }
        },
        "b4c871bcc96a4c3681876cec76a428ec": {
          "model_module": "@jupyter-widgets/controls",
          "model_name": "SelectMultipleModel",
          "model_module_version": "1.5.0",
          "state": {
            "_dom_classes": [],
            "_model_module": "@jupyter-widgets/controls",
            "_model_module_version": "1.5.0",
            "_model_name": "SelectMultipleModel",
            "_options_labels": [
              "antwerpen",
              "west-vlaanderen",
              "oost-vlaanderen",
              "vlaams-brabant",
              "limburg",
              "brussel"
            ],
            "_view_count": null,
            "_view_module": "@jupyter-widgets/controls",
            "_view_module_version": "1.5.0",
            "_view_name": "SelectMultipleView",
            "description": "",
            "description_tooltip": null,
            "disabled": false,
            "index": [
              3
            ],
            "layout": "IPY_MODEL_2c8ec69ef8eb495594c8d6d8a9604f77",
            "rows": 6,
            "style": "IPY_MODEL_5a8ddb1fceb0456294d08b3063b809c0"
          }
        },
        "2c8ec69ef8eb495594c8d6d8a9604f77": {
          "model_module": "@jupyter-widgets/base",
          "model_name": "LayoutModel",
          "model_module_version": "1.2.0",
          "state": {
            "_model_module": "@jupyter-widgets/base",
            "_model_module_version": "1.2.0",
            "_model_name": "LayoutModel",
            "_view_count": null,
            "_view_module": "@jupyter-widgets/base",
            "_view_module_version": "1.2.0",
            "_view_name": "LayoutView",
            "align_content": null,
            "align_items": null,
            "align_self": null,
            "border": null,
            "bottom": null,
            "display": null,
            "flex": null,
            "flex_flow": null,
            "grid_area": null,
            "grid_auto_columns": null,
            "grid_auto_flow": null,
            "grid_auto_rows": null,
            "grid_column": null,
            "grid_gap": null,
            "grid_row": null,
            "grid_template_areas": null,
            "grid_template_columns": null,
            "grid_template_rows": null,
            "height": null,
            "justify_content": null,
            "justify_items": null,
            "left": null,
            "margin": null,
            "max_height": null,
            "max_width": null,
            "min_height": null,
            "min_width": null,
            "object_fit": null,
            "object_position": null,
            "order": null,
            "overflow": null,
            "overflow_x": null,
            "overflow_y": null,
            "padding": null,
            "right": null,
            "top": null,
            "visibility": null,
            "width": null
          }
        },
        "5a8ddb1fceb0456294d08b3063b809c0": {
          "model_module": "@jupyter-widgets/controls",
          "model_name": "DescriptionStyleModel",
          "model_module_version": "1.5.0",
          "state": {
            "_model_module": "@jupyter-widgets/controls",
            "_model_module_version": "1.5.0",
            "_model_name": "DescriptionStyleModel",
            "_view_count": null,
            "_view_module": "@jupyter-widgets/base",
            "_view_module_version": "1.2.0",
            "_view_name": "StyleView",
            "description_width": ""
          }
        },
        "3c25568ecf2b487893e419a59fc3dbf5": {
          "model_module": "@jupyter-widgets/controls",
          "model_name": "TextModel",
          "model_module_version": "1.5.0",
          "state": {
            "_dom_classes": [],
            "_model_module": "@jupyter-widgets/controls",
            "_model_module_version": "1.5.0",
            "_model_name": "TextModel",
            "_view_count": null,
            "_view_module": "@jupyter-widgets/controls",
            "_view_module_version": "1.5.0",
            "_view_name": "TextView",
            "continuous_update": true,
            "description": "",
            "description_tooltip": null,
            "disabled": false,
            "layout": "IPY_MODEL_c6d58323ab5447cfb2eb525c5252ea54",
            "placeholder": "​",
            "style": "IPY_MODEL_11e5d590d56f4c73a8b4fef3f7e05358",
            "value": "38df78e30da4448a9cbb94517cd7fb08"
          }
        },
        "c6d58323ab5447cfb2eb525c5252ea54": {
          "model_module": "@jupyter-widgets/base",
          "model_name": "LayoutModel",
          "model_module_version": "1.2.0",
          "state": {
            "_model_module": "@jupyter-widgets/base",
            "_model_module_version": "1.2.0",
            "_model_name": "LayoutModel",
            "_view_count": null,
            "_view_module": "@jupyter-widgets/base",
            "_view_module_version": "1.2.0",
            "_view_name": "LayoutView",
            "align_content": null,
            "align_items": null,
            "align_self": null,
            "border": null,
            "bottom": null,
            "display": null,
            "flex": null,
            "flex_flow": null,
            "grid_area": null,
            "grid_auto_columns": null,
            "grid_auto_flow": null,
            "grid_auto_rows": null,
            "grid_column": null,
            "grid_gap": null,
            "grid_row": null,
            "grid_template_areas": null,
            "grid_template_columns": null,
            "grid_template_rows": null,
            "height": null,
            "justify_content": null,
            "justify_items": null,
            "left": null,
            "margin": null,
            "max_height": null,
            "max_width": null,
            "min_height": null,
            "min_width": null,
            "object_fit": null,
            "object_position": null,
            "order": null,
            "overflow": null,
            "overflow_x": null,
            "overflow_y": null,
            "padding": null,
            "right": null,
            "top": null,
            "visibility": null,
            "width": null
          }
        },
        "11e5d590d56f4c73a8b4fef3f7e05358": {
          "model_module": "@jupyter-widgets/controls",
          "model_name": "DescriptionStyleModel",
          "model_module_version": "1.5.0",
          "state": {
            "_model_module": "@jupyter-widgets/controls",
            "_model_module_version": "1.5.0",
            "_model_name": "DescriptionStyleModel",
            "_view_count": null,
            "_view_module": "@jupyter-widgets/base",
            "_view_module_version": "1.2.0",
            "_view_name": "StyleView",
            "description_width": ""
          }
        }
      }
    }
  },
  "cells": [
    {
      "cell_type": "markdown",
      "metadata": {
        "id": "view-in-github",
        "colab_type": "text"
      },
      "source": [
        "<a href=\"https://colab.research.google.com/github/davidvlaminck/AWVGeneric/blob/master/UseCases/SearchDocumentsFromAssets/documenten_ophalen_obv_dossiernummer.ipynb\" target=\"_parent\"><img src=\"https://colab.research.google.com/assets/colab-badge.svg\" alt=\"Open In Colab\"/></a>"
      ]
    },
    {
      "cell_type": "markdown",
      "source": [
        "# Documenten ophalen op basis van dossiernummer\n",
        "\n",
        "Download documenten gelinkt aan een specifiek **dossiernunmmer**.\n",
        "\n",
        "Filter bijkomend op:\n",
        "- **document type** *\\**\n",
        "- **toezichthouder** *\\**\n",
        "- **provincies** *\\**\n",
        "\n",
        "*\\** optioneel\n",
        "\n",
        "Achterliggend wordt gebruik gemaakt van de [EM-Infra API](https://apps.mow.vlaanderen.be/eminfra/core/swagger-ui/).\n",
        "\n",
        "Lanceer via de play-knop ![image.png](data:image/png;base64,iVBORw0KGgoAAAANSUhEUgAAACEAAAAgCAYAAACcuBHKAAAAAXNSR0IArs4c6QAAAARnQU1BAACxjwv8YQUAAAAJcEhZcwAADsMAAA7DAcdvqGQAAAHySURBVFhH7ZbNSwJRFMVPQiqOYSiCiIW2cCGILly5EAyx+osrceVCEAwU0YWLdCEiiJbkd2B5hysiM/Pm9WmBP5D3vMM7HmaO987RbDZ7w56x8LpXDiY2HExs+P8mFouF+vkqH+4TrVYL3W4Xg8EAq9VKrVksFng8Hvj9foRCIbX2EaRN9Ho91Go1TCYTruijKAqi0Sh8Ph9XzDE00e/3cXt/h9flK0ajEU5dLrjdbr4qZjweY/j8BMWh4Nh6jJura3i9Xr6qRZiJE+cJLtNpXKxvsawBwul04jxwpp4lDTNMg1mv13m3hZ69jCm9s3oITQyHQ8MMpFIpxONx2O12rmihs6RhhtAEZUFEMBhENptFOBzmihYzDUJoYjqd8s4Y+ntGIhFkMhkEAgGubpHS4FXDcrnEG/cBGSiMiUQCyWRyJy+kQVoiTIP5GxiasFqtOFrfalmoN5TLZRSLxZ0wkgZpiRD+isPh4J0x1LobjQby+Tw6nQ5Xt8hoCE241l1SRLvdRi6XQ7PZ5IoWMw1CaIICRrNAj0KhgEqlgvl8zhUtdFamqQlNvIxf8LiemqVSaec50xQVNSE1Hw9l9SxpmCE1RWl8V6tV/iZHLBaTHut/e5QbsdeXGj02r3Y2m01dP8uXTHwX8i3xBzmY2PAHTADvcY7fS1N4thIAAAAASUVORK5CYII=)\n",
        "aan de linkerzijde achtereenvolgens ieder blokje code.\n",
        "\n",
        "De eerste blokjes code dienen om alles te initialiseren. Nadien vragen we je de parameters in te vullen en het eigenlijke script te starten.\n"
      ],
      "metadata": {
        "id": "HIQwq2NrMiG7"
      }
    },
    {
      "cell_type": "code",
      "source": [
        "import os, shutil\n",
        "import sys\n",
        "if os.path.exists('AWVGeneric'):\n",
        "  shutil.rmtree('AWVGeneric')\n",
        "!git clone https://github.com/davidvlaminck/AWVGeneric.git\n",
        "sys.path.insert(0, '/content/AWVGeneric')  # adds the Python files from the GitHub repo to the sys-path.\n",
        "sys.path.insert(0, '/content/AWVGeneric/UseCases/SearchDocumentsFromAssets')  # adds the Python files from the GitHub repo to the sys-path.\n",
        "\n",
        "import tempfile\n",
        "from datetime import datetime\n",
        "from functions import download_documents\n",
        "import pandas as pd\n",
        "import re\n",
        "from google.colab import files\n",
        "\n",
        "from API.EMInfraClient import EMInfraClient\n",
        "from API.EMInfraDomain import DocumentCategorieEnum, QueryDTO, PagingModeEnum, SelectionDTO, ExpressionDTO, TermDTO, \\\n",
        "    OperatorEnum, ExpansionsDTO, construct_naampad, LogicalOpEnum, ApplicationEnum, ProvincieEnum\n",
        "from pathlib import Path\n",
        "from API.Enums import AuthType, Environment\n",
        "from Generic.ExcelModifier import ExcelModifier\n",
        "\n",
        "import ipywidgets as widgets"
      ],
      "metadata": {
        "id": "HeTbJbGkRh4A",
        "outputId": "f17ac763-e0fd-4f5c-bf4a-a767fae86858",
        "colab": {
          "base_uri": "https://localhost:8080/"
        }
      },
      "execution_count": null,
      "outputs": [
        {
          "output_type": "stream",
          "name": "stdout",
          "text": [
            "Cloning into 'AWVGeneric'...\n",
            "remote: Enumerating objects: 915, done.\u001b[K\n",
            "remote: Counting objects: 100% (202/202), done.\u001b[K\n",
            "remote: Compressing objects: 100% (53/53), done.\u001b[K\n",
            "remote: Total 915 (delta 173), reused 149 (delta 149), pack-reused 713 (from 2)\u001b[K\n",
            "Receiving objects: 100% (915/915), 974.49 KiB | 18.05 MiB/s, done.\n",
            "Resolving deltas: 100% (553/553), done.\n"
          ]
        }
      ]
    },
    {
      "cell_type": "markdown",
      "source": [
        "Lanceer de code via de play-knop en pas onderstaand de parameters aan naar eigen keuze."
      ],
      "metadata": {
        "id": "tl75yeBTkM2k"
      }
    },
    {
      "cell_type": "code",
      "source": [
        "# edelta_dossiernummer\n",
        "widget_dossiernummer = widgets.Text(value='VWT/DVM/2023/3')\n",
        "print(\"Dossiernummer:\")\n",
        "display(widget_dossiernummer)\n",
        "\n",
        "# document categorie\n",
        "widget_documentcategorie = widgets.SelectMultiple(\n",
        "    options=[(item.value, item) for item in DocumentCategorieEnum],\n",
        "    value=[],\n",
        "    disabled=False\n",
        ")\n",
        "print(\"\\n\")\n",
        "print(\"Selecteer één of meerdere document categoriën (houd SHIFT ingedrukt om meerdere te selecteren):\")\n",
        "display(widget_documentcategorie)\n",
        "\n",
        "# toezichter\n",
        "widget_toezichter = widgets.Text(value='Stefan Missotten')\n",
        "print(\"\\n\")\n",
        "print(\"Vul de naam (voornaam familienaam) van een toezichter in:\")\n",
        "print(\"Via de EM-Infra toepassing kunt u controleren of de toezichter bestaat. https://apps.mow.vlaanderen.be/eminfra/admin/gebruikers\")\n",
        "display(widget_toezichter)\n",
        "\n",
        "# provincie\n",
        "widget_provincie = widgets.SelectMultiple(\n",
        "    options=[(item.value, item) for item in ProvincieEnum],\n",
        "    value=[],\n",
        "    rows=6,\n",
        "    disabled=False\n",
        ")\n",
        "print(\"\\n\")\n",
        "print(\"Selecteer één of meerdere provincies (houd SHIFT ingedrukt om meerdere te selecteren):\")\n",
        "display(widget_provincie)\n"
      ],
      "metadata": {
        "colab": {
          "base_uri": "https://localhost:8080/",
          "height": 476,
          "referenced_widgets": [
            "4bb1e11b5bf241968ee8637b8189b555",
            "ef1cb6b9d96e48d985e465f3923efe0a",
            "fb123befcd6f4e6687b1373a014d9da4",
            "fe936767191b4226b62861e8808c2c3c",
            "b8e6c723506944f086a8cd37ce1bad7b",
            "140475e8a4a14750af709fdb497c55db",
            "a4457dc8864d4261b5fd25161c282973",
            "d91d649c41974e45aacbf9ea3f837a8b",
            "ceed9c3346ec47e4ad85565eb0faeb53",
            "b4c871bcc96a4c3681876cec76a428ec",
            "2c8ec69ef8eb495594c8d6d8a9604f77",
            "5a8ddb1fceb0456294d08b3063b809c0"
          ]
        },
        "id": "QkZgSMWXSph2",
        "outputId": "94757fe7-e822-4a9b-86ed-19260ed2efc8"
      },
      "execution_count": null,
      "outputs": [
        {
          "output_type": "stream",
          "name": "stdout",
          "text": [
            "Dossiernummer:\n"
          ]
        },
        {
          "output_type": "display_data",
          "data": {
            "text/plain": [
              "Text(value='VWT/DVM/2023/3')"
            ],
            "application/vnd.jupyter.widget-view+json": {
              "version_major": 2,
              "version_minor": 0,
              "model_id": "4bb1e11b5bf241968ee8637b8189b555"
            }
          },
          "metadata": {}
        },
        {
          "output_type": "stream",
          "name": "stdout",
          "text": [
            "\n",
            "\n",
            "Selecteer één of meerdere document categoriën (houd SHIFT ingedrukt om meerdere te selecteren):\n"
          ]
        },
        {
          "output_type": "display_data",
          "data": {
            "text/plain": [
              "SelectMultiple(options=(('AANGEBODEN_SERVICES', <DocumentCategorieEnum.AANGEBODEN_SERVICES: 'AANGEBODEN_SERVIC…"
            ],
            "application/vnd.jupyter.widget-view+json": {
              "version_major": 2,
              "version_minor": 0,
              "model_id": "fe936767191b4226b62861e8808c2c3c"
            }
          },
          "metadata": {}
        },
        {
          "output_type": "stream",
          "name": "stdout",
          "text": [
            "\n",
            "\n",
            "Vul de naam (voornaam familienaam) van een toezichter in:\n",
            "Via de EM-Infra toepassing kunt u controleren of de toezichter bestaat. https://apps.mow.vlaanderen.be/eminfra/admin/gebruikers\n"
          ]
        },
        {
          "output_type": "display_data",
          "data": {
            "text/plain": [
              "Text(value='Stefan Missotten')"
            ],
            "application/vnd.jupyter.widget-view+json": {
              "version_major": 2,
              "version_minor": 0,
              "model_id": "a4457dc8864d4261b5fd25161c282973"
            }
          },
          "metadata": {}
        },
        {
          "output_type": "stream",
          "name": "stdout",
          "text": [
            "\n",
            "\n",
            "Selecteer één of meerdere provincies (houd SHIFT ingedrukt om meerdere te selecteren):\n"
          ]
        },
        {
          "output_type": "display_data",
          "data": {
            "text/plain": [
              "SelectMultiple(options=(('antwerpen', <ProvincieEnum.ANTWERPEN: 'antwerpen'>), ('west-vlaanderen', <ProvincieE…"
            ],
            "application/vnd.jupyter.widget-view+json": {
              "version_major": 2,
              "version_minor": 0,
              "model_id": "b4c871bcc96a4c3681876cec76a428ec"
            }
          },
          "metadata": {}
        }
      ]
    },
    {
      "cell_type": "markdown",
      "source": [
        "Controleer de gekozen parameters"
      ],
      "metadata": {
        "id": "m4IFxiFkKmt3"
      }
    },
    {
      "cell_type": "code",
      "source": [
        "# edelta_dossiernummer\n",
        "edelta_dossiernummer = widget_dossiernummer.value\n",
        "print(f'Dossiernummer:\\t\\t\\t\\t{edelta_dossiernummer}')\n",
        "\n",
        "# document categorie\n",
        "document_categorien = [item for item in widget_documentcategorie.value]\n",
        "print(f'Document categorie/categoriën:\\t\\t{[item.value for item in document_categorien]}')\n",
        "\n",
        "# toezichter\n",
        "toezichter = widget_toezichter.value\n",
        "print(f'Toezichter:\\t\\t\\t\\t{toezichter}')\n",
        "\n",
        "# provincie\n",
        "provincie = [item for item in widget_provincie.value]\n",
        "print(f'Provincie(s):\\t\\t\\t\\t{[item.value for item in provincie]}')"
      ],
      "metadata": {
        "id": "b4Bx1_XCnAR2",
        "colab": {
          "base_uri": "https://localhost:8080/"
        },
        "outputId": "d424556b-c9fc-44ce-9e0d-5a78f95612f2"
      },
      "execution_count": null,
      "outputs": [
        {
          "output_type": "stream",
          "name": "stdout",
          "text": [
            "Dossiernummer:\t\t\t\tVWT/DVM/2023/3\n",
            "Document categorie/categoriën:\t\t['FOTO']\n",
            "Toezichter:\t\t\t\tStefan Missotten\n",
            "Provincie(s):\t\t\t\t['vlaams-brabant']\n"
          ]
        }
      ]
    },
    {
      "cell_type": "markdown",
      "source": [
        "Haal een cookie op volgens [deze instructies](https://sites.google.com/mow.vlaanderen.be/em-infra/afspraken-conventies/awv-cookie-ophalen):"
      ],
      "metadata": {
        "id": "0ptNEH8kkpwj"
      }
    },
    {
      "cell_type": "code",
      "source": [
        "#cookie\n",
        "widget_cookie = widgets.Text(value='2cfb3172c2434454b07dac14a1ee8359')\n",
        "print(\"Vul de cookie in:\")\n",
        "display(widget_cookie)"
      ],
      "metadata": {
        "id": "htWozR3aoPG8",
        "colab": {
          "base_uri": "https://localhost:8080/",
          "height": 66,
          "referenced_widgets": [
            "3c25568ecf2b487893e419a59fc3dbf5",
            "c6d58323ab5447cfb2eb525c5252ea54",
            "11e5d590d56f4c73a8b4fef3f7e05358"
          ]
        },
        "outputId": "16c691c0-8fee-4b08-c84a-fa6782253ecb"
      },
      "execution_count": null,
      "outputs": [
        {
          "output_type": "stream",
          "name": "stdout",
          "text": [
            "Vul de cookie in:\n"
          ]
        },
        {
          "output_type": "display_data",
          "data": {
            "text/plain": [
              "Text(value='2cfb3172c2434454b07dac14a1ee8359')"
            ],
            "application/vnd.jupyter.widget-view+json": {
              "version_major": 2,
              "version_minor": 0,
              "model_id": "3c25568ecf2b487893e419a59fc3dbf5"
            }
          },
          "metadata": {}
        }
      ]
    },
    {
      "cell_type": "code",
      "source": [
        "# cookie\n",
        "cookie = widget_cookie.value\n",
        "eminfra_client = EMInfraClient(cookie=cookie, auth_type=AuthType.COOKIE, env=Environment.PRD)\n",
        "print(f\"Uw persoonlijke cookie is: {cookie}\")"
      ],
      "metadata": {
        "colab": {
          "base_uri": "https://localhost:8080/"
        },
        "id": "vKPgS-bLMBHu",
        "outputId": "d413284e-0806-4df6-de91-9c96370d54f5"
      },
      "execution_count": null,
      "outputs": [
        {
          "output_type": "stream",
          "name": "stdout",
          "text": [
            "Uw persoonlijke cookie is: 38df78e30da4448a9cbb94517cd7fb08\n"
          ]
        }
      ]
    },
    {
      "cell_type": "markdown",
      "source": [
        "Lanceer de functie om alle documenten te downloaden. Nadat alle documenten gedownload zijn, worden deze gezipt en wordt de .zip-file automatisch gedownload.\n",
        "\n",
        "Afhankelijk van de gekozen parameters krijgt u meer/minder bestanden en duurt dit langer."
      ],
      "metadata": {
        "id": "KMyGN_y9olsx"
      }
    },
    {
      "cell_type": "code",
      "source": [
        "output_zip = download_documents(eminfra_client=eminfra_client, edelta_dossiernummer=edelta_dossiernummer,\n",
        "                    document_categorie=document_categorien, provincie=provincie, toezichter=toezichter)"
      ],
      "metadata": {
        "id": "RsJWyYtsoUoo"
      },
      "execution_count": null,
      "outputs": []
    },
    {
      "cell_type": "code",
      "source": [
        "files.download(output_zip)"
      ],
      "metadata": {
        "id": "a7gE8LCDuBRy"
      },
      "execution_count": null,
      "outputs": []
    }
  ]
}